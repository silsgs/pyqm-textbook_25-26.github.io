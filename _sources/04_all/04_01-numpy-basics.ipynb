{
 "cells": [
  {
   "cell_type": "markdown",
   "metadata": {
    "cell_id": "00000-9d7b809c-0f50-4890-89d1-968ce40458c6",
    "deepnote_cell_type": "markdown",
    "id": "s3XFhs_4UD9P"
   },
   "source": [
    "# Part 1. Numpy for numerical computations\n",
    "\n",
    "## 1.1 Introduction to Numpy\n",
    "Numpy is a powerful library for numerical computations in Python. It provides support for arrays, matrices, and a wide range of mathematical functions to operate on these data structures.\n",
    "\n",
    "### 1.1.1 Installing Numpy\n",
    "You might have Numpy already installed if you are using the Anaconda environment we created the first week. If not, you can install it using conda or pip:\n",
    "\n",
    "```bash\n",
    "conda install numpy\n",
    "pip install numpy\n",
    "```\n",
    "\n",
    "### 1.1.2 Importing Numpy\n",
    "\n",
    "As we have seen in previous lectures, Python runs code in modules called libraries. There are some libraries that come pre-installed with Python, but many others need to be installed separately. However it runs with some libraries by default, such as the `math` library. In the case of Numpy, it needs to be installed first, and then import it in your code to use it. Importing a library makes all its functions and objects available in your code. (Remember from Week 3 Functions and Classes for creating your own objects and functions.)\n",
    "\n",
    "To do that, Python has a built-in function called `import` which allows you to import libraries. It is common practice to import Numpy with the alias `np` for abbreviation:\n",
    "```python\n",
    "import numpy as np\n",
    "``` \n",
    "We use the alias `np` to make it easier to reference Numpy functions and objects in our code.\n",
    "\n",
    "## 1.2 Numpy Arrays    \n",
    "\n",
    "Numpy provides a powerful array object called `ndarray` (n-dimensional array). This object allows you to create and manipulate arrays of any dimension. You can create a Numpy array from a Python list or tuple using the `np.array()` function:\n",
    "\n",
    "```python\n",
    "# General syntax\n",
    "arr = np.array(object, dtype)\n",
    "\n",
    "import numpy as np  \n",
    "# Creating a 1D array from a list\n",
    "arr1d = np.array([1, 2, 3, 4, 5])  \n",
    "print(arr1d)    \n",
    "\n",
    "# Creating a 2D array from a list of lists\n",
    "arr2d = np.array([[1, 2, 3], [4, 5, 6]])  \n",
    "print(arr2d)\n",
    "\n",
    "# Creating a 2D array from a list of lists with a specified data type\n",
    "arr2d = np.array([[1, 2, 3], [4, 5, 6]], dtype=float)  \n",
    "print(arr2d)\n",
    "```"
   ]
  },
  {
   "cell_type": "markdown",
   "metadata": {
    "cell_id": "00005-4ad21aee-afdf-432b-83f4-1d2172f34df8",
    "deepnote_cell_type": "markdown",
    "id": "IA6oukp7YtSZ"
   },
   "source": [
    "Lets use a list as our \"object\" and also set the data type to \"float\"."
   ]
  },
  {
   "cell_type": "code",
   "execution_count": 3,
   "metadata": {
    "cell_id": "00006-5c9f5402-adfc-4e21-a51b-c224b5bafd8f",
    "colab": {
     "base_uri": "https://localhost:8080/"
    },
    "deepnote_cell_type": "code",
    "executionInfo": {
     "elapsed": 435,
     "status": "ok",
     "timestamp": 1624481495714,
     "user": {
      "displayName": "Conor Dunne",
      "photoUrl": "",
      "userId": "14934053525675490562"
     },
     "user_tz": -60
    },
    "id": "06FiGlhTUlP7",
    "outputId": "f402494a-74a3-49cc-dbda-3cc031a3d40c"
   },
   "outputs": [
    {
     "name": "stdout",
     "output_type": "stream",
     "text": [
      "[1. 2.]\n",
      "<class 'numpy.ndarray'>\n",
      "float64\n"
     ]
    }
   ],
   "source": [
    "arr = np.array([1,2.0], dtype=float)\n",
    "\n",
    "print(arr)\n",
    "\n",
    "print(type(arr))\n",
    "print(arr.dtype)"
   ]
  },
  {
   "cell_type": "markdown",
   "metadata": {
    "cell_id": "00007-d81fcc28-087b-4291-a3f0-aa2c35f31e3b",
    "deepnote_cell_type": "markdown",
    "id": "2gD9t3CLY7Gi"
   },
   "source": [
    "We can similary use a tuple, or any array-like object, in the definition."
   ]
  },
  {
   "cell_type": "code",
   "execution_count": 4,
   "metadata": {
    "cell_id": "00008-370a1e70-26bb-4f95-84d3-b5b984f18bc4",
    "colab": {
     "base_uri": "https://localhost:8080/"
    },
    "deepnote_cell_type": "code",
    "executionInfo": {
     "elapsed": 282,
     "status": "ok",
     "timestamp": 1624481515733,
     "user": {
      "displayName": "Conor Dunne",
      "photoUrl": "",
      "userId": "14934053525675490562"
     },
     "user_tz": -60
    },
    "id": "du0n1ZiteJbc",
    "outputId": "dd2f28d3-f88e-4f85-c204-d70015d0a2a8"
   },
   "outputs": [
    {
     "name": "stdout",
     "output_type": "stream",
     "text": [
      "[1 2]\n",
      "<class 'numpy.ndarray'>\n",
      "int64\n"
     ]
    }
   ],
   "source": [
    "arr = np.array((1.0,2), dtype=int)\n",
    "\n",
    "print(arr)\n",
    "\n",
    "print(type(arr))\n",
    "print(arr.dtype)"
   ]
  },
  {
   "cell_type": "markdown",
   "metadata": {
    "cell_id": "00009-f4b2f261-c600-4f58-b259-48c8bf459be5",
    "deepnote_cell_type": "markdown",
    "id": "--loZNxMpcLv"
   },
   "source": [
    "\n",
    "We access the data in the following way"
   ]
  },
  {
   "cell_type": "code",
   "execution_count": 5,
   "metadata": {
    "cell_id": "00010-8e6c818b-11e1-45fe-913d-b2440f4af454",
    "colab": {
     "base_uri": "https://localhost:8080/"
    },
    "deepnote_cell_type": "code",
    "executionInfo": {
     "elapsed": 310,
     "status": "ok",
     "timestamp": 1624481572776,
     "user": {
      "displayName": "Conor Dunne",
      "photoUrl": "",
      "userId": "14934053525675490562"
     },
     "user_tz": -60
    },
    "id": "tVGHJKwVpXH4",
    "outputId": "1f9132c5-6a4b-40d3-fac0-42f039423bf0"
   },
   "outputs": [
    {
     "name": "stdout",
     "output_type": "stream",
     "text": [
      "1\n"
     ]
    }
   ],
   "source": [
    "print(arr[0])"
   ]
  },
  {
   "cell_type": "markdown",
   "metadata": {
    "cell_id": "00011-60339912-7124-441f-8f6b-6df80a487272",
    "deepnote_cell_type": "markdown",
    "id": "avHii262ZMIW"
   },
   "source": [
    "Notice also that the data types of our list and tuple were recast according to the data type given in the definition."
   ]
  },
  {
   "cell_type": "markdown",
   "metadata": {
    "cell_id": "00012-6233a572-1f0a-4e15-9d48-b43fca3355df",
    "deepnote_cell_type": "markdown",
    "id": "5d43vjp3yUBi"
   },
   "source": [
    "These numpy array objects are like lists but have many more structures and functions that come along with them that make them easy to use. They are also significantly faster to use in computations than Python lists. A resulting constraint of this speed-up is that numpy arrays must contain elements of the same data type, as opposed to python lists which can contain multiple different data types. \n",
    "\n",
    "What happens when we don't specify the data type?"
   ]
  },
  {
   "cell_type": "code",
   "execution_count": 6,
   "metadata": {
    "cell_id": "00013-6752d377-840a-446a-ac23-b8afadc2e4ae",
    "colab": {
     "base_uri": "https://localhost:8080/"
    },
    "deepnote_cell_type": "code",
    "executionInfo": {
     "elapsed": 132,
     "status": "ok",
     "timestamp": 1624475938979,
     "user": {
      "displayName": "Conor Dunne",
      "photoUrl": "",
      "userId": "14934053525675490562"
     },
     "user_tz": -60
    },
    "id": "wOTuXOUxeEVT",
    "outputId": "379c1905-f16c-4bd5-8cfe-61c8d362c807"
   },
   "outputs": [
    {
     "name": "stdout",
     "output_type": "stream",
     "text": [
      "[1. 1.]\n"
     ]
    }
   ],
   "source": [
    "arr = np.array([1.0,1])\n",
    "print(arr)"
   ]
  },
  {
   "cell_type": "code",
   "execution_count": 7,
   "metadata": {
    "cell_id": "00014-4032704e-fc18-45e8-bb2a-3418d7adfa54",
    "colab": {
     "base_uri": "https://localhost:8080/"
    },
    "deepnote_cell_type": "code",
    "executionInfo": {
     "elapsed": 124,
     "status": "ok",
     "timestamp": 1624475938979,
     "user": {
      "displayName": "Conor Dunne",
      "photoUrl": "",
      "userId": "14934053525675490562"
     },
     "user_tz": -60
    },
    "id": "aHuSzVwkZufj",
    "outputId": "26b72d98-e1e1-44a8-dfe5-1bb5e1e4ff4d"
   },
   "outputs": [
    {
     "name": "stdout",
     "output_type": "stream",
     "text": [
      "[1. 1.]\n"
     ]
    }
   ],
   "source": [
    "arr = np.array([1,1.0])\n",
    "print(arr)"
   ]
  },
  {
   "cell_type": "markdown",
   "metadata": {
    "cell_id": "00015-b3bdc97b-956f-4d4f-bd08-e770627a6e74",
    "deepnote_cell_type": "markdown",
    "id": "KpftyJ4JZy7m"
   },
   "source": [
    "Notice that the default data type is set to the minimum data type required to store all elements in the array-like object. Floats require more memory than integers, so in the above cases the data type is set to float.\n",
    "\n",
    "There are also some numpy array methods we can call on to describe our arrays:"
   ]
  },
  {
   "cell_type": "code",
   "execution_count": 8,
   "metadata": {
    "cell_id": "00016-f9c14cff-822b-4f7d-8426-ff0e1bd62111",
    "colab": {
     "base_uri": "https://localhost:8080/"
    },
    "deepnote_cell_type": "code",
    "executionInfo": {
     "elapsed": 117,
     "status": "ok",
     "timestamp": 1624475938980,
     "user": {
      "displayName": "Conor Dunne",
      "photoUrl": "",
      "userId": "14934053525675490562"
     },
     "user_tz": -60
    },
    "id": "FKa36sWfgmEM",
    "outputId": "e0f1bffa-39d1-46d6-bf2c-f87d668234cd"
   },
   "outputs": [
    {
     "name": "stdout",
     "output_type": "stream",
     "text": [
      "(2,)\n",
      "2\n",
      "1\n"
     ]
    }
   ],
   "source": [
    "print(arr.shape) #(Rows,Columns)\n",
    "print(arr.size)  #Rows x Columns\n",
    "print(arr.ndim)  #Dimensions of array"
   ]
  },
  {
   "cell_type": "markdown",
   "metadata": {
    "cell_id": "00017-76a28021-1913-4318-a4bd-7113292bb426",
    "deepnote_cell_type": "markdown",
    "id": "aNtc0nLwKg6P"
   },
   "source": [
    "## 1.3 Copying Arrays"
   ]
  },
  {
   "cell_type": "markdown",
   "metadata": {
    "cell_id": "00018-1d749df1-af37-4fef-bfa5-ef8c846f3fc6",
    "deepnote_cell_type": "markdown",
    "id": "CiSu0x4hJuMN"
   },
   "source": [
    "If we try to copy the array by assignment, this will reference to the original array, so be careful"
   ]
  },
  {
   "cell_type": "code",
   "execution_count": 9,
   "metadata": {
    "cell_id": "00019-6d90903a-6d60-40a6-888a-538b3664fc17",
    "colab": {
     "base_uri": "https://localhost:8080/"
    },
    "deepnote_cell_type": "code",
    "executionInfo": {
     "elapsed": 200,
     "status": "ok",
     "timestamp": 1624523698997,
     "user": {
      "displayName": "Conor Dunne",
      "photoUrl": "",
      "userId": "14934053525675490562"
     },
     "user_tz": -60
    },
    "id": "wypO5HHJJ3ey",
    "outputId": "5b8a5cc4-00da-4f78-d805-8d67f25a642c"
   },
   "outputs": [
    {
     "name": "stdout",
     "output_type": "stream",
     "text": [
      "[ 1  2 10  4  5]\n",
      "[ 1  2 10  4  5]\n"
     ]
    }
   ],
   "source": [
    "arr = np.array([1,2,3,4,5])\n",
    "cop = arr\n",
    "\n",
    "cop[2] = 10\n",
    "\n",
    "print(arr)\n",
    "print(cop)"
   ]
  },
  {
   "cell_type": "markdown",
   "metadata": {
    "cell_id": "00020-5c98ad13-b69a-466c-a05c-0386fb4804c1",
    "deepnote_cell_type": "markdown",
    "id": "PFJDhMCIKbxL"
   },
   "source": [
    "```arr.copy()```"
   ]
  },
  {
   "cell_type": "markdown",
   "metadata": {
    "cell_id": "00021-4ebe8d46-fd62-40b7-8bbb-2bbc7bd4be95",
    "deepnote_cell_type": "markdown",
    "id": "RaVqiYVMKIAH"
   },
   "source": [
    "We use the $copy()$ method to actually copy an array."
   ]
  },
  {
   "cell_type": "code",
   "execution_count": 10,
   "metadata": {
    "cell_id": "00022-bf12e6b3-9213-432a-a7e7-35590b7a9a86",
    "colab": {
     "base_uri": "https://localhost:8080/"
    },
    "deepnote_cell_type": "code",
    "executionInfo": {
     "elapsed": 199,
     "status": "ok",
     "timestamp": 1624523762044,
     "user": {
      "displayName": "Conor Dunne",
      "photoUrl": "",
      "userId": "14934053525675490562"
     },
     "user_tz": -60
    },
    "id": "ysoA73OnKUKI",
    "outputId": "3cd7a6e1-4b4d-4df9-bbfb-306a04e2f409"
   },
   "outputs": [
    {
     "name": "stdout",
     "output_type": "stream",
     "text": [
      "[1 2 3 4 5]\n",
      "[ 1  2 10  4  5]\n"
     ]
    }
   ],
   "source": [
    "arr = np.array([1,2,3,4,5])\n",
    "cop = arr.copy()\n",
    "\n",
    "cop[2] = 10\n",
    "\n",
    "print(arr)\n",
    "print(cop)"
   ]
  },
  {
   "cell_type": "markdown",
   "metadata": {
    "cell_id": "00023-d6b04fa1-0559-4553-a0c9-de4e9d528d75",
    "deepnote_cell_type": "markdown",
    "id": "xQ7vtXlsaw3l"
   },
   "source": [
    "## 1.4 Basic Operators\n",
    "\n",
    "We can use the basic mathematical operators ( `+`, `-`, `*`, `/`, ` ** ` ) on Numpy arrays. They are applied element-wise."
   ]
  },
  {
   "cell_type": "code",
   "execution_count": 11,
   "metadata": {},
   "outputs": [
    {
     "name": "stdout",
     "output_type": "stream",
     "text": [
      "arr1 + arr2 =  [ 7  9 11 13 15]\n",
      "arr1 - arr2 =  [-5 -5 -5 -5 -5]\n",
      "arr1 * arr2 =  [ 6 14 24 36 50]\n",
      "arr1 / arr2 =  [0.16666667 0.28571429 0.375      0.44444444 0.5       ]\n",
      "arr1 ** arr2 =  [      1     128    6561  262144 9765625]\n"
     ]
    }
   ],
   "source": [
    "arr1 = np.array([1,2,3,4,5])\n",
    "arr2 = np.array([6,7,8,9,10])\n",
    "\n",
    "print('arr1 + arr2 = ', arr1+arr2)\n",
    "print('arr1 - arr2 = ', arr1-arr2)\n",
    "print('arr1 * arr2 = ', arr1*arr2)\n",
    "print('arr1 / arr2 = ', arr1/arr2)\n",
    "print('arr1 ** arr2 = ', arr1**arr2)"
   ]
  },
  {
   "cell_type": "markdown",
   "metadata": {},
   "source": [
    "## 1.5 Numpy Constants\n",
    "Numpy provides several mathematical constants, such as `np.pi` for π and `np.e` for Euler's number."
   ]
  },
  {
   "cell_type": "code",
   "execution_count": 47,
   "metadata": {},
   "outputs": [
    {
     "name": "stdout",
     "output_type": "stream",
     "text": [
      "pi =  3.141592653589793\n",
      "e =  2.718281828459045\n",
      "euler gamma =  0.5772156649015329\n",
      "infinity =  inf\n",
      "infinity =  inf\n",
      "infinity =  inf\n",
      "infinity =  inf\n",
      "positive infinity =  inf\n",
      "negative infinity =  -inf\n",
      "positive zero =  0.0\n",
      "negative zero =  -0.0\n",
      "nan =  nan\n",
      "nan =  nan\n",
      "nan =  nan\n",
      "None/newaxis =  None\n"
     ]
    }
   ],
   "source": [
    "print('pi = ',np.pi)\n",
    "print('e = ',np.e)\n",
    "print('euler gamma = ',np.euler_gamma)\n",
    "\n",
    "print('infinity = ',np.Inf)\n",
    "print('infinity = ',np.Infinity)\n",
    "print('infinity = ',np.inf)\n",
    "print('infinity = ',np.infty)\n",
    "print('positive infinity = ',np.PINF)\n",
    "print('negative infinity = ',np.NINF)\n",
    "\n",
    "print('positive zero = ',np.PZERO)\n",
    "print('negative zero = ',np.NZERO)\n",
    "\n",
    "print('nan = ',np.nan)\n",
    "print('nan = ',np.NAN)\n",
    "print('nan = ',np.NaN)\n",
    "\n",
    "print('None/newaxis = ',np.newaxis)"
   ]
  },
  {
   "cell_type": "code",
   "execution_count": 13,
   "metadata": {},
   "outputs": [
    {
     "name": "stdout",
     "output_type": "stream",
     "text": [
      "sin(arr) =  [ 0.84147098  0.90929743  0.14112001 -0.7568025  -0.95892427]\n",
      "cos(arr) =  [ 0.54030231 -0.41614684 -0.9899925  -0.65364362  0.28366219]\n",
      "exp(arr) =  [  2.71828183   7.3890561   20.08553692  54.59815003 148.4131591 ]\n",
      "sqrt(arr) =  [1.         1.41421356 1.73205081 2.         2.23606798]\n",
      "log(arr) =  [0.         0.69314718 1.09861229 1.38629436 1.60943791]\n"
     ]
    }
   ],
   "source": [
    "arr = np.array([1,2,3,4,5])\n",
    "\n",
    "print('sin(arr) = ', np.sin(arr))\n",
    "\n",
    "print('cos(arr) = ', np.cos(arr))\n",
    "\n",
    "print('exp(arr) = ', np.exp(arr)) # e**x\n",
    "\n",
    "print('sqrt(arr) = ', np.sqrt(arr))\n",
    "\n",
    "print('log(arr) = ', np.log(arr)) # The natural log"
   ]
  },
  {
   "cell_type": "markdown",
   "metadata": {
    "cell_id": "00025-90e50403-5620-4b7f-9c34-9e2c5ff9c983",
    "deepnote_cell_type": "markdown",
    "id": "eLlbLoxdbBGo"
   },
   "source": [
    "## 1.7 0-dimensional Arrays\n",
    "We have been working with one-dimensional arrays so far, it turns out we can make 0-dimensional arrays. They are not very useful though"
   ]
  },
  {
   "cell_type": "code",
   "execution_count": 14,
   "metadata": {
    "cell_id": "00026-ed8facef-2307-4749-bfb3-c7af21c58690",
    "colab": {
     "base_uri": "https://localhost:8080/"
    },
    "deepnote_cell_type": "code",
    "executionInfo": {
     "elapsed": 199,
     "status": "ok",
     "timestamp": 1624528423159,
     "user": {
      "displayName": "Conor Dunne",
      "photoUrl": "",
      "userId": "14934053525675490562"
     },
     "user_tz": -60
    },
    "id": "pie1MDpbcBsI",
    "outputId": "ee5b501b-8bce-4c49-985f-89cb5fd5c6e0"
   },
   "outputs": [
    {
     "name": "stdout",
     "output_type": "stream",
     "text": [
      "2\n",
      "0\n"
     ]
    }
   ],
   "source": [
    "arr0 = np.array(2)\n",
    "print(arr0)\n",
    "print(arr0.ndim)"
   ]
  },
  {
   "cell_type": "markdown",
   "metadata": {
    "cell_id": "00027-5624738e-50d1-4821-9707-7a77432411a2",
    "deepnote_cell_type": "markdown",
    "id": "jSUrcdMlfjsf"
   },
   "source": [
    "## 1.8 Multi-Dimensional Numpy Arrays\n"
   ]
  },
  {
   "cell_type": "markdown",
   "metadata": {
    "cell_id": "00028-ac0d6ba3-8574-4dbf-a9c7-ecbb0b984f7f",
    "deepnote_cell_type": "markdown",
    "id": "dpHTWXDiM6Qj"
   },
   "source": [
    "### 1.8.1 Two-Dimensional Numpy Arrays"
   ]
  },
  {
   "cell_type": "markdown",
   "metadata": {
    "cell_id": "00029-ad4ada99-8245-407b-9dc9-5ba59520a7fe",
    "deepnote_cell_type": "markdown",
    "id": "d1960aLVeEAd"
   },
   "source": [
    "We can also input multi-dimensional objects.This is very useful for handling matrices and vectors,or linear algebra more generally, which are key in the world of quantum computing. Recall our usage of nested lists."
   ]
  },
  {
   "cell_type": "code",
   "execution_count": 15,
   "metadata": {
    "cell_id": "00030-ccb0eba4-cf4c-4e83-95c1-ef8dd3f6d83d",
    "colab": {
     "base_uri": "https://localhost:8080/"
    },
    "deepnote_cell_type": "code",
    "executionInfo": {
     "elapsed": 206,
     "status": "ok",
     "timestamp": 1624527908708,
     "user": {
      "displayName": "Conor Dunne",
      "photoUrl": "",
      "userId": "14934053525675490562"
     },
     "user_tz": -60
    },
    "id": "JjmmPu5IjCWk",
    "outputId": "8402939b-3089-4705-8763-51454a452034"
   },
   "outputs": [
    {
     "name": "stdout",
     "output_type": "stream",
     "text": [
      "H = [[ 0.70710678  0.70710678]\n",
      " [ 0.70710678 -0.70710678]]\n",
      "X = [[0. 1.]\n",
      " [1. 0.]]\n"
     ]
    }
   ],
   "source": [
    "H = [[1,1],[1,-1]]\n",
    "X = [[0,1],[1,0]]\n",
    "\n",
    "Hmat = np.array(H,float)/(np.sqrt(2))\n",
    "Xmat = np.array(X,float)\n",
    "\n",
    "print('H = {}'.format(Hmat))\n",
    "print('X = {}'.format(Xmat))"
   ]
  },
  {
   "cell_type": "markdown",
   "metadata": {
    "cell_id": "00031-8021dfce-2bd9-4f9d-99c0-6db3de58fe7e",
    "deepnote_cell_type": "markdown",
    "id": "SKcnz9k0psHZ"
   },
   "source": [
    "We access the data in a different way to lists"
   ]
  },
  {
   "cell_type": "code",
   "execution_count": 16,
   "metadata": {
    "cell_id": "00032-9fbe0d2d-6e23-40d6-afd8-8a1c8b01264c",
    "colab": {
     "base_uri": "https://localhost:8080/"
    },
    "deepnote_cell_type": "code",
    "executionInfo": {
     "elapsed": 281,
     "status": "ok",
     "timestamp": 1624481740590,
     "user": {
      "displayName": "Conor Dunne",
      "photoUrl": "",
      "userId": "14934053525675490562"
     },
     "user_tz": -60
    },
    "id": "WiV6ddgrpwBy",
    "outputId": "438e2e22-33e9-4a28-8f32-1d7fc101a966"
   },
   "outputs": [
    {
     "name": "stdout",
     "output_type": "stream",
     "text": [
      "-1\n",
      "-0.7071067811865475\n"
     ]
    }
   ],
   "source": [
    "print(H[1][1])#This accesses data in a 2-d list\n",
    "\n",
    "print(Hmat[1,1])#This accesses data in a 2-d numpy arrray"
   ]
  },
  {
   "cell_type": "code",
   "execution_count": 17,
   "metadata": {
    "cell_id": "00033-a2c0f52b-3702-4f3d-99a7-44bc053f3369",
    "colab": {
     "base_uri": "https://localhost:8080/"
    },
    "deepnote_cell_type": "code",
    "executionInfo": {
     "elapsed": 312,
     "status": "ok",
     "timestamp": 1624479694531,
     "user": {
      "displayName": "Conor Dunne",
      "photoUrl": "",
      "userId": "14934053525675490562"
     },
     "user_tz": -60
    },
    "id": "IopQ0dQ_ss0B",
    "outputId": "b0f8daea-5a37-45c5-eb58-2d6449c35e34"
   },
   "outputs": [
    {
     "name": "stdout",
     "output_type": "stream",
     "text": [
      "shape = (Rows,Columns) = (2, 2)\n",
      "size = Rows x Columns = 4\n",
      "ndim = number of dimensions = 2\n"
     ]
    }
   ],
   "source": [
    "print('shape = (Rows,Columns) = {}'.format(Hmat.shape))\n",
    "print('size = Rows x Columns = {}'.format(Hmat.size))\n",
    "print('ndim = number of dimensions = {}'.format(Hmat.ndim))"
   ]
  },
  {
   "cell_type": "markdown",
   "metadata": {
    "cell_id": "00034-659337a4-ad3b-472d-9413-aa0747599f40",
    "deepnote_cell_type": "markdown",
    "id": "ErLYQ50uqkYi"
   },
   "source": [
    "## 1.9 Multiplying Matrices & Vectors"
   ]
  },
  {
   "cell_type": "markdown",
   "metadata": {
    "cell_id": "00035-57cefb2a-0ef0-4d4a-86b8-7796861aa310",
    "deepnote_cell_type": "markdown",
    "id": "SwZLg74ZlA97"
   },
   "source": [
    "```np.matmul(A,B)```"
   ]
  },
  {
   "cell_type": "markdown",
   "metadata": {
    "cell_id": "00036-0a595b12-3cf4-4e57-baaf-25d5c3bb2c76",
    "deepnote_cell_type": "markdown",
    "id": "nByyGvXdl8es"
   },
   "source": [
    "Lets use the $np.matmul()$ method to multiply two matrices. First note that order of multiplication with matrices matters!"
   ]
  },
  {
   "cell_type": "code",
   "execution_count": 18,
   "metadata": {
    "cell_id": "00037-8d15f537-0747-46f0-998f-24cba98c0822",
    "colab": {
     "base_uri": "https://localhost:8080/"
    },
    "deepnote_cell_type": "code",
    "executionInfo": {
     "elapsed": 291,
     "status": "ok",
     "timestamp": 1624482065688,
     "user": {
      "displayName": "Conor Dunne",
      "photoUrl": "",
      "userId": "14934053525675490562"
     },
     "user_tz": -60
    },
    "id": "rCB6AtaEkhUz",
    "outputId": "fbf315d5-93c6-4dce-c6e0-dbd58e8a3f6f"
   },
   "outputs": [
    {
     "name": "stdout",
     "output_type": "stream",
     "text": [
      "[[ 0.70710678 -0.70710678]\n",
      " [ 0.70710678  0.70710678]] \n",
      "\n",
      "[[ 0.70710678  0.70710678]\n",
      " [-0.70710678  0.70710678]] \n",
      "\n",
      "[[ True False]\n",
      " [False  True]]\n"
     ]
    }
   ],
   "source": [
    "A = np.matmul(Xmat,Hmat)\n",
    "B = np.matmul(Hmat,Xmat)\n",
    "\n",
    "print(A,'\\n') #'\\n' recall this just moves to a new line\n",
    "\n",
    "print(B,'\\n')\n",
    "\n",
    "print(A==B)"
   ]
  },
  {
   "cell_type": "markdown",
   "metadata": {
    "cell_id": "00038-0e0728ba-aac3-40ce-bd50-3bb264a794c0",
    "deepnote_cell_type": "markdown",
    "id": "COv6UjPrlIP6"
   },
   "source": [
    "Now lets multiply three matrices together, $$HXH$$\n",
    "We can nest the $np.matmul()$ to accomplish this faster"
   ]
  },
  {
   "cell_type": "code",
   "execution_count": 19,
   "metadata": {
    "cell_id": "00039-63c18b88-f07c-478c-866c-4f34aaa2cd32",
    "colab": {
     "base_uri": "https://localhost:8080/"
    },
    "deepnote_cell_type": "code",
    "executionInfo": {
     "elapsed": 319,
     "status": "ok",
     "timestamp": 1624479604732,
     "user": {
      "displayName": "Conor Dunne",
      "photoUrl": "",
      "userId": "14934053525675490562"
     },
     "user_tz": -60
    },
    "id": "ybWOcYSDklZX",
    "outputId": "16ed3965-a5dc-445f-8792-5324466647ef"
   },
   "outputs": [
    {
     "name": "stdout",
     "output_type": "stream",
     "text": [
      "Z = [[ 1.00000000e+00  2.23711432e-17]\n",
      " [-2.23711432e-17 -1.00000000e+00]]\n"
     ]
    }
   ],
   "source": [
    "Zmat = np.matmul( Hmat , np.matmul(Xmat,Hmat) )\n",
    "print('Z = {}'.format(Zmat))"
   ]
  },
  {
   "cell_type": "markdown",
   "metadata": {
    "cell_id": "00040-8b73229f-3040-4569-a7bd-f45238735bf6",
    "deepnote_cell_type": "markdown",
    "id": "9NkpInDHh6ri"
   },
   "source": [
    "We get an ugly answer because we are using floats of an irrational number $\\frac{1}{\\sqrt{2}}$, but notice the negligibility of numbers of order $10^{-17}$. Lets tidy this up with the $np.round()$ method\n",
    "\n",
    "```np.round(array, decimals=0)```"
   ]
  },
  {
   "cell_type": "code",
   "execution_count": 20,
   "metadata": {
    "cell_id": "00041-7a9bae6d-cfff-45cd-9a42-e9880a03ee95",
    "colab": {
     "base_uri": "https://localhost:8080/"
    },
    "deepnote_cell_type": "code",
    "executionInfo": {
     "elapsed": 314,
     "status": "ok",
     "timestamp": 1624479631862,
     "user": {
      "displayName": "Conor Dunne",
      "photoUrl": "",
      "userId": "14934053525675490562"
     },
     "user_tz": -60
    },
    "id": "tsDDmvjXh26k",
    "outputId": "2e129792-174d-46dc-a364-69080dda4d95"
   },
   "outputs": [
    {
     "name": "stdout",
     "output_type": "stream",
     "text": [
      "Z = [[ 1.  0.]\n",
      " [-0. -1.]]\n"
     ]
    }
   ],
   "source": [
    "Zmat = np.round(Zmat) \n",
    "print('Z = {}'.format(Zmat))"
   ]
  },
  {
   "cell_type": "markdown",
   "metadata": {
    "cell_id": "00042-2f6c818b-5684-4f8e-ab87-0c900145b732",
    "deepnote_cell_type": "markdown",
    "id": "MEInW1HRmU7G"
   },
   "source": [
    "We still get an ugly $-0.0$, but whatever..."
   ]
  },
  {
   "cell_type": "markdown",
   "metadata": {
    "cell_id": "00043-3c92e155-e420-4873-a5af-737304b424cf",
    "deepnote_cell_type": "markdown",
    "id": "PuLgpkgpnAx1"
   },
   "source": [
    "Now lets make a 2-dimensional vector"
   ]
  },
  {
   "cell_type": "code",
   "execution_count": 21,
   "metadata": {
    "cell_id": "00044-53e0695f-9055-4a35-8647-588616f7e585",
    "colab": {
     "base_uri": "https://localhost:8080/"
    },
    "deepnote_cell_type": "code",
    "executionInfo": {
     "elapsed": 324,
     "status": "ok",
     "timestamp": 1624480149621,
     "user": {
      "displayName": "Conor Dunne",
      "photoUrl": "",
      "userId": "14934053525675490562"
     },
     "user_tz": -60
    },
    "id": "ikOngTdpm_TY",
    "outputId": "bfbdc968-242b-42e0-c8e4-99e33a7c1220"
   },
   "outputs": [
    {
     "name": "stdout",
     "output_type": "stream",
     "text": [
      "[[1.]\n",
      " [0.]]\n"
     ]
    }
   ],
   "source": [
    "obj = [[1],[0]]\n",
    "Vec = np.array(obj, dtype = float)\n",
    "print(Vec)"
   ]
  },
  {
   "cell_type": "markdown",
   "metadata": {
    "cell_id": "00045-3726a9ed-993e-4b4b-ad9b-8ad8c845a786",
    "deepnote_cell_type": "markdown",
    "id": "Z2lRlk1wpYD-"
   },
   "source": [
    "Lets rotate it by multiplying it by the X matrix.(Recall week 2 exercises). "
   ]
  },
  {
   "cell_type": "code",
   "execution_count": 22,
   "metadata": {
    "cell_id": "00046-81e20989-e31d-4623-9c96-dd5eae9bc06e",
    "colab": {
     "base_uri": "https://localhost:8080/"
    },
    "deepnote_cell_type": "code",
    "executionInfo": {
     "elapsed": 272,
     "status": "ok",
     "timestamp": 1624480157970,
     "user": {
      "displayName": "Conor Dunne",
      "photoUrl": "",
      "userId": "14934053525675490562"
     },
     "user_tz": -60
    },
    "id": "eKhu84-AngNC",
    "outputId": "c457c9a7-49bd-4f53-e679-57932c66a8b7"
   },
   "outputs": [
    {
     "name": "stdout",
     "output_type": "stream",
     "text": [
      "[[0.]\n",
      " [1.]]\n"
     ]
    }
   ],
   "source": [
    "VecRot = np.matmul(Xmat,Vec)\n",
    "print(VecRot)"
   ]
  },
  {
   "cell_type": "markdown",
   "metadata": {
    "cell_id": "00047-ee2efcf3-9548-421b-93cf-e31bb7930040",
    "deepnote_cell_type": "markdown",
    "id": "nyOgEztbofNg"
   },
   "source": [
    "Now let's dip into the $np.linalg$ methods, namely $np.linalg.norm()$ which calculates the modulus(or norm) of a vector\n",
    "\n",
    "```np.linalg.norm(array)```"
   ]
  },
  {
   "cell_type": "code",
   "execution_count": 23,
   "metadata": {
    "cell_id": "00048-8d6d6726-7b47-4c78-b518-13912751b242",
    "colab": {
     "base_uri": "https://localhost:8080/"
    },
    "deepnote_cell_type": "code",
    "executionInfo": {
     "elapsed": 75,
     "status": "ok",
     "timestamp": 1624475938982,
     "user": {
      "displayName": "Conor Dunne",
      "photoUrl": "",
      "userId": "14934053525675490562"
     },
     "user_tz": -60
    },
    "id": "Ne2a1zz1nujg",
    "outputId": "880ac14a-ce0b-48a6-c048-1f73d6b51fb4"
   },
   "outputs": [
    {
     "name": "stdout",
     "output_type": "stream",
     "text": [
      "Vector modulus = 1.0\n",
      "Rotated vector modulus = 1.0\n"
     ]
    }
   ],
   "source": [
    "print('Vector modulus = {}'.format(np.linalg.norm(Vec)))\n",
    "print('Rotated vector modulus = {}'.format(np.linalg.norm(VecRot)))"
   ]
  },
  {
   "cell_type": "markdown",
   "metadata": {
    "cell_id": "00049-d5a256c7-3c4e-4218-8bf3-add0ff4004f5",
    "deepnote_cell_type": "markdown",
    "id": "iCg81kT_p5md"
   },
   "source": [
    "We can see that numpy provides a vast array of methods and functionality to work with the mathematical ideas associated with linear algebra(matrices, vectors, their operations and properties)"
   ]
  },
  {
   "cell_type": "markdown",
   "metadata": {
    "cell_id": "00050-857e2f60-694f-41c5-8028-958778b4d9f4",
    "deepnote_cell_type": "markdown",
    "id": "DDWIBd28rysP"
   },
   "source": [
    "## 1.10 Three-Dimesional Numpy Arrays"
   ]
  },
  {
   "cell_type": "markdown",
   "metadata": {
    "cell_id": "00051-da08568c-af7e-49a6-8531-ffc06b23dcda",
    "deepnote_cell_type": "markdown",
    "id": "hxZ5SEr3i0Vk"
   },
   "source": [
    "A less common use, but still an interesting study, is for 3-dimensional arrays. "
   ]
  },
  {
   "cell_type": "code",
   "execution_count": 24,
   "metadata": {
    "cell_id": "00052-8973fb02-807a-4edb-959b-f2fdb94350f6",
    "colab": {
     "base_uri": "https://localhost:8080/"
    },
    "deepnote_cell_type": "code",
    "executionInfo": {
     "elapsed": 309,
     "status": "ok",
     "timestamp": 1624477073366,
     "user": {
      "displayName": "Conor Dunne",
      "photoUrl": "",
      "userId": "14934053525675490562"
     },
     "user_tz": -60
    },
    "id": "wbTdSlvseOGd",
    "outputId": "6b943862-9da0-4f7b-e4bf-aac52402e877"
   },
   "outputs": [
    {
     "name": "stdout",
     "output_type": "stream",
     "text": [
      "[[[ 1  0  0]\n",
      "  [ 0 -1  0]\n",
      "  [ 0  0  1]]\n",
      "\n",
      " [[ 1  3  2]\n",
      "  [ 3  2  1]\n",
      "  [ 2  1  3]]]\n"
     ]
    }
   ],
   "source": [
    "obj = [  [ [1,0,0] , [0,-1,0] , [0,0,1] ] , [ [1,3,2] , [3,2,1] , [2,1,3] ] ]\n",
    "mat = np.array(obj,int)\n",
    "print(mat)"
   ]
  },
  {
   "cell_type": "code",
   "execution_count": 25,
   "metadata": {
    "cell_id": "00053-c6b9db3f-1b03-4080-8a17-ca78803a9ae9",
    "colab": {
     "base_uri": "https://localhost:8080/"
    },
    "deepnote_cell_type": "code",
    "executionInfo": {
     "elapsed": 303,
     "status": "ok",
     "timestamp": 1624477081562,
     "user": {
      "displayName": "Conor Dunne",
      "photoUrl": "",
      "userId": "14934053525675490562"
     },
     "user_tz": -60
    },
    "id": "hFsNRVvCfSWK",
    "outputId": "4c8b5285-69f3-4ca8-8460-5743abf2e4a7"
   },
   "outputs": [
    {
     "name": "stdout",
     "output_type": "stream",
     "text": [
      "(2, 3, 3)\n"
     ]
    }
   ],
   "source": [
    "print(mat.shape) # 2 elements in the first nest, 3 elements in the second nest, 3 elements in the third nest"
   ]
  },
  {
   "cell_type": "code",
   "execution_count": 26,
   "metadata": {
    "cell_id": "00054-90b55035-8bff-4f44-84aa-14dd9a820369",
    "colab": {
     "base_uri": "https://localhost:8080/"
    },
    "deepnote_cell_type": "code",
    "executionInfo": {
     "elapsed": 4,
     "status": "ok",
     "timestamp": 1624477082787,
     "user": {
      "displayName": "Conor Dunne",
      "photoUrl": "",
      "userId": "14934053525675490562"
     },
     "user_tz": -60
    },
    "id": "O88HFbhVfUFP",
    "outputId": "08d410a9-366e-4ce6-8b42-60a14a9ef98b"
   },
   "outputs": [
    {
     "name": "stdout",
     "output_type": "stream",
     "text": [
      "18\n"
     ]
    }
   ],
   "source": [
    "print(mat.size) # Multiply the elements of mat.shape"
   ]
  },
  {
   "cell_type": "code",
   "execution_count": 27,
   "metadata": {
    "cell_id": "00055-3c3f1da0-c8d8-40be-ab8d-2073864ab8cf",
    "colab": {
     "base_uri": "https://localhost:8080/"
    },
    "deepnote_cell_type": "code",
    "executionInfo": {
     "elapsed": 4,
     "status": "ok",
     "timestamp": 1624477083761,
     "user": {
      "displayName": "Conor Dunne",
      "photoUrl": "",
      "userId": "14934053525675490562"
     },
     "user_tz": -60
    },
    "id": "3QuDvcGTftwr",
    "outputId": "08f84bbc-f281-4545-93b9-90f386031c97"
   },
   "outputs": [
    {
     "name": "stdout",
     "output_type": "stream",
     "text": [
      "3\n"
     ]
    }
   ],
   "source": [
    "print(mat.ndim) #Number of nests"
   ]
  }
 ],
 "metadata": {
  "colab": {
   "collapsed_sections": [],
   "name": "PyQM_4.2_Numpy_Intro.ipynb",
   "provenance": []
  },
  "deepnote": {},
  "deepnote_execution_queue": [],
  "deepnote_notebook_id": "354f2212-baf0-4f9a-a100-96dd9db6edb2",
  "kernelspec": {
   "display_name": "Python 3 (ipykernel)",
   "language": "python",
   "name": "python3"
  },
  "language_info": {
   "codemirror_mode": {
    "name": "ipython",
    "version": 3
   },
   "file_extension": ".py",
   "mimetype": "text/x-python",
   "name": "python",
   "nbconvert_exporter": "python",
   "pygments_lexer": "ipython3",
   "version": "3.9.6"
  }
 },
 "nbformat": 4,
 "nbformat_minor": 1
}
