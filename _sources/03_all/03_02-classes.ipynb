{
 "cells": [
  {
   "cell_type": "markdown",
   "id": "86145a6a",
   "metadata": {
    "cell_id": "00000-09bd3d31-e9d7-40eb-bc81-598ba4707092",
    "deepnote_cell_type": "markdown",
    "id": "e408ea81"
   },
   "source": [
    "# Part 2: Classes\n",
    "Classes and Objects in Python are at the core of object-oriented programming.  They provide a means of bundling data and functionality together. Object-Oriented Programming (OOP) permits the grouping of related **properties and behaviors into individual objects**. You can think of objects as real-world entities that have attributes (properties) and behaviors (methods).\n",
    "\n",
    "It is based on the concept of \"objects\", which can contain data in the form of fields (often known as attributes or properties), and code in the form of procedures (often known as methods).\n",
    "\n",
    "It also exists in other programming languages such as Java, C++, and Ruby, and it allows for:\n",
    "- **Encapsulation**: Bundling data and methods that operate on the data within one unit, e.g., a class in Python.\n",
    "- **Inheritance**: Creating new classes based on existing classes, allowing for code reuse and the\n",
    "- **Polymorphism**: Allowing methods to do different things based on the object it is acting upon, even if they share the same name. same interface.\n",
    "- **Abstraction**: Hiding complex implementation details and showing only the necessary parts\n",
    "\n"
   ]
  },
  {
   "cell_type": "markdown",
   "id": "57a73233",
   "metadata": {
    "cell_id": "00001-3bf70356-b8b9-43f7-bf44-9b0034a9f236",
    "deepnote_cell_type": "markdown",
    "id": "caf1d2ad"
   },
   "source": [
    "## Defining A Class\n",
    "Classes are a way to associate data and functionality together.  Creating a new class creates a new type of object, allowing new instances of that type to be made. Each class instance can have attributes attached to it for maintaining its state. Class instances can also have methods (defined by its class) for modifying its state.\n",
    "\n",
    "We can think of classes as categories of objects, instances are then particular types of that object. A real life example would be tables. Tables are objects, but we can have many different instances of a table; a white, three-legged table or maybe a brown, four-legged table etc...\n",
    "\n",
    "Classes contain functions, associated with that class, that we call methods. In the below example `hello_method` is a method that prints the name associated with a particular instance. The `__init__` function is also a method, but it is one of a few so-called magic methods, indicated by the double underscores. It is used to initialise an instance of the class.\n",
    "\n",
    "Syntax for defining a class:\n",
    "```python\n",
    "class ClassName:\n",
    "    def __init__(self, parameters):\n",
    "        # Initialization code here\n",
    "    def method_name(self, parameters):\n",
    "        # Method code here\n",
    "```\n",
    "\n",
    "Here is how we define a class:\n",
    "```python\n",
    "class MyClass:\n",
    "    def __init__(self, name):\n",
    "        self.name = name  # Attribute   \n",
    "    def hello_method(self):  # Method\n",
    "        print(f\"Hello, {self.name}!\")\n",
    "```\n",
    "In this example, we define a class named `MyClass` with an `__init__` method that initializes the `name` attribute and a `hello_method` that prints a greeting using that name."
   ]
  },
  {
   "cell_type": "markdown",
   "id": "14c4df20",
   "metadata": {
    "cell_id": "00003-3f8d3b92-0c21-4ee3-a3cb-088d77b8a0d5",
    "deepnote_cell_type": "markdown",
    "id": "ff00229a"
   },
   "source": [
    "Another example:\n",
    "```python\n",
    "class Dog:\n",
    "    def __init__(self, name, age):\n",
    "        self.name = name  # Attribute\n",
    "        self.age = age    # Attribute\n",
    "    def bark(self):  # Method\n",
    "        print(f\"{self.name} says Woof!\")\n",
    "    def get_age(self):  # Method\n",
    "        return self.age\n",
    "```"
   ]
  },
  {
   "cell_type": "code",
   "execution_count": 2,
   "id": "96f2035e",
   "metadata": {
    "cell_id": "00004-2de6ab19-837b-4c2b-88d9-dadb8c07dac0",
    "deepnote_cell_type": "code",
    "id": "d22ef766"
   },
   "outputs": [],
   "source": [
    "class My_Class:\n",
    "    def __init__(self,name):\n",
    "        self.name = name\n",
    "        \n",
    "    def hello_method(self):\n",
    "        print('Hello {}!'.format(self.name))"
   ]
  },
  {
   "cell_type": "code",
   "execution_count": 3,
   "id": "5fd31804",
   "metadata": {
    "cell_id": "00005-349c415b-f503-4872-b06b-402604e7c6a2",
    "deepnote_cell_type": "code",
    "id": "f6d624f2",
    "outputId": "12fa56fe-b31e-474f-dd48-7869ea116469"
   },
   "outputs": [
    {
     "name": "stdout",
     "output_type": "stream",
     "text": [
      "<class 'type'>\n"
     ]
    }
   ],
   "source": [
    "print(type(My_Class))"
   ]
  },
  {
   "cell_type": "code",
   "execution_count": 4,
   "id": "9c67e6d0",
   "metadata": {
    "cell_id": "00006-202f4c50-a5cf-4fba-a78e-9ab68cba5f36",
    "deepnote_cell_type": "code",
    "id": "899671e3",
    "outputId": "7768e967-a016-495e-e695-8d46c6f886a8"
   },
   "outputs": [
    {
     "name": "stdout",
     "output_type": "stream",
     "text": [
      "<class '__main__.My_Class'>\n"
     ]
    }
   ],
   "source": [
    "Class_Instance = My_Class(\"Conor\")\n",
    "print(type(Class_Instance))"
   ]
  },
  {
   "cell_type": "code",
   "execution_count": 5,
   "id": "d9080096",
   "metadata": {
    "cell_id": "00007-215b7d2c-dbfb-44b6-899f-68706bc7043e",
    "deepnote_cell_type": "code",
    "id": "5e67204c",
    "outputId": "f0e81532-a289-40c9-d322-662bc5ea3a8e"
   },
   "outputs": [
    {
     "name": "stdout",
     "output_type": "stream",
     "text": [
      "Hello Conor!\n"
     ]
    }
   ],
   "source": [
    "Class_Instance.hello_method()    "
   ]
  },
  {
   "cell_type": "code",
   "execution_count": 6,
   "id": "6341e084",
   "metadata": {
    "cell_id": "00008-1e77f402-bd71-45dc-aa2c-71fdd3501acc",
    "deepnote_cell_type": "code",
    "id": "ad75bb99",
    "outputId": "6f7cd043-0b9c-42f6-f65a-20e2b372f166"
   },
   "outputs": [
    {
     "name": "stdout",
     "output_type": "stream",
     "text": [
      "Hello Betty!\n"
     ]
    }
   ],
   "source": [
    "Different_Class_Instance = My_Class(\"Betty\")\n",
    "Different_Class_Instance.hello_method()"
   ]
  },
  {
   "cell_type": "markdown",
   "id": "e0e27feb",
   "metadata": {
    "cell_id": "00009-4de07cf8-cc96-43ee-b6c1-74ebda9bc157",
    "deepnote_cell_type": "markdown",
    "id": "645d755b"
   },
   "source": [
    "Notice also the use of `self`, it simply refers to the instance of the class itself. It can be named arbitrarily, but it is common practice to use `self`, for example"
   ]
  },
  {
   "cell_type": "code",
   "execution_count": 7,
   "id": "f61a4a23",
   "metadata": {
    "cell_id": "00010-35f17c67-4d43-4243-852b-49a1308c2619",
    "deepnote_cell_type": "code",
    "id": "5b871cdf",
    "outputId": "dc6e1c72-71f5-452d-b1b6-d0c3c3c9cb05"
   },
   "outputs": [
    {
     "name": "stdout",
     "output_type": "stream",
     "text": [
      "Hello Conor!\n"
     ]
    }
   ],
   "source": [
    "class My_Class:\n",
    "    def __init__(fjsdhfg,name):\n",
    "        fjsdhfg.name = name\n",
    "        \n",
    "    def hello_method(fjsdhfg):\n",
    "        print('Hello {}!'.format(fjsdhfg.name))\n",
    "\n",
    "        \n",
    "Class_Instance = My_Class(\"Conor\")\n",
    "Class_Instance.hello_method()  "
   ]
  },
  {
   "cell_type": "markdown",
   "id": "ca5e19a0",
   "metadata": {
    "cell_id": "00011-3748a7f5-3630-43fd-a6dc-82a1e38535e5",
    "deepnote_cell_type": "markdown",
    "id": "a358b113"
   },
   "source": [
    "We can use `dir()` to obtain a list all the methods in the class instance. Notice all of the magic methods."
   ]
  },
  {
   "cell_type": "code",
   "execution_count": 8,
   "id": "6520a877",
   "metadata": {
    "cell_id": "00012-73a2961e-977a-4a5c-a5cc-bace3ec33cb8",
    "deepnote_cell_type": "code",
    "id": "584dc5a6",
    "outputId": "f9e4a0ae-4ad4-46c4-8feb-f4e77efd6538"
   },
   "outputs": [
    {
     "name": "stdout",
     "output_type": "stream",
     "text": [
      "['__class__', '__delattr__', '__dict__', '__dir__', '__doc__', '__eq__', '__format__', '__ge__', '__getattribute__', '__gt__', '__hash__', '__init__', '__init_subclass__', '__le__', '__lt__', '__module__', '__ne__', '__new__', '__reduce__', '__reduce_ex__', '__repr__', '__setattr__', '__sizeof__', '__str__', '__subclasshook__', '__weakref__', 'hello_method', 'name']\n"
     ]
    }
   ],
   "source": [
    "print(dir(Class_Instance))"
   ]
  },
  {
   "cell_type": "markdown",
   "id": "b853426d",
   "metadata": {
    "cell_id": "00013-48703757-899c-45fc-afcc-e02f964c2fdb",
    "deepnote_cell_type": "markdown",
    "id": "eacc0c94"
   },
   "source": [
    "## Attributes\n",
    "\n",
    "Attributes are the variables that belong to an object or class. They are used to store information about the object or class and can be accessed and modified using dot notation.\n",
    "\n",
    "There are two types of attributes associated with classes. \n",
    "- Class attributes: These are shared across all instances of the class.\n",
    "- Instance attributes: These are unique to each instance of the class.\n",
    "\n",
    "One of the advatages of using classes is that instances are guaranteed to have the attributes you expect. For example, if we create a class `Car` with attributes `make`, `model`, and `year`, every instance of the `Car` class will have these attributes.\n",
    "\n",
    "```python\n",
    "class Car:\n",
    "    def __init__(self, make, model, year):\n",
    "        self.make = make  # Instance attribute\n",
    "        self.model = model  # Instance attribute\n",
    "        self.year = year  # Instance attribute\n",
    "```\n",
    "\n",
    "Although the attributes are guaranteed to exist, their values can be modified. For example, we can change the `year` attribute of a `Car` instance.\n",
    "\n",
    "```python\n",
    "my_car = Car(\"Toyota\", \"Corolla\", 2020)\n",
    "my_car.year = 2021  # Modifying the instance attribute\n",
    "```\n",
    "```python\n",
    "print(my_car.year)  # Output: 2021\n",
    "```\n",
    "\n",
    "Instance methods are functions that are defined within a class and can only call on an instance of that class. They can access and modify the instance's attributes and perform operations specific to that instance.\n",
    "\n",
    "```python\n",
    "class Circle:\n",
    "    def __init__(self, radius):\n",
    "        self.radius = radius  # Instance attribute\n",
    "    def area(self):  # Instance method\n",
    "        return 3.14159 * (self.radius ** 2)\n",
    "```\n",
    "```python\n",
    "my_circle = Circle(5)\n",
    "print(my_circle.area())  # Output: 78.53975\n",
    "```\n",
    "```python\n",
    "print(dir(my_circle))  # Lists all attributes and methods of the instance\n",
    "```\n",
    "```python\n",
    "print(my_circle.radius)  # Accessing the instance attribute\n",
    "```\n",
    "```python\n",
    "my_circle.radius = 10  # Modifying the instance attribute\n",
    "print(my_circle.area())  # Output: 314.159\n",
    "```\n",
    "In this example, we define a `Circle` class with an instance attribute `radius` and an instance method `area` that calculates the area of the circle based on its radius. We create an instance of the `Circle` class and call the `area` method to get the area of the circle. "
   ]
  },
  {
   "cell_type": "code",
   "execution_count": 9,
   "id": "fd125ae8",
   "metadata": {
    "cell_id": "00014-fa2bec6c-fa44-41c0-bd07-38224d391911",
    "deepnote_cell_type": "code",
    "id": "01f2d723"
   },
   "outputs": [],
   "source": [
    "class My_Class:\n",
    "    last_name = \"Ronan\" # This is a class attribute\n",
    "    def __init__(self,name):\n",
    "        self.name = name #This is a method attribute\n",
    "        \n",
    "    def hello_method(self):\n",
    "        print('Hello {} {}!'.format(self.name,self.last_name))"
   ]
  },
  {
   "cell_type": "code",
   "execution_count": 10,
   "id": "9febf77f",
   "metadata": {
    "cell_id": "00015-79bf1a72-2ed3-47dc-917f-2fdd6fb84f36",
    "deepnote_cell_type": "code",
    "id": "16b33255"
   },
   "outputs": [],
   "source": [
    "Class_Instance = My_Class(\"Saoirse\")\n",
    "Class_Instance2 = My_Class(\"Sinead\")"
   ]
  },
  {
   "cell_type": "code",
   "execution_count": 11,
   "id": "2930ff12",
   "metadata": {
    "cell_id": "00016-d229ca83-d6dd-4ff1-bbab-dc7d7cb6c63c",
    "deepnote_cell_type": "code",
    "id": "3f9c589a",
    "outputId": "419d32e9-3d65-4993-c227-fca8f3aec7ff"
   },
   "outputs": [
    {
     "name": "stdout",
     "output_type": "stream",
     "text": [
      "Hello Saoirse Ronan!\n",
      "Hello Sinead Ronan!\n"
     ]
    }
   ],
   "source": [
    "Class_Instance.hello_method()\n",
    "Class_Instance2.hello_method()"
   ]
  },
  {
   "cell_type": "markdown",
   "id": "e4dd8d5e",
   "metadata": {
    "cell_id": "00017-b5169f47-1b50-42b7-b385-b4ea8af9b87a",
    "deepnote_cell_type": "markdown",
    "id": "4080c6f2"
   },
   "source": [
    "Class attributes are accessible by all instances of the class. But method attributes, defined within methods, are only accessible by an instance of the class"
   ]
  },
  {
   "cell_type": "code",
   "execution_count": 12,
   "id": "fa4d0c5f",
   "metadata": {
    "cell_id": "00018-a3f39365-fbac-4055-9456-260eb5a17bfb",
    "deepnote_cell_type": "code",
    "id": "14f79156",
    "outputId": "3f14af29-0aff-4690-dd16-71c5d8bac0de"
   },
   "outputs": [
    {
     "name": "stdout",
     "output_type": "stream",
     "text": [
      "Ronan\n",
      "Ronan\n"
     ]
    }
   ],
   "source": [
    "#Class attribute\n",
    "print(Class_Instance.last_name)\n",
    "print(Class_Instance2.last_name)"
   ]
  },
  {
   "cell_type": "code",
   "execution_count": 13,
   "id": "6694de9e",
   "metadata": {
    "cell_id": "00019-4f582f76-42d3-41a6-b16f-4245d8b19706",
    "deepnote_cell_type": "code",
    "id": "f543bd24",
    "outputId": "db1d643b-e3dd-44ba-e712-99924e4d89fd"
   },
   "outputs": [
    {
     "name": "stdout",
     "output_type": "stream",
     "text": [
      "Saoirse\n",
      "Sinead\n"
     ]
    }
   ],
   "source": [
    "#Method Attribute\n",
    "print(Class_Instance.name)\n",
    "print(Class_Instance2.name)"
   ]
  },
  {
   "cell_type": "markdown",
   "id": "78cca294",
   "metadata": {
    "cell_id": "00020-cf6b8f2b-e780-4971-b353-ece6d7a43714",
    "deepnote_cell_type": "markdown",
    "id": "dcfc4436"
   },
   "source": [
    "Lets define the class in a slighly different way"
   ]
  },
  {
   "cell_type": "code",
   "execution_count": 14,
   "id": "9857f198",
   "metadata": {
    "cell_id": "00021-0ad026eb-552b-42c4-b159-4aec2d39c2e7",
    "deepnote_cell_type": "code",
    "id": "a1c75f72"
   },
   "outputs": [],
   "source": [
    "class My_Class:\n",
    "    last_name = \"Ronan\" \n",
    "    def __init__(self,name):\n",
    "        self.n = name #Notice the difference here\n",
    "        \n",
    "    def hello_method(self):\n",
    "        print('Hello {} {}!'.format(self.name,self.last_name))"
   ]
  },
  {
   "cell_type": "markdown",
   "id": "2266c6cd",
   "metadata": {
    "cell_id": "00022-201f3945-4f8b-47f9-9c82-03c65f8bd240",
    "deepnote_cell_type": "markdown",
    "id": "4b90241b"
   },
   "source": [
    "This begs the questions, how do we call the `n` or `name` method attribute. Lets find out."
   ]
  },
  {
   "cell_type": "code",
   "execution_count": 15,
   "id": "8d8e90a7",
   "metadata": {
    "cell_id": "00023-3e6de075-0c72-4e2f-9c30-8eac25f9db6e",
    "deepnote_cell_type": "code",
    "id": "b6e8257d"
   },
   "outputs": [],
   "source": [
    "Class_Instance = My_Class(\"Saoirse\")"
   ]
  },
  {
   "cell_type": "code",
   "execution_count": 16,
   "id": "de2f0e3e",
   "metadata": {
    "cell_id": "00024-dc91e8e2-7b50-4188-8a02-ee69427095d2",
    "deepnote_cell_type": "code",
    "id": "e2a481a3",
    "outputId": "fa66bfe2-5948-4f81-8f96-b48d5f905d00"
   },
   "outputs": [
    {
     "name": "stdout",
     "output_type": "stream",
     "text": [
      "Saoirse\n"
     ]
    }
   ],
   "source": [
    "print(Class_Instance.n)"
   ]
  },
  {
   "cell_type": "code",
   "execution_count": 17,
   "id": "32d26fdc",
   "metadata": {
    "cell_id": "00025-4413191c-ee9e-489d-a472-32bf5ee4d47a",
    "deepnote_cell_type": "code",
    "id": "19a8dad0",
    "outputId": "afd97f71-c0e3-440d-a564-81f14f636b6b"
   },
   "outputs": [
    {
     "ename": "AttributeError",
     "evalue": "'My_Class' object has no attribute 'name'",
     "output_type": "error",
     "traceback": [
      "\u001b[0;31m---------------------------------------------------------------------------\u001b[0m",
      "\u001b[0;31mAttributeError\u001b[0m                            Traceback (most recent call last)",
      "\u001b[0;32m<ipython-input-17-4d40c98cf7b3>\u001b[0m in \u001b[0;36m<module>\u001b[0;34m\u001b[0m\n\u001b[0;32m----> 1\u001b[0;31m \u001b[0mprint\u001b[0m\u001b[0;34m(\u001b[0m\u001b[0mClass_Instance\u001b[0m\u001b[0;34m.\u001b[0m\u001b[0mname\u001b[0m\u001b[0;34m)\u001b[0m\u001b[0;34m\u001b[0m\u001b[0;34m\u001b[0m\u001b[0m\n\u001b[0m",
      "\u001b[0;31mAttributeError\u001b[0m: 'My_Class' object has no attribute 'name'"
     ]
    }
   ],
   "source": [
    "print(Class_Instance.name)"
   ]
  },
  {
   "cell_type": "markdown",
   "id": "1100e0c1",
   "metadata": {
    "cell_id": "00026-b5419be3-a4ed-45b3-9c44-116e8e43956b",
    "deepnote_cell_type": "markdown",
    "id": "093a62a6"
   },
   "source": [
    "As we can see, we must use `n`, the variable associated with `self`."
   ]
  },
  {
   "cell_type": "markdown",
   "id": "a29f832f",
   "metadata": {
    "cell_id": "00027-20a5ab6b-9037-4f05-b331-46899f2d9f4b",
    "deepnote_cell_type": "markdown",
    "id": "56eeda01"
   },
   "source": [
    "## Magic Methods\n",
    "\n",
    "Magic methods are special methods in Python that have double underscores at the beginning and end of their names. They are also known as dunder methods (short for \"double underscore\"). These methods are used to define the behavior of objects for built-in operations, such as arithmetic operations, comparisons, and type conversions.\n",
    "\n",
    "Here we will introduce some common magic methods:\n",
    "\n",
    "### `__init__()`\n",
    "\n",
    "`__init__()` automatically initialises the class instance when the instance is generated, while other methods must be called on manually."
   ]
  },
  {
   "cell_type": "code",
   "execution_count": 18,
   "id": "a8d6d387",
   "metadata": {
    "cell_id": "00028-a92d9420-18a3-4e46-a112-2c386a4485d6",
    "deepnote_cell_type": "code",
    "id": "b2d03256"
   },
   "outputs": [],
   "source": [
    "class Beep:\n",
    "    def __init__(self, noise):\n",
    "        self.noise = noise\n",
    "        print('Is somebody creating an instance?...I am now initialising...beeepedy beep bop beep {}'.format(noise))\n",
    "        \n",
    "    def call_me(self):\n",
    "        print('Call me Beep {} Bopperson'.format(self.noise))"
   ]
  },
  {
   "cell_type": "code",
   "execution_count": 19,
   "id": "11a6a3c0",
   "metadata": {
    "cell_id": "00029-a622ba61-9dc8-4eaf-8e70-532474a96710",
    "colab": {
     "base_uri": "https://localhost:8080/"
    },
    "deepnote_cell_type": "code",
    "executionInfo": {
     "elapsed": 6,
     "status": "ok",
     "timestamp": 1624362663242,
     "user": {
      "displayName": "Conor Dunne",
      "photoUrl": "",
      "userId": "14934053525675490562"
     },
     "user_tz": -60
    },
    "id": "3753f807",
    "outputId": "b8a57a3d-cf20-4493-c05d-0b909d936900"
   },
   "outputs": [
    {
     "name": "stdout",
     "output_type": "stream",
     "text": [
      "Is somebody creating an instance?...I am now initialising...beeepedy beep bop beep Bloop\n"
     ]
    }
   ],
   "source": [
    "beeeep = Beep('Bloop')"
   ]
  },
  {
   "cell_type": "code",
   "execution_count": 20,
   "id": "6ab96e64",
   "metadata": {
    "cell_id": "00030-9d4ee1b1-4a7c-4367-8a51-636b5300f041",
    "colab": {
     "base_uri": "https://localhost:8080/"
    },
    "deepnote_cell_type": "code",
    "executionInfo": {
     "elapsed": 370,
     "status": "ok",
     "timestamp": 1624362666374,
     "user": {
      "displayName": "Conor Dunne",
      "photoUrl": "",
      "userId": "14934053525675490562"
     },
     "user_tz": -60
    },
    "id": "859b1b8d",
    "outputId": "547789fe-c2e1-4fe0-916a-c907cf39c454"
   },
   "outputs": [
    {
     "name": "stdout",
     "output_type": "stream",
     "text": [
      "Call me Beep Bloop Bopperson\n"
     ]
    }
   ],
   "source": [
    "beeeep.call_me()"
   ]
  },
  {
   "cell_type": "markdown",
   "id": "bf4930f1",
   "metadata": {
    "cell_id": "00031-f63f9a15-1407-41ef-b4ff-6de60abe3cc2",
    "deepnote_cell_type": "markdown",
    "id": "009bf5f1"
   },
   "source": [
    "In the `__init__()` method we declare the instance variables bvy assigning them to `self`. They can then be accessed in other methods using `self`."
   ]
  },
  {
   "cell_type": "markdown",
   "id": "a9f8dd69",
   "metadata": {
    "cell_id": "00032-cf528cb2-a248-4d1d-90bc-293c335c5e65",
    "deepnote_cell_type": "markdown",
    "id": "efce6534"
   },
   "source": [
    "### `__str__()`\n",
    "\n",
    "This method is useful for indicating the printable version of an instance of a class."
   ]
  },
  {
   "cell_type": "code",
   "execution_count": 21,
   "id": "049d85a7",
   "metadata": {
    "cell_id": "00033-476a5690-c94e-48e3-a34e-ef4cfce147f2",
    "deepnote_cell_type": "code",
    "id": "ce51898b"
   },
   "outputs": [],
   "source": [
    "class Beep:\n",
    "    def __init__(self, noise):\n",
    "        self.noise = noise\n",
    "        print('Is somebody creating an instance?...I am now initialising...beeepedy beep bop beep {}'.format(noise))\n",
    "        \n",
    "    def call_me(self):\n",
    "        print('Call me Beep {} Bopperson'.format(self.noise))\n",
    "        \n",
    "    def __str__(self):\n",
    "        return 'This will print when I print the instance with noise {}'.format(self.noise)"
   ]
  },
  {
   "cell_type": "code",
   "execution_count": 22,
   "id": "a9a5e1c8",
   "metadata": {
    "cell_id": "00034-0638e27c-5a9c-4c9f-b9c6-6128530220cf",
    "colab": {
     "base_uri": "https://localhost:8080/"
    },
    "deepnote_cell_type": "code",
    "executionInfo": {
     "elapsed": 199,
     "status": "ok",
     "timestamp": 1624362704591,
     "user": {
      "displayName": "Conor Dunne",
      "photoUrl": "",
      "userId": "14934053525675490562"
     },
     "user_tz": -60
    },
    "id": "820f3168",
    "outputId": "c64c0da1-b376-4f37-f847-326b4ef1d1fd"
   },
   "outputs": [
    {
     "name": "stdout",
     "output_type": "stream",
     "text": [
      "Is somebody creating an instance?...I am now initialising...beeepedy beep bop beep KABLAM\n"
     ]
    }
   ],
   "source": [
    "KABLAM = Beep('KABLAM')"
   ]
  },
  {
   "cell_type": "code",
   "execution_count": 23,
   "id": "736ca1d6",
   "metadata": {
    "cell_id": "00035-930cda07-e38c-4671-9407-e05fea3b7b04",
    "colab": {
     "base_uri": "https://localhost:8080/"
    },
    "deepnote_cell_type": "code",
    "executionInfo": {
     "elapsed": 207,
     "status": "ok",
     "timestamp": 1624362707587,
     "user": {
      "displayName": "Conor Dunne",
      "photoUrl": "",
      "userId": "14934053525675490562"
     },
     "user_tz": -60
    },
    "id": "5d374780",
    "outputId": "3d4f1a9a-9d71-4919-a8ed-7247e1d35f2c"
   },
   "outputs": [
    {
     "name": "stdout",
     "output_type": "stream",
     "text": [
      "This will print when I print the instance with noise KABLAM\n"
     ]
    }
   ],
   "source": [
    "print(KABLAM)"
   ]
  },
  {
   "cell_type": "markdown",
   "id": "3eff3fe6",
   "metadata": {
    "cell_id": "00036-0d7a123e-bd42-46e4-947c-c9e716d3b3ab",
    "deepnote_cell_type": "markdown",
    "id": "3cab9e04"
   },
   "source": [
    "## Inheritance\n",
    "\n",
    "Inheritance is the process by which one class takes on the attributes and methods of another class. Newly formed classes are called *child classes*, and the classes that we derive child classes from are called *parent classes*.\n",
    "\n",
    "You can inherit from a parent class by creating a new class and putting the parent class name in parentheses after the new class name. The child class will then inherit all the attributes and methods of the parent class.\n",
    "\n",
    "```python\n",
    "class Parent:\n",
    "    def __init__(self, name):\n",
    "        self.name = name\n",
    "\n",
    "class Child(Parent):\n",
    "    def __init__(self, name, age):\n",
    "        super().__init__(name)\n",
    "        self.age = age\n",
    "```"
   ]
  },
  {
   "cell_type": "markdown",
   "id": "a08e9c59",
   "metadata": {
    "cell_id": "00038-cc3980da-1f31-4dcc-b751-c89c71378912",
    "deepnote_cell_type": "markdown",
    "id": "f358bc65"
   },
   "source": [
    "For example"
   ]
  },
  {
   "cell_type": "code",
   "execution_count": 25,
   "id": "bfcc200c",
   "metadata": {
    "cell_id": "00039-841f1758-2bd0-4e8f-bfc7-a17c4168e933",
    "deepnote_cell_type": "code",
    "id": "f80f991a"
   },
   "outputs": [],
   "source": [
    "class Being:\n",
    "    def hello(self):\n",
    "        print('Hello, I am an intelligent being')\n",
    "\n",
    "    @property #What is this line? This will be explained...\n",
    "    def Language(self):\n",
    "        return 'English'\n",
    "\n",
    "\n",
    "class Human(Being):\n",
    "    def hello(self):\n",
    "        print('Hello, I am an intelligent being...maybe...')\n",
    "\n",
    "\n",
    "class Alien(Being):\n",
    "    @property\n",
    "    def Language(self):\n",
    "        return 'Glarblackadack'"
   ]
  },
  {
   "cell_type": "code",
   "execution_count": 26,
   "id": "895df97a",
   "metadata": {
    "cell_id": "00040-1e25353c-b3c6-43e3-bad8-6c51e106fc12",
    "colab": {
     "base_uri": "https://localhost:8080/"
    },
    "deepnote_cell_type": "code",
    "executionInfo": {
     "elapsed": 227,
     "status": "ok",
     "timestamp": 1624362901610,
     "user": {
      "displayName": "Conor Dunne",
      "photoUrl": "",
      "userId": "14934053525675490562"
     },
     "user_tz": -60
    },
    "id": "1b1616a6",
    "outputId": "dfb0e723-6530-47ed-9692-6daa86411cef"
   },
   "outputs": [
    {
     "name": "stdout",
     "output_type": "stream",
     "text": [
      "Hello, I am an intelligent being...maybe...\n",
      "Humans's language is English\n",
      "Hello, I am an intelligent being\n",
      "Alien's language is Glarblackadack\n"
     ]
    }
   ],
   "source": [
    "human = Human()\n",
    "human.hello()\n",
    "print(\"Humans's language is {}\".format(human.Language))\n",
    "\n",
    "alien = Alien()\n",
    "alien.hello()\n",
    "print(\"Alien's language is {}\".format(alien.Language))"
   ]
  },
  {
   "cell_type": "markdown",
   "id": "a069e51e",
   "metadata": {
    "cell_id": "00041-545f43fa-0f11-4062-9f93-b9f91cef7fe0",
    "deepnote_cell_type": "markdown",
    "id": "e6d31a42"
   },
   "source": [
    "The line `@property` allows us to override the class method when we inherit that it.\n",
    "\n",
    "Child classes can also override methods from the parent class. For example, if the parent class has a method called `greet`, the child class can define its own version of `greet` that behaves differently.\n",
    "\n",
    "```python\n",
    "class Parent:\n",
    "    def greet(self):\n",
    "        print(\"Hello from Parent\")\n",
    "\n",
    "class Child(Parent):\n",
    "    def greet(self):\n",
    "        print(\"Hello from Child\")  \n",
    "```\n",
    "\n",
    "```python\n",
    "parent_instance = Parent()\n",
    "child_instance = Child()\n",
    "parent_instance.greet()  # Output: Hello from Parent\n",
    "child_instance.greet()   # Output: Hello from Child\n",
    "```\n",
    "```python\n",
    "print(issubclass(Child, Parent))  # Output: True\n",
    "```\n",
    "```python\n",
    "print(isinstance(child_instance, Child))  # Output: True\n",
    "print(isinstance(child_instance, Parent))  # Output: True\n",
    "```\n",
    "```python\n",
    "print(dir(child_instance))  # Lists all attributes and methods of the instance\n",
    "```\n",
    "```python\n",
    "print(child_instance.name)  # Accessing the inherited instance attribute\n",
    "```\n",
    "```python\n",
    "print(child_instance.age)  # Accessing the instance attribute\n",
    "```\n",
    "```python\n",
    "print(Child.__mro__)  # Output: (<class '__main__.Child'>, <class '__main__.Parent'>, <class 'object'>)\n",
    "```\n",
    "## Summary\n",
    "- Classes are blueprints for creating objects that encapsulate data and behavior.\n",
    "- Objects are instances of classes that hold specific data and can perform actions defined by their class.\n",
    "- Attributes are variables associated with an object or class, used to store information.\n",
    "- Methods are functions defined within a class that operate on the object's data and define its behavior.\n",
    "- Magic methods are special methods with double underscores that define the behavior of objects for built-in operations.\n",
    "- Inheritance allows a class (child class) to inherit attributes and methods from another class (parent class), promoting code reuse and establishing relationships between classes.\n"
   ]
  },
  {
   "cell_type": "markdown",
   "id": "6d651955",
   "metadata": {
    "cell_id": "00042-ff602593-26b7-490b-a2e4-1e152d50d0df",
    "deepnote_cell_type": "markdown",
    "id": "3b5a7858"
   },
   "source": [
    "## Operator Overloading\n",
    "\n",
    "We have use the basic operators `+`, `-`, `*`, `/` etc, in our calculations and they generally take on their traditional meaning. It turns out that we can reassign them to perform different tasks on objects and their instances. Recall that when we try to add two lists, we get concatenation"
   ]
  },
  {
   "cell_type": "code",
   "execution_count": 27,
   "id": "6894ff61",
   "metadata": {
    "cell_id": "00043-48d03ecd-d1a4-4b57-aa7e-c4dcde599d08",
    "colab": {
     "base_uri": "https://localhost:8080/"
    },
    "deepnote_cell_type": "code",
    "executionInfo": {
     "elapsed": 205,
     "status": "ok",
     "timestamp": 1624362967837,
     "user": {
      "displayName": "Conor Dunne",
      "photoUrl": "",
      "userId": "14934053525675490562"
     },
     "user_tz": -60
    },
    "id": "9179d4d0",
    "outputId": "1daf5be8-dd1b-4850-fff7-c5037f06ea9c"
   },
   "outputs": [
    {
     "name": "stdout",
     "output_type": "stream",
     "text": [
      "[1, 2, 3, 4, 5, 6, 7, 8]\n"
     ]
    }
   ],
   "source": [
    "L = [1,2,3,4]\n",
    "M = [5,6,7,8]\n",
    "\n",
    "S = L + M\n",
    "print(S)"
   ]
  },
  {
   "cell_type": "markdown",
   "id": "aa356ae3",
   "metadata": {
    "cell_id": "00044-f227395e-ff38-4a0a-a479-a44e3e4fff1f",
    "deepnote_cell_type": "markdown",
    "id": "a7d8b02e"
   },
   "source": [
    "Lets attempt to override the `+` operator so that elements of the list are added not concatenated. To do this, we will create a whole new data type or class called `Spooky_List`, where adding two `Spooky_Lists` adds their elements rather than concatenating them."
   ]
  },
  {
   "cell_type": "code",
   "execution_count": 28,
   "id": "ab311aa6",
   "metadata": {
    "cell_id": "00045-0d72d3c3-b165-49ef-9ee8-838415750679",
    "deepnote_cell_type": "code",
    "id": "660b6873"
   },
   "outputs": [],
   "source": [
    "class Spooky_List():\n",
    "    def __init__(self,L):\n",
    "        self.L = L\n",
    "        self.length = len(L)\n",
    "        self.temp=L #Creating a temporary list\n",
    "    \n",
    "    def __add__(self,other):\n",
    "        if self.length != other.length:\n",
    "            print(\"Lists not the same size\")\n",
    "        else:\n",
    "            for i in range(self.length):\n",
    "                self.temp[i] = self.L[i] + other.L[i]\n",
    "        return self.temp\n",
    "            "
   ]
  },
  {
   "cell_type": "code",
   "execution_count": 29,
   "id": "f50988fa",
   "metadata": {
    "cell_id": "00046-be4e5de0-5f2a-4e34-b530-66d315997032",
    "colab": {
     "base_uri": "https://localhost:8080/"
    },
    "deepnote_cell_type": "code",
    "executionInfo": {
     "elapsed": 190,
     "status": "ok",
     "timestamp": 1624363179217,
     "user": {
      "displayName": "Conor Dunne",
      "photoUrl": "",
      "userId": "14934053525675490562"
     },
     "user_tz": -60
    },
    "id": "bb7f0ceb",
    "outputId": "1bbcb47d-7596-4553-9bd9-826b0f9ab092"
   },
   "outputs": [
    {
     "name": "stdout",
     "output_type": "stream",
     "text": [
      "<class '__main__.Spooky_List'>\n",
      "<class '__main__.Spooky_List'>\n",
      "<class 'list'>\n",
      "[6, 8, 10, 12]\n"
     ]
    }
   ],
   "source": [
    "L = [1,2,3,4]\n",
    "M = [5,6,7,8]\n",
    "\n",
    "L = Spooky_List(L)\n",
    "M = Spooky_List(M)\n",
    "\n",
    "#Note L and M are technically no longer lists but are of type Spooky_List\n",
    "print(type(L)) \n",
    "print(type(M))\n",
    "\n",
    "\n",
    "S = L+M\n",
    "\n",
    "print(type(S))\n",
    "print(S)"
   ]
  },
  {
   "cell_type": "markdown",
   "id": "04de7ace",
   "metadata": {
    "cell_id": "00047-360d4047-4cdf-41a8-a876-cf3b8d781711",
    "deepnote_cell_type": "markdown",
    "id": "fc61d7a5"
   },
   "source": [
    "The `__add__` magic method here corresponds to the operator `+`. Similary we have \n",
    "\n",
    "| Operator | Operator\tMagic Method |\n",
    "| :-: | :-: | \n",
    "| `+` | `__add__(self, other)`|\n",
    "| `-` | `__sub__(self, other)` |\n",
    "| `*`\t| `__mul__(self, other)` |\n",
    "| `/` | `__truediv__(self, other)` |\n",
    "| `//` | `__floordiv__(self, other)` |\n",
    "| `%` | `__mod__(self, other)` |\n",
    "| `**` | `__pow__(self, other)` |\n",
    "| `>>` | `__rshift__(self, other)` |\n",
    "| `<<` | `__lshift__(self, other)` |\n",
    "| `&`\t| `__and__(self, other)` |\n",
    "| `\\|`\t| `__or__(self, other)` |\n",
    "| `^` |\t`__xor__(self, other)` |"
   ]
  },
  {
   "cell_type": "markdown",
   "id": "fc2e1b1e",
   "metadata": {
    "cell_id": "00048-c886c39a-1ed5-4648-9bf6-7a885395d241",
    "deepnote_cell_type": "markdown",
    "id": "ZUe2XlCSGXvn"
   },
   "source": [
    "## `__getitem__()` and `__setitem__()`\n",
    "\n",
    "What happens if we try and find an element of data type `Spooky_List`"
   ]
  },
  {
   "cell_type": "code",
   "execution_count": 2,
   "id": "55b69666",
   "metadata": {
    "cell_id": "00049-a6011078-2544-4e32-8150-18770d8a54c4",
    "colab": {
     "base_uri": "https://localhost:8080/",
     "height": 164
    },
    "deepnote_cell_type": "code",
    "executionInfo": {
     "elapsed": 240,
     "status": "error",
     "timestamp": 1624363200993,
     "user": {
      "displayName": "Conor Dunne",
      "photoUrl": "",
      "userId": "14934053525675490562"
     },
     "user_tz": -60
    },
    "id": "7db98fb6",
    "outputId": "4acb69f2-6d90-479b-e874-99f57cb25cfd"
   },
   "outputs": [
    {
     "ename": "NameError",
     "evalue": "name 'L' is not defined",
     "output_type": "error",
     "traceback": [
      "\u001b[0;31m---------------------------------------------------------------------------\u001b[0m",
      "\u001b[0;31mNameError\u001b[0m                                 Traceback (most recent call last)",
      "\u001b[0;32m/var/folders/9b/hnjyg5ld18v94zj022rv_zzm0000gn/T/ipykernel_2442/2885765707.py\u001b[0m in \u001b[0;36m<cell line: 1>\u001b[0;34m()\u001b[0m\n\u001b[0;32m----> 1\u001b[0;31m \u001b[0mprint\u001b[0m\u001b[0;34m(\u001b[0m\u001b[0mL\u001b[0m\u001b[0;34m[\u001b[0m\u001b[0;36m0\u001b[0m\u001b[0;34m]\u001b[0m\u001b[0;34m)\u001b[0m\u001b[0;34m\u001b[0m\u001b[0;34m\u001b[0m\u001b[0m\n\u001b[0m",
      "\u001b[0;31mNameError\u001b[0m: name 'L' is not defined"
     ]
    }
   ],
   "source": [
    "print(L[0])"
   ]
  },
  {
   "cell_type": "markdown",
   "id": "398fdddc",
   "metadata": {
    "cell_id": "00050-93c7cc50-1787-4e15-a41f-717b6e015bb3",
    "deepnote_cell_type": "markdown",
    "id": "b40327d9"
   },
   "source": [
    "We get an error, which makes sense, as there is no reason the methods for lists should work for `Spooky_Lists`. So lets make our own using `__getitem__()`. We will also use `__setitem__()` so that we can assign value to certain indexes in our `Spooky_List`. Lets also add a `__str__()` so we can print our Spooky_Lists"
   ]
  },
  {
   "cell_type": "code",
   "execution_count": null,
   "id": "325859cd",
   "metadata": {
    "cell_id": "00051-9644545d-4f27-4fc7-b060-7e1c443949f7",
    "deepnote_cell_type": "code",
    "id": "ea4224ba"
   },
   "outputs": [],
   "source": [
    "class Spooky_List():\n",
    "    def __init__(self,L):\n",
    "        self.L = L\n",
    "        self.length = len(L)\n",
    "        self.temp=L #Creating a temporary list\n",
    "    \n",
    "    def __add__(self,other):\n",
    "        if self.length != other.length:\n",
    "            print(\"Spooky_Lists not the same size\")\n",
    "        else:\n",
    "            for i in range(self.length):\n",
    "                self.temp[i] = self.L[i] + other.L[i]\n",
    "        return self.temp\n",
    "    \n",
    "    def __getitem__(self,ind):\n",
    "        return self.L[ind]\n",
    "    \n",
    "    def __setitem__(self,ind, val):\n",
    "        self.L[ind] = val\n",
    "        \n",
    "    def __str__(self):\n",
    "        return '{}'.format(self.L)"
   ]
  },
  {
   "cell_type": "code",
   "execution_count": null,
   "id": "6b5a8189",
   "metadata": {
    "cell_id": "00052-9ed9c9d3-444d-4a77-baba-5412924ef943",
    "colab": {
     "base_uri": "https://localhost:8080/"
    },
    "deepnote_cell_type": "code",
    "executionInfo": {
     "elapsed": 203,
     "status": "ok",
     "timestamp": 1624363282922,
     "user": {
      "displayName": "Conor Dunne",
      "photoUrl": "",
      "userId": "14934053525675490562"
     },
     "user_tz": -60
    },
    "id": "66fcfb7f",
    "outputId": "1ce38797-6d99-410b-a032-dd4427ce0e20"
   },
   "outputs": [
    {
     "name": "stdout",
     "output_type": "stream",
     "text": [
      "<class '__main__.Spooky_List'>\n",
      "[1, 2, 3, 4]\n",
      "1\n",
      "5\n",
      "[5, 2, 3, 4]\n"
     ]
    }
   ],
   "source": [
    "L = [1,2,3,4]\n",
    "L = Spooky_List(L)\n",
    "\n",
    "print(type(L))\n",
    "print(L) #Uses __str__\n",
    "\n",
    "print(L[0]) #Uses __getitem__\n",
    "\n",
    "L[0] = 5 #Uses __setitem__\n",
    "print(L[0]) #Uses __getitem__\n",
    "\n",
    "print(L) #Uses __str__"
   ]
  },
  {
   "cell_type": "markdown",
   "id": "8e16f5f7",
   "metadata": {},
   "source": [
    "Exercises building classes:\n",
    "1. Create a class `Rectangle` that has attributes for width and height. Include methods to calculate the area and perimeter of the rectangle.\n",
    "\n",
    "```python\n",
    "class Rectangle:\n",
    "    def __init__(self, width, height):\n",
    "        self.width = width\n",
    "        self.height = height\n",
    "\n",
    "    def area(self):\n",
    "        return self.width * self.height\n",
    "\n",
    "    def perimeter(self):\n",
    "        return 2 * (self.width + self.height)\n",
    "```\n",
    "\n",
    "2. Create a class `BankAccount` that has attributes for account holder's name and balance. Include methods to deposit, withdraw, and check the balance.\n",
    "```python\n",
    "class BankAccount:\n",
    "    def __init__(self, account_holder, initial_balance=0):\n",
    "        self.account_holder = account_holder\n",
    "        self.balance = initial_balance\n",
    "\n",
    "    def deposit(self, amount):\n",
    "        self.balance += amount\n",
    "        print(f\"Deposited {amount}. New balance: {self.balance}\")\n",
    "\n",
    "    def withdraw(self, amount):\n",
    "        if amount > self.balance:\n",
    "            print(\"Insufficient funds\")\n",
    "        else:\n",
    "            self.balance -= amount\n",
    "            print(f\"Withdrew {amount}. New balance: {self.balance}\")\n",
    "\n",
    "    def check_balance(self):\n",
    "        print(f\"Account holder: {self.account_holder}, Balance: {self.balance}\")\n",
    "```\n",
    "\n",
    "3. Create a class `Student` that has attributes for name, age, and grades (a list of numbers). Include methods to add a grade, calculate the average grade, and display student information.\n",
    "```python\n",
    "class Student:\n",
    "    def __init__(self, name, age):\n",
    "        self.name = name\n",
    "        self.age = age\n",
    "        self.grades = []\n",
    "\n",
    "    def add_grade(self, grade):\n",
    "        self.grades.append(grade)\n",
    "\n",
    "    def average_grade(self):\n",
    "        if not self.grades:\n",
    "            return 0\n",
    "        return sum(self.grades) / len(self.grades)\n",
    "\n",
    "    def display_info(self):\n",
    "        print(f\"Name: {self.name}, Age: {self.age}, Average Grade: {self.average_grade()}\")\n",
    "```\n",
    "\n",
    "4. Create a class `Library` that has attributes for name and a list of books (each book can be represented as a string). Include methods to add a book, remove a book, and display all books in the library.\n",
    "```python\n",
    "class Library:\n",
    "    def __init__(self, name):\n",
    "        self.name = name\n",
    "        self.books = []\n",
    "\n",
    "    def add_book(self, book):\n",
    "        self.books.append(book)\n",
    "\n",
    "    def remove_book(self, book):\n",
    "        if book in self.books:\n",
    "            self.books.remove(book)\n",
    "\n",
    "    def display_books(self):\n",
    "        print(f\"Books in {self.name}:\")\n",
    "        for book in self.books:\n",
    "            print(f\" - {book}\")\n",
    "```\n",
    "\n",
    "5. Create a class `Car` that has attributes for make, model, year, and mileage. Include methods to drive the car (which increases mileage), display car information, and check if the car needs maintenance (e.g., every 10,000 miles).\n",
    "\n",
    "```python\n",
    "class Car:\n",
    "    def __init__(self, make, model, year, mileage=0):\n",
    "        self.make = make\n",
    "        self.model = model\n",
    "        self.year = year\n",
    "        self.mileage = mileage\n",
    "\n",
    "    def drive(self, distance):\n",
    "        self.mileage += distance\n",
    "        print(f\"Driven {distance} miles. Total mileage: {self.mileage}\")\n",
    "\n",
    "    def display_info(self):\n",
    "        print(f\"Car Information:\")\n",
    "        print(f\" Make: {self.make}\")\n",
    "        print(f\" Model: {self.model}\")\n",
    "        print(f\" Year: {self.year}\")\n",
    "        print(f\" Mileage: {self.mileage}\")\n",
    "\n",
    "    def needs_maintenance(self):\n",
    "        return self.mileage >= 10000    \n",
    "```\n",
    "\n",
    "```python\n",
    "# Example usage:\n",
    "my_car = Car(\"Toyota\", \"Camry\", 2020)\n",
    "my_car.drive(150)\n",
    "my_car.display_info()\n",
    "print(\"Needs maintenance:\", my_car.needs_maintenance())\n",
    "```\n",
    "\n",
    "Exercises using inheritance:\n",
    "1. Create a base class `Animal` with attributes for name and age. Include a method to make a sound. Then, create subclasses `Dog` and `Cat` that inherit from `Animal` and override the sound method to bark and meow, respectively.\n",
    "\n",
    "```python\n",
    "class Animal:\n",
    "    def __init__(self, name, age):\n",
    "        self.name = name\n",
    "        self.age = age\n",
    "\n",
    "    def make_sound(self):\n",
    "        pass\n",
    "\n",
    "class Dog(Animal):\n",
    "    def make_sound(self):\n",
    "        return \"Bark!\"\n",
    "\n",
    "class Cat(Animal):\n",
    "    def make_sound(self):\n",
    "        return \"Meow!\"\n",
    "```\n",
    "\n",
    "2. Create a base class `Vehicle` with attributes for make, model, and year. Include a method to display vehicle information. Then, create subclasses `Car` and `Truck` that inherit from `Vehicle` and add specific attributes (e.g., number of doors for `Car`, payload capacity for `Truck`).\n",
    "\n",
    "```python\n",
    "class Vehicle:\n",
    "    def __init__(self, make, model, year):\n",
    "        self.make = make\n",
    "        self.model = model\n",
    "        self.year = year\n",
    "    def display_info(self):\n",
    "        print(f\"Vehicle Information: {self.year} {self.make} {self.model}\")\n",
    "\n",
    "class Car(Vehicle):\n",
    "    def __init__(self, make, model, year, num_doors):\n",
    "        super().__init__(make, model, year)\n",
    "        self.num_doors = num_doors\n",
    "\n",
    "    def display_info(self):\n",
    "        super().display_info()\n",
    "        print(f\"Number of doors: {self.num_doors}\")\n",
    "\n",
    "class Truck(Vehicle):\n",
    "    def __init__(self, make, model, year, payload_capacity):\n",
    "        super().__init__(make, model, year)\n",
    "        self.payload_capacity = payload_capacity\n",
    "\n",
    "    def display_info(self):\n",
    "        super().display_info()\n",
    "        print(f\"Payload capacity: {self.payload_capacity} tons\")\n",
    "```\n",
    "\n",
    "- Exercises with classes in physics:\n",
    "\n",
    "1. Create a class `Particle` that has attributes for mass, charge, and position (a tuple of x, y, z coordinates). Include methods to calculate the kinetic energy and potential energy of the particle in a gravitational field.\n",
    "\n",
    "```python\n",
    "class Particle:\n",
    "    def __init__(self, mass, charge, position):\n",
    "        self.mass = mass\n",
    "        self.charge = charge\n",
    "        self.position = position  # position is a tuple (x, y, z)\n",
    "\n",
    "    def kinetic_energy(self, velocity):\n",
    "        return 0.5 * self.mass * velocity**2\n",
    "\n",
    "    def potential_energy(self, height):\n",
    "        g = 9.81  # acceleration due to gravity in m/s^2\n",
    "        return self.mass * g * height   \n",
    "```\n",
    "\n",
    "2. Create a class `ElectricField` that has attributes for field strength and direction (a tuple of x, y, z components). Include methods to calculate the force on a charged particle placed in the field.\n",
    "\n",
    "```python\n",
    "class ElectricField:\n",
    "    def __init__(self, field_strength, direction):\n",
    "        self.field_strength = field_strength  # in N/C\n",
    "        self.direction = direction  # direction is a tuple (x, y, z)\n",
    "\n",
    "    def force_on_particle(self, particle):\n",
    "        fx = self.field_strength * self.direction[0] * particle.charge\n",
    "        fy = self.field_strength * self.direction[1] * particle.charge\n",
    "        fz = self.field_strength * self.direction[2] * particle.charge\n",
    "        return (fx, fy, fz)\n",
    "```\n",
    "\n",
    "3. Create a class `Wave` that has attributes for amplitude, frequency, and wavelength. Include methods to calculate the wave speed and the energy of the wave.\n",
    "\n",
    "```python\n",
    "class Wave:\n",
    "    def __init__(self, amplitude, frequency, wavelength):\n",
    "        self.amplitude = amplitude  # in meters\n",
    "        self.frequency = frequency  # in Hz\n",
    "        self.wavelength = wavelength  # in meters\n",
    "\n",
    "    def wave_speed(self):\n",
    "        return self.frequency * self.wavelength\n",
    "\n",
    "    def energy(self):\n",
    "        return 0.5 * (self.amplitude ** 2) * (self.frequency ** 2)   \n",
    "```\n",
    "\n",
    "4. Create a class `QuantumState` that has attributes for the wavefunction (a function of position) and energy level. Include methods to calculate the probability density and expectation value of position.\n",
    "\n",
    "```python\n",
    "class QuantumState:\n",
    "    def __init__(self, wavefunction, energy_level):\n",
    "        self.wavefunction = wavefunction  # wavefunction is a callable function\n",
    "        self.energy_level = energy_level\n",
    "\n",
    "    def probability_density(self, position):\n",
    "        psi = self.wavefunction(position)\n",
    "        return abs(psi)**2\n",
    "\n",
    "    def expectation_value_position(self, position_range):\n",
    "        dx = position_range[1] - position_range[0]\n",
    "        integral = sum(self.probability_density(x) * x * dx for x in position_range)\n",
    "        return integral   \n",
    "```\n",
    "\n",
    "5. Create a class `Circuit` that has attributes for resistance, capacitance, and inductance. Include methods to calculate the impedance and resonant frequency of the circuit.\n",
    "```python\n",
    "class Circuit:\n",
    "    def __init__(self, resistance, capacitance, inductance):\n",
    "        self.resistance = resistance  # in ohms\n",
    "        self.capacitance = capacitance  # in farads\n",
    "        self.inductance = inductance  # in henrys\n",
    "\n",
    "    def impedance(self, frequency):\n",
    "        omega = 2 * 3.14159 * frequency\n",
    "        z_capacitive = 1 / (1j * omega * self.capacitance)\n",
    "        z_inductive = 1j * omega * self.inductance\n",
    "        return self.resistance + z_capacitive + z_inductive\n",
    "\n",
    "    def resonant_frequency(self):\n",
    "        return 1 / (2 * 3.14159 * (self.inductance * self.capacitance) ** 0.5)   \n",
    "```\n",
    "\n",
    "- Exercises in classes and inheritance in quantum physics:\n",
    "\n",
    "1. Create a base class `QuantumParticle` with attributes for mass, charge, and spin. Include methods to calculate the de Broglie wavelength and energy of the particle. Then, create subclasses `Electron` and `Proton` that inherit from `QuantumParticle` and add specific attributes (e.g., atomic number for `Proton`).\n",
    "\n",
    "```python\n",
    "class QuantumParticle:\n",
    "    def __init__(self, mass, charge, spin):\n",
    "        self.mass = mass  # in kg\n",
    "        self.charge = charge  # in coulombs\n",
    "        self.spin = spin  # in ħ units\n",
    "\n",
    "    def de_broglie_wavelength(self, momentum):\n",
    "        h = 6.62607015e-34  # Planck's constant in J·s\n",
    "        return h / momentum\n",
    "\n",
    "    def energy(self, frequency):\n",
    "        h = 6.62607015e-34  # Planck's constant in J·s\n",
    "        return h * frequency\n",
    "\n",
    "class Electron(QuantumParticle):\n",
    "    def __init__(self):\n",
    "        super().__init__(mass=9.10938356e-31, charge=-1.602176634e-19, spin=0.5)\n",
    "\n",
    "class Proton(QuantumParticle):\n",
    "    def __init__(self):\n",
    "        super().__init__(mass=1.6726219e-27, charge=1.602176634e-19, spin=0.5)\n",
    "        self.atomic_number = 1\n",
    "```\n",
    "\n",
    "2. Create a base class `QuantumSystem` with attributes for Hamiltonian and wavefunction. Include methods to calculate the time evolution of the system and expectation values of observables. Then, create subclasses `HarmonicOscillator` and `ParticleInBox` that inherit from `QuantumSystem` and implement specific Hamiltonians and wavefunctions.\n",
    "\n",
    "```python\n",
    "class QuantumSystem:\n",
    "    def __init__(self, hamiltonian, wavefunction):\n",
    "        self.hamiltonian = hamiltonian  # Hamiltonian is a callable function\n",
    "        self.wavefunction = wavefunction  # Wavefunction is a callable function\n",
    "\n",
    "    def time_evolution(self, time):\n",
    "        # Placeholder for time evolution calculation\n",
    "        pass\n",
    "\n",
    "    def expectation_value(self, observable, position_range):\n",
    "        dx = position_range[1] - position_range[0]\n",
    "        integral = sum(self.wavefunction(x).conjugate() * observable(x) * self.wavefunction(x) * dx for x in position_range)\n",
    "        return integral\n",
    "class HarmonicOscillator(QuantumSystem):\n",
    "    def __init__(self, mass, frequency):\n",
    "        hamiltonian = lambda x: (1/2) * mass * (frequency**2) * (x**2)  # Simplified Hamiltonian\n",
    "        wavefunction = lambda x: (mass * frequency / 3.14159)**0.25 * (2.71828)**(-mass * frequency * (x**2) / 2)  # Ground state wavefunction\n",
    "        super().__init__(hamiltonian, wavefunction) \n",
    "class ParticleInBox(QuantumSystem):\n",
    "    def __init__(self, box_length):\n",
    "        hamiltonian = lambda x: 0 if 0 < x < box_length else float('inf')  # Infinite potential well\n",
    "        wavefunction = lambda x: (2 / box_length)**0.5 * (3.14159 / box_length)**0.5 * (3.14159 * x / box_length)  # Ground state wavefunction\n",
    "        super().__init__(hamiltonian, wavefunction)   \n",
    "```\n",
    "\n",
    "3. Create a base class `QuantumField` with attributes for field strength and potential. Include methods to calculate the field equations and energy density. Then, create subclasses `ElectromagneticField` and `ScalarField` that inherit from `QuantumField` and implement specific field equations and potentials.\n",
    "\n",
    "\n",
    "\n",
    "```python\n",
    "class QuantumField:\n",
    "    def __init__(self, field_strength, potential):\n",
    "        self.field_strength = field_strength  # in appropriate units\n",
    "        self.potential = potential  # Potential is a callable function\n",
    "\n",
    "    def field_equations(self):\n",
    "        # Placeholder for field equations calculation\n",
    "        pass\n",
    "\n",
    "    def energy_density(self):\n",
    "        # Placeholder for energy density calculation\n",
    "        pass\n",
    "\n",
    "class ElectromagneticField(QuantumField):\n",
    "    def __init__(self, field_strength, potential):\n",
    "        super().__init__(field_strength, potential)\n",
    "\n",
    "class ScalarField(QuantumField):\n",
    "    def __init__(self, field_strength, potential):\n",
    "        super().__init__(field_strength, potential) \n",
    "# Example usage:\n",
    "em_field = ElectromagneticField(field_strength=1.0, potential=lambda x: x**2)\n",
    "scalar_field = ScalarField(field_strength=0.5, potential=lambda x: x**4)   \n",
    "```\n",
    "\n"
   ]
  },
  {
   "cell_type": "markdown",
   "id": "8f04b669",
   "metadata": {},
   "source": [
    "\n",
    "```{admonition} Click the button to reveal!\n",
    ":class: dropdown\n",
    "\n",
    "Python example\n",
    "\n",
    "```python\n",
    "\n",
    "import numpy as np\n",
    "import matplotlib.pyplot as plt\n",
    "plt.ion()\n",
    "\n",
    "data = np.random.randn(2, 100)\n",
    "fig, ax = plt.subplots()\n",
    "ax.scatter(*data, c=data[1], s=100*np.abs(data[0]));\n",
    "```"
   ]
  }
 ],
 "metadata": {
  "colab": {
   "collapsed_sections": [],
   "name": "PyQM_3.2_Classes.ipynb",
   "provenance": []
  },
  "deepnote": {},
  "deepnote_execution_queue": [],
  "deepnote_notebook_id": "db1cfffc-f7d4-4eb2-9d2b-1d9662902638",
  "kernelspec": {
   "display_name": "PyQM",
   "language": "python",
   "name": "python3"
  },
  "language_info": {
   "codemirror_mode": {
    "name": "ipython",
    "version": 3
   },
   "file_extension": ".py",
   "mimetype": "text/x-python",
   "name": "python",
   "nbconvert_exporter": "python",
   "pygments_lexer": "ipython3",
   "version": "3.9.23"
  }
 },
 "nbformat": 4,
 "nbformat_minor": 5
}
