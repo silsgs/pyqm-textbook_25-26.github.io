{
 "cells": [
  {
   "cell_type": "markdown",
   "id": "86145a6a",
   "metadata": {
    "cell_id": "00000-09bd3d31-e9d7-40eb-bc81-598ba4707092",
    "deepnote_cell_type": "markdown",
    "id": "e408ea81"
   },
   "source": [
    "# Part 2: Classes\n",
    "\n",
    "Classes are a way to bundle data and functionality together. Creating a new class creates a new type of object, allowing new instances of that type to be made. Each class instance can have attributes attached to it for maintaining its state. Class instances can also have methods (defined by its class) for modifying its state."
   ]
  },
  {
   "cell_type": "markdown",
   "id": "57a73233",
   "metadata": {
    "cell_id": "00001-3bf70356-b8b9-43f7-bf44-9b0034a9f236",
    "deepnote_cell_type": "markdown",
    "id": "caf1d2ad"
   },
   "source": [
    "## Defining A Class\n",
    "We can think of classes as categories of objects, instances are then particular types of that object. A real life example would be tables. Tables are objects, but we can have many different instances of a table; a white, three-legged table or maybe a brown, four-legged table etc...\n",
    "\n",
    "Classes contain functions, associated with that class, that we call methods. In the below example `hello_method` is a method that prints the name associated with a particular instance. The `__init__` function is also a method, but it is one of a few so-called magic methods, indicated by the double underscores. It is used to initialise an instance of the class.\n",
    "\n",
    "Here is how we define a class:"
   ]
  },
  {
   "cell_type": "markdown",
   "id": "44534fe3",
   "metadata": {
    "cell_id": "00002-c7cd7332-827a-4fed-ac85-5ee19ff74903",
    "deepnote_cell_type": "markdown",
    "id": "FNTyRdF9W2ol"
   },
   "source": [
    "```class My_Class: ```\n",
    "\n",
    "```       statements ```"
   ]
  },
  {
   "cell_type": "markdown",
   "id": "14c4df20",
   "metadata": {
    "cell_id": "00003-3f8d3b92-0c21-4ee3-a3cb-088d77b8a0d5",
    "deepnote_cell_type": "markdown",
    "id": "ff00229a"
   },
   "source": [
    "For example"
   ]
  },
  {
   "cell_type": "code",
   "execution_count": 1,
   "id": "96f2035e",
   "metadata": {
    "cell_id": "00004-2de6ab19-837b-4c2b-88d9-dadb8c07dac0",
    "deepnote_cell_type": "code",
    "id": "d22ef766"
   },
   "outputs": [],
   "source": [
    "class My_Class:\n",
    "    def __init__(self,name):\n",
    "        self.name = name\n",
    "        \n",
    "    def hello_method(self):\n",
    "        print('Hello {}!'.format(self.name))"
   ]
  },
  {
   "cell_type": "code",
   "execution_count": 2,
   "id": "5fd31804",
   "metadata": {
    "cell_id": "00005-349c415b-f503-4872-b06b-402604e7c6a2",
    "deepnote_cell_type": "code",
    "id": "f6d624f2",
    "outputId": "12fa56fe-b31e-474f-dd48-7869ea116469"
   },
   "outputs": [
    {
     "name": "stdout",
     "output_type": "stream",
     "text": [
      "<class 'type'>\n"
     ]
    }
   ],
   "source": [
    "print(type(My_Class))"
   ]
  },
  {
   "cell_type": "code",
   "execution_count": 3,
   "id": "9c67e6d0",
   "metadata": {
    "cell_id": "00006-202f4c50-a5cf-4fba-a78e-9ab68cba5f36",
    "deepnote_cell_type": "code",
    "id": "899671e3",
    "outputId": "7768e967-a016-495e-e695-8d46c6f886a8"
   },
   "outputs": [
    {
     "name": "stdout",
     "output_type": "stream",
     "text": [
      "<class '__main__.My_Class'>\n"
     ]
    }
   ],
   "source": [
    "Class_Instance = My_Class(\"Conor\")\n",
    "print(type(Class_Instance))"
   ]
  },
  {
   "cell_type": "code",
   "execution_count": 4,
   "id": "d9080096",
   "metadata": {
    "cell_id": "00007-215b7d2c-dbfb-44b6-899f-68706bc7043e",
    "deepnote_cell_type": "code",
    "id": "5e67204c",
    "outputId": "f0e81532-a289-40c9-d322-662bc5ea3a8e"
   },
   "outputs": [
    {
     "name": "stdout",
     "output_type": "stream",
     "text": [
      "Hello Conor!\n"
     ]
    }
   ],
   "source": [
    "Class_Instance.hello_method()    "
   ]
  },
  {
   "cell_type": "code",
   "execution_count": 5,
   "id": "6341e084",
   "metadata": {
    "cell_id": "00008-1e77f402-bd71-45dc-aa2c-71fdd3501acc",
    "deepnote_cell_type": "code",
    "id": "ad75bb99",
    "outputId": "6f7cd043-0b9c-42f6-f65a-20e2b372f166"
   },
   "outputs": [
    {
     "name": "stdout",
     "output_type": "stream",
     "text": [
      "Hello Betty!\n"
     ]
    }
   ],
   "source": [
    "Different_Class_Instance = My_Class(\"Betty\")\n",
    "Different_Class_Instance.hello_method()"
   ]
  },
  {
   "cell_type": "markdown",
   "id": "e0e27feb",
   "metadata": {
    "cell_id": "00009-4de07cf8-cc96-43ee-b6c1-74ebda9bc157",
    "deepnote_cell_type": "markdown",
    "id": "645d755b"
   },
   "source": [
    "Notice also the use of `self`, it simply refers to the instance of the class itself. It can be named arbitrarily, but it is common practice to use `self`, for example"
   ]
  },
  {
   "cell_type": "code",
   "execution_count": 6,
   "id": "f61a4a23",
   "metadata": {
    "cell_id": "00010-35f17c67-4d43-4243-852b-49a1308c2619",
    "deepnote_cell_type": "code",
    "id": "5b871cdf",
    "outputId": "dc6e1c72-71f5-452d-b1b6-d0c3c3c9cb05"
   },
   "outputs": [
    {
     "name": "stdout",
     "output_type": "stream",
     "text": [
      "Hello Conor!\n"
     ]
    }
   ],
   "source": [
    "class My_Class:\n",
    "    def __init__(fjsdhfg,name):\n",
    "        fjsdhfg.name = name\n",
    "        \n",
    "    def hello_method(fjsdhfg):\n",
    "        print('Hello {}!'.format(fjsdhfg.name))\n",
    "\n",
    "        \n",
    "Class_Instance = My_Class(\"Conor\")\n",
    "Class_Instance.hello_method()  "
   ]
  },
  {
   "cell_type": "markdown",
   "id": "ca5e19a0",
   "metadata": {
    "cell_id": "00011-3748a7f5-3630-43fd-a6dc-82a1e38535e5",
    "deepnote_cell_type": "markdown",
    "id": "a358b113"
   },
   "source": [
    "We can use `dir()` to obtain a list all the methods in the class instance. Notice all of the magic methods."
   ]
  },
  {
   "cell_type": "code",
   "execution_count": 7,
   "id": "6520a877",
   "metadata": {
    "cell_id": "00012-73a2961e-977a-4a5c-a5cc-bace3ec33cb8",
    "deepnote_cell_type": "code",
    "id": "584dc5a6",
    "outputId": "f9e4a0ae-4ad4-46c4-8feb-f4e77efd6538"
   },
   "outputs": [
    {
     "name": "stdout",
     "output_type": "stream",
     "text": [
      "['__class__', '__delattr__', '__dict__', '__dir__', '__doc__', '__eq__', '__format__', '__ge__', '__getattribute__', '__gt__', '__hash__', '__init__', '__init_subclass__', '__le__', '__lt__', '__module__', '__ne__', '__new__', '__reduce__', '__reduce_ex__', '__repr__', '__setattr__', '__sizeof__', '__str__', '__subclasshook__', '__weakref__', 'hello_method', 'name']\n"
     ]
    }
   ],
   "source": [
    "print(dir(Class_Instance))"
   ]
  },
  {
   "cell_type": "markdown",
   "id": "b853426d",
   "metadata": {
    "cell_id": "00013-48703757-899c-45fc-afcc-e02f964c2fdb",
    "deepnote_cell_type": "markdown",
    "id": "eacc0c94"
   },
   "source": [
    "## Attributes\n",
    "\n",
    "There are two types of attributes associated with classes. Namely, class attributes and method attributes. "
   ]
  },
  {
   "cell_type": "code",
   "execution_count": 8,
   "id": "fd125ae8",
   "metadata": {
    "cell_id": "00014-fa2bec6c-fa44-41c0-bd07-38224d391911",
    "deepnote_cell_type": "code",
    "id": "01f2d723"
   },
   "outputs": [],
   "source": [
    "class My_Class:\n",
    "    last_name = \"Ronan\" # This is a class attribute\n",
    "    def __init__(self,name):\n",
    "        self.name = name #This is a method attribute\n",
    "        \n",
    "    def hello_method(self):\n",
    "        print('Hello {} {}!'.format(self.name,self.last_name))"
   ]
  },
  {
   "cell_type": "code",
   "execution_count": 9,
   "id": "9febf77f",
   "metadata": {
    "cell_id": "00015-79bf1a72-2ed3-47dc-917f-2fdd6fb84f36",
    "deepnote_cell_type": "code",
    "id": "16b33255"
   },
   "outputs": [],
   "source": [
    "Class_Instance = My_Class(\"Saoirse\")\n",
    "Class_Instance2 = My_Class(\"Sinead\")"
   ]
  },
  {
   "cell_type": "code",
   "execution_count": 10,
   "id": "2930ff12",
   "metadata": {
    "cell_id": "00016-d229ca83-d6dd-4ff1-bbab-dc7d7cb6c63c",
    "deepnote_cell_type": "code",
    "id": "3f9c589a",
    "outputId": "419d32e9-3d65-4993-c227-fca8f3aec7ff"
   },
   "outputs": [
    {
     "name": "stdout",
     "output_type": "stream",
     "text": [
      "Hello Saoirse Ronan!\n",
      "Hello Sinead Ronan!\n"
     ]
    }
   ],
   "source": [
    "Class_Instance.hello_method()\n",
    "Class_Instance2.hello_method()"
   ]
  },
  {
   "cell_type": "markdown",
   "id": "e4dd8d5e",
   "metadata": {
    "cell_id": "00017-b5169f47-1b50-42b7-b385-b4ea8af9b87a",
    "deepnote_cell_type": "markdown",
    "id": "4080c6f2"
   },
   "source": [
    "Class attributes are accessible by all instances of the class. But method attributes, defined within methods, are only accessible by an instance of the class"
   ]
  },
  {
   "cell_type": "code",
   "execution_count": 11,
   "id": "fa4d0c5f",
   "metadata": {
    "cell_id": "00018-a3f39365-fbac-4055-9456-260eb5a17bfb",
    "deepnote_cell_type": "code",
    "id": "14f79156",
    "outputId": "3f14af29-0aff-4690-dd16-71c5d8bac0de"
   },
   "outputs": [
    {
     "name": "stdout",
     "output_type": "stream",
     "text": [
      "Ronan\n",
      "Ronan\n"
     ]
    }
   ],
   "source": [
    "#Class attribute\n",
    "print(Class_Instance.last_name)\n",
    "print(Class_Instance2.last_name)"
   ]
  },
  {
   "cell_type": "code",
   "execution_count": 12,
   "id": "6694de9e",
   "metadata": {
    "cell_id": "00019-4f582f76-42d3-41a6-b16f-4245d8b19706",
    "deepnote_cell_type": "code",
    "id": "f543bd24",
    "outputId": "db1d643b-e3dd-44ba-e712-99924e4d89fd"
   },
   "outputs": [
    {
     "name": "stdout",
     "output_type": "stream",
     "text": [
      "Saoirse\n",
      "Sinead\n"
     ]
    }
   ],
   "source": [
    "#Method Attribute\n",
    "print(Class_Instance.name)\n",
    "print(Class_Instance2.name)"
   ]
  },
  {
   "cell_type": "markdown",
   "id": "78cca294",
   "metadata": {
    "cell_id": "00020-cf6b8f2b-e780-4971-b353-ece6d7a43714",
    "deepnote_cell_type": "markdown",
    "id": "dcfc4436"
   },
   "source": [
    "Lets define the class in a slighly different way"
   ]
  },
  {
   "cell_type": "code",
   "execution_count": 13,
   "id": "9857f198",
   "metadata": {
    "cell_id": "00021-0ad026eb-552b-42c4-b159-4aec2d39c2e7",
    "deepnote_cell_type": "code",
    "id": "a1c75f72"
   },
   "outputs": [],
   "source": [
    "class My_Class:\n",
    "    last_name = \"Ronan\" \n",
    "    def __init__(self,name):\n",
    "        self.n = name #Notice the difference here\n",
    "        \n",
    "    def hello_method(self):\n",
    "        print('Hello {} {}!'.format(self.name,self.last_name))"
   ]
  },
  {
   "cell_type": "markdown",
   "id": "2266c6cd",
   "metadata": {
    "cell_id": "00022-201f3945-4f8b-47f9-9c82-03c65f8bd240",
    "deepnote_cell_type": "markdown",
    "id": "4b90241b"
   },
   "source": [
    "This begs the questions, how do we call the `n` or `name` method attribute. Lets find out."
   ]
  },
  {
   "cell_type": "code",
   "execution_count": 14,
   "id": "8d8e90a7",
   "metadata": {
    "cell_id": "00023-3e6de075-0c72-4e2f-9c30-8eac25f9db6e",
    "deepnote_cell_type": "code",
    "id": "b6e8257d"
   },
   "outputs": [],
   "source": [
    "Class_Instance = My_Class(\"Saoirse\")"
   ]
  },
  {
   "cell_type": "code",
   "execution_count": 15,
   "id": "de2f0e3e",
   "metadata": {
    "cell_id": "00024-dc91e8e2-7b50-4188-8a02-ee69427095d2",
    "deepnote_cell_type": "code",
    "id": "e2a481a3",
    "outputId": "fa66bfe2-5948-4f81-8f96-b48d5f905d00"
   },
   "outputs": [
    {
     "name": "stdout",
     "output_type": "stream",
     "text": [
      "Saoirse\n"
     ]
    }
   ],
   "source": [
    "print(Class_Instance.n)"
   ]
  },
  {
   "cell_type": "code",
   "execution_count": 16,
   "id": "32d26fdc",
   "metadata": {
    "cell_id": "00025-4413191c-ee9e-489d-a472-32bf5ee4d47a",
    "deepnote_cell_type": "code",
    "id": "19a8dad0",
    "outputId": "afd97f71-c0e3-440d-a564-81f14f636b6b"
   },
   "outputs": [
    {
     "ename": "AttributeError",
     "evalue": "'My_Class' object has no attribute 'name'",
     "output_type": "error",
     "traceback": [
      "\u001b[0;31m---------------------------------------------------------------------------\u001b[0m",
      "\u001b[0;31mAttributeError\u001b[0m                            Traceback (most recent call last)",
      "\u001b[0;32m/var/folders/9b/hnjyg5ld18v94zj022rv_zzm0000gn/T/ipykernel_6557/2970650819.py\u001b[0m in \u001b[0;36m<cell line: 1>\u001b[0;34m()\u001b[0m\n\u001b[0;32m----> 1\u001b[0;31m \u001b[0mprint\u001b[0m\u001b[0;34m(\u001b[0m\u001b[0mClass_Instance\u001b[0m\u001b[0;34m.\u001b[0m\u001b[0mname\u001b[0m\u001b[0;34m)\u001b[0m\u001b[0;34m\u001b[0m\u001b[0;34m\u001b[0m\u001b[0m\n\u001b[0m",
      "\u001b[0;31mAttributeError\u001b[0m: 'My_Class' object has no attribute 'name'"
     ]
    }
   ],
   "source": [
    "print(Class_Instance.name)"
   ]
  },
  {
   "cell_type": "markdown",
   "id": "1100e0c1",
   "metadata": {
    "cell_id": "00026-b5419be3-a4ed-45b3-9c44-116e8e43956b",
    "deepnote_cell_type": "markdown",
    "id": "093a62a6"
   },
   "source": [
    "As we can see, we must use `n`, the variable associated with `self`."
   ]
  },
  {
   "cell_type": "markdown",
   "id": "a29f832f",
   "metadata": {
    "cell_id": "00027-20a5ab6b-9037-4f05-b331-46899f2d9f4b",
    "deepnote_cell_type": "markdown",
    "id": "56eeda01"
   },
   "source": [
    "## Magic Methods\n",
    "\n",
    "Here lets introduce some common magic methods\n",
    "\n",
    "### `__init__()`\n",
    "\n",
    "`__init__()` automatically initialises the class instance when the instance is generated, while other methods must be called on manually."
   ]
  },
  {
   "cell_type": "code",
   "execution_count": 18,
   "id": "a8d6d387",
   "metadata": {
    "cell_id": "00028-a92d9420-18a3-4e46-a112-2c386a4485d6",
    "deepnote_cell_type": "code",
    "id": "b2d03256"
   },
   "outputs": [],
   "source": [
    "class Beep:\n",
    "    def __init__(self, noise):\n",
    "        self.noise = noise\n",
    "        print('Is somebody creating an instance?...I am now initialising...beeepedy beep bop beep {}'.format(noise))\n",
    "        \n",
    "    def call_me(self):\n",
    "        print('Call me Beep {} Bopperson'.format(self.noise))"
   ]
  },
  {
   "cell_type": "code",
   "execution_count": 19,
   "id": "11a6a3c0",
   "metadata": {
    "cell_id": "00029-a622ba61-9dc8-4eaf-8e70-532474a96710",
    "colab": {
     "base_uri": "https://localhost:8080/"
    },
    "deepnote_cell_type": "code",
    "executionInfo": {
     "elapsed": 6,
     "status": "ok",
     "timestamp": 1624362663242,
     "user": {
      "displayName": "Conor Dunne",
      "photoUrl": "",
      "userId": "14934053525675490562"
     },
     "user_tz": -60
    },
    "id": "3753f807",
    "outputId": "b8a57a3d-cf20-4493-c05d-0b909d936900"
   },
   "outputs": [
    {
     "name": "stdout",
     "output_type": "stream",
     "text": [
      "Is somebody creating an instance?...I am now initialising...beeepedy beep bop beep Bloop\n"
     ]
    }
   ],
   "source": [
    "beeeep = Beep('Bloop')"
   ]
  },
  {
   "cell_type": "code",
   "execution_count": 20,
   "id": "6ab96e64",
   "metadata": {
    "cell_id": "00030-9d4ee1b1-4a7c-4367-8a51-636b5300f041",
    "colab": {
     "base_uri": "https://localhost:8080/"
    },
    "deepnote_cell_type": "code",
    "executionInfo": {
     "elapsed": 370,
     "status": "ok",
     "timestamp": 1624362666374,
     "user": {
      "displayName": "Conor Dunne",
      "photoUrl": "",
      "userId": "14934053525675490562"
     },
     "user_tz": -60
    },
    "id": "859b1b8d",
    "outputId": "547789fe-c2e1-4fe0-916a-c907cf39c454"
   },
   "outputs": [
    {
     "name": "stdout",
     "output_type": "stream",
     "text": [
      "Call me Beep Bloop Bopperson\n"
     ]
    }
   ],
   "source": [
    "beeeep.call_me()"
   ]
  },
  {
   "cell_type": "markdown",
   "id": "bf4930f1",
   "metadata": {
    "cell_id": "00031-f63f9a15-1407-41ef-b4ff-6de60abe3cc2",
    "deepnote_cell_type": "markdown",
    "id": "009bf5f1"
   },
   "source": [
    "In the `__init__()` method we declare the instance variables bvy assigning them to `self`. They can then be accessed in other methods using `self`."
   ]
  },
  {
   "cell_type": "markdown",
   "id": "a9f8dd69",
   "metadata": {
    "cell_id": "00032-cf528cb2-a248-4d1d-90bc-293c335c5e65",
    "deepnote_cell_type": "markdown",
    "id": "efce6534"
   },
   "source": [
    "### `__str__()`\n",
    "\n",
    "This method is useful for indicating the printable version of an instance of a class."
   ]
  },
  {
   "cell_type": "code",
   "execution_count": 21,
   "id": "049d85a7",
   "metadata": {
    "cell_id": "00033-476a5690-c94e-48e3-a34e-ef4cfce147f2",
    "deepnote_cell_type": "code",
    "id": "ce51898b"
   },
   "outputs": [],
   "source": [
    "class Beep:\n",
    "    def __init__(self, noise):\n",
    "        self.noise = noise\n",
    "        print('Is somebody creating an instance?...I am now initialising...beeepedy beep bop beep {}'.format(noise))\n",
    "        \n",
    "    def call_me(self):\n",
    "        print('Call me Beep {} Bopperson'.format(self.noise))\n",
    "        \n",
    "    def __str__(self):\n",
    "        return 'This will print when I print the instance with noise {}'.format(self.noise)"
   ]
  },
  {
   "cell_type": "code",
   "execution_count": 22,
   "id": "a9a5e1c8",
   "metadata": {
    "cell_id": "00034-0638e27c-5a9c-4c9f-b9c6-6128530220cf",
    "colab": {
     "base_uri": "https://localhost:8080/"
    },
    "deepnote_cell_type": "code",
    "executionInfo": {
     "elapsed": 199,
     "status": "ok",
     "timestamp": 1624362704591,
     "user": {
      "displayName": "Conor Dunne",
      "photoUrl": "",
      "userId": "14934053525675490562"
     },
     "user_tz": -60
    },
    "id": "820f3168",
    "outputId": "c64c0da1-b376-4f37-f847-326b4ef1d1fd"
   },
   "outputs": [
    {
     "name": "stdout",
     "output_type": "stream",
     "text": [
      "Is somebody creating an instance?...I am now initialising...beeepedy beep bop beep KABLAM\n"
     ]
    }
   ],
   "source": [
    "KABLAM = Beep('KABLAM')"
   ]
  },
  {
   "cell_type": "code",
   "execution_count": 23,
   "id": "736ca1d6",
   "metadata": {
    "cell_id": "00035-930cda07-e38c-4671-9407-e05fea3b7b04",
    "colab": {
     "base_uri": "https://localhost:8080/"
    },
    "deepnote_cell_type": "code",
    "executionInfo": {
     "elapsed": 207,
     "status": "ok",
     "timestamp": 1624362707587,
     "user": {
      "displayName": "Conor Dunne",
      "photoUrl": "",
      "userId": "14934053525675490562"
     },
     "user_tz": -60
    },
    "id": "5d374780",
    "outputId": "3d4f1a9a-9d71-4919-a8ed-7247e1d35f2c"
   },
   "outputs": [
    {
     "name": "stdout",
     "output_type": "stream",
     "text": [
      "This will print when I print the instance with noise KABLAM\n"
     ]
    }
   ],
   "source": [
    "print(KABLAM)"
   ]
  },
  {
   "cell_type": "markdown",
   "id": "3eff3fe6",
   "metadata": {
    "cell_id": "00036-0d7a123e-bd42-46e4-947c-c9e716d3b3ab",
    "deepnote_cell_type": "markdown",
    "id": "3cab9e04"
   },
   "source": [
    "## Inheritance\n",
    "\n",
    "Classes can take on the attributes and methods of other classes by defining them as follows"
   ]
  },
  {
   "cell_type": "code",
   "execution_count": 24,
   "id": "53f012a1",
   "metadata": {
    "cell_id": "00037-48a56029-e2c7-4d62-89aa-fb8e03896b73",
    "deepnote_cell_type": "code",
    "id": "f2edf19e"
   },
   "outputs": [],
   "source": [
    "#class Parent_Class():\n",
    "    #Satements\n",
    "\n",
    "#class Child_Class(Parent_Class):\n",
    "    #Satements"
   ]
  },
  {
   "cell_type": "markdown",
   "id": "a08e9c59",
   "metadata": {
    "cell_id": "00038-cc3980da-1f31-4dcc-b751-c89c71378912",
    "deepnote_cell_type": "markdown",
    "id": "f358bc65"
   },
   "source": [
    "For example"
   ]
  },
  {
   "cell_type": "code",
   "execution_count": 25,
   "id": "bfcc200c",
   "metadata": {
    "cell_id": "00039-841f1758-2bd0-4e8f-bfc7-a17c4168e933",
    "deepnote_cell_type": "code",
    "id": "f80f991a"
   },
   "outputs": [],
   "source": [
    "class Being:\n",
    "    def hello(self):\n",
    "        print('Hello, I am an intelligent being')\n",
    "\n",
    "    @property #What is this line? This will be explained...\n",
    "    def Language(self):\n",
    "        return 'English'\n",
    "\n",
    "\n",
    "class Human(Being):\n",
    "    def hello(self):\n",
    "        print('Hello, I am an intelligent being...maybe...')\n",
    "\n",
    "\n",
    "class Alien(Being):\n",
    "    @property\n",
    "    def Language(self):\n",
    "        return 'Glarblackadack'"
   ]
  },
  {
   "cell_type": "code",
   "execution_count": 26,
   "id": "895df97a",
   "metadata": {
    "cell_id": "00040-1e25353c-b3c6-43e3-bad8-6c51e106fc12",
    "colab": {
     "base_uri": "https://localhost:8080/"
    },
    "deepnote_cell_type": "code",
    "executionInfo": {
     "elapsed": 227,
     "status": "ok",
     "timestamp": 1624362901610,
     "user": {
      "displayName": "Conor Dunne",
      "photoUrl": "",
      "userId": "14934053525675490562"
     },
     "user_tz": -60
    },
    "id": "1b1616a6",
    "outputId": "dfb0e723-6530-47ed-9692-6daa86411cef"
   },
   "outputs": [
    {
     "name": "stdout",
     "output_type": "stream",
     "text": [
      "Hello, I am an intelligent being...maybe...\n",
      "Humans's language is English\n",
      "Hello, I am an intelligent being\n",
      "Alien's language is Glarblackadack\n"
     ]
    }
   ],
   "source": [
    "human = Human()\n",
    "human.hello()\n",
    "print(\"Humans's language is {}\".format(human.Language))\n",
    "\n",
    "alien = Alien()\n",
    "alien.hello()\n",
    "print(\"Alien's language is {}\".format(alien.Language))"
   ]
  },
  {
   "cell_type": "markdown",
   "id": "a069e51e",
   "metadata": {
    "cell_id": "00041-545f43fa-0f11-4062-9f93-b9f91cef7fe0",
    "deepnote_cell_type": "markdown",
    "id": "e6d31a42"
   },
   "source": [
    "The line `@property` allows us to override the class method when we inherit that it."
   ]
  },
  {
   "cell_type": "markdown",
   "id": "6d651955",
   "metadata": {
    "cell_id": "00042-ff602593-26b7-490b-a2e4-1e152d50d0df",
    "deepnote_cell_type": "markdown",
    "id": "3b5a7858"
   },
   "source": [
    "## Operator Overloading\n",
    "\n",
    "We have use the basic operators `+`, `-`, `*`, `/` etc, in our calculations and they generally take on their traditional meaning. It turns out that we can reassign them to perform different tasks on objects and their instances. Recall that when we try to add two lists, we get concatenation"
   ]
  },
  {
   "cell_type": "code",
   "execution_count": 27,
   "id": "6894ff61",
   "metadata": {
    "cell_id": "00043-48d03ecd-d1a4-4b57-aa7e-c4dcde599d08",
    "colab": {
     "base_uri": "https://localhost:8080/"
    },
    "deepnote_cell_type": "code",
    "executionInfo": {
     "elapsed": 205,
     "status": "ok",
     "timestamp": 1624362967837,
     "user": {
      "displayName": "Conor Dunne",
      "photoUrl": "",
      "userId": "14934053525675490562"
     },
     "user_tz": -60
    },
    "id": "9179d4d0",
    "outputId": "1daf5be8-dd1b-4850-fff7-c5037f06ea9c"
   },
   "outputs": [
    {
     "name": "stdout",
     "output_type": "stream",
     "text": [
      "[1, 2, 3, 4, 5, 6, 7, 8]\n"
     ]
    }
   ],
   "source": [
    "L = [1,2,3,4]\n",
    "M = [5,6,7,8]\n",
    "\n",
    "S = L + M\n",
    "print(S)"
   ]
  },
  {
   "cell_type": "markdown",
   "id": "aa356ae3",
   "metadata": {
    "cell_id": "00044-f227395e-ff38-4a0a-a479-a44e3e4fff1f",
    "deepnote_cell_type": "markdown",
    "id": "a7d8b02e"
   },
   "source": [
    "Lets attempt to override the `+` operator so that elements of the list are added not concatenated. To do this, we will create a whole new data type or class called `Spooky_List`, where adding two `Spooky_Lists` adds their elements rather than concatenating them."
   ]
  },
  {
   "cell_type": "code",
   "execution_count": 28,
   "id": "ab311aa6",
   "metadata": {
    "cell_id": "00045-0d72d3c3-b165-49ef-9ee8-838415750679",
    "deepnote_cell_type": "code",
    "id": "660b6873"
   },
   "outputs": [],
   "source": [
    "class Spooky_List():\n",
    "    def __init__(self,L):\n",
    "        self.L = L\n",
    "        self.length = len(L)\n",
    "        self.temp=L #Creating a temporary list\n",
    "    \n",
    "    def __add__(self,other):\n",
    "        if self.length != other.length:\n",
    "            print(\"Lists not the same size\")\n",
    "        else:\n",
    "            for i in range(self.length):\n",
    "                self.temp[i] = self.L[i] + other.L[i]\n",
    "        return self.temp\n",
    "            "
   ]
  },
  {
   "cell_type": "code",
   "execution_count": 29,
   "id": "f50988fa",
   "metadata": {
    "cell_id": "00046-be4e5de0-5f2a-4e34-b530-66d315997032",
    "colab": {
     "base_uri": "https://localhost:8080/"
    },
    "deepnote_cell_type": "code",
    "executionInfo": {
     "elapsed": 190,
     "status": "ok",
     "timestamp": 1624363179217,
     "user": {
      "displayName": "Conor Dunne",
      "photoUrl": "",
      "userId": "14934053525675490562"
     },
     "user_tz": -60
    },
    "id": "bb7f0ceb",
    "outputId": "1bbcb47d-7596-4553-9bd9-826b0f9ab092"
   },
   "outputs": [
    {
     "name": "stdout",
     "output_type": "stream",
     "text": [
      "<class '__main__.Spooky_List'>\n",
      "<class '__main__.Spooky_List'>\n",
      "<class 'list'>\n",
      "[6, 8, 10, 12]\n"
     ]
    }
   ],
   "source": [
    "L = [1,2,3,4]\n",
    "M = [5,6,7,8]\n",
    "\n",
    "L = Spooky_List(L)\n",
    "M = Spooky_List(M)\n",
    "\n",
    "#Note L and M are technically no longer lists but are of type Spooky_List\n",
    "print(type(L)) \n",
    "print(type(M))\n",
    "\n",
    "\n",
    "S = L+M\n",
    "\n",
    "print(type(S))\n",
    "print(S)"
   ]
  },
  {
   "cell_type": "markdown",
   "id": "04de7ace",
   "metadata": {
    "cell_id": "00047-360d4047-4cdf-41a8-a876-cf3b8d781711",
    "deepnote_cell_type": "markdown",
    "id": "fc61d7a5"
   },
   "source": [
    "The `__add__` magic method here corresponds to the operator `+`. Similary we have \n",
    "\n",
    "| Operator | Operator\tMagic Method |\n",
    "| :-: | :-: | \n",
    "| `+` | `__add__(self, other)`|\n",
    "| `-` | `__sub__(self, other)` |\n",
    "| `*`\t| `__mul__(self, other)` |\n",
    "| `/` | `__truediv__(self, other)` |\n",
    "| `//` | `__floordiv__(self, other)` |\n",
    "| `%` | `__mod__(self, other)` |\n",
    "| `**` | `__pow__(self, other)` |\n",
    "| `>>` | `__rshift__(self, other)` |\n",
    "| `<<` | `__lshift__(self, other)` |\n",
    "| `&`\t| `__and__(self, other)` |\n",
    "| `\\|`\t| `__or__(self, other)` |\n",
    "| `^` |\t`__xor__(self, other)` |"
   ]
  },
  {
   "cell_type": "markdown",
   "id": "fc2e1b1e",
   "metadata": {
    "cell_id": "00048-c886c39a-1ed5-4648-9bf6-7a885395d241",
    "deepnote_cell_type": "markdown",
    "id": "ZUe2XlCSGXvn"
   },
   "source": [
    "## `__getitem__()` and `__setitem__()`\n",
    "\n",
    "What happens if we try and find an element of data type `Spooky_List`"
   ]
  },
  {
   "cell_type": "code",
   "execution_count": 30,
   "id": "55b69666",
   "metadata": {
    "cell_id": "00049-a6011078-2544-4e32-8150-18770d8a54c4",
    "colab": {
     "base_uri": "https://localhost:8080/",
     "height": 164
    },
    "deepnote_cell_type": "code",
    "executionInfo": {
     "elapsed": 240,
     "status": "error",
     "timestamp": 1624363200993,
     "user": {
      "displayName": "Conor Dunne",
      "photoUrl": "",
      "userId": "14934053525675490562"
     },
     "user_tz": -60
    },
    "id": "7db98fb6",
    "outputId": "4acb69f2-6d90-479b-e874-99f57cb25cfd"
   },
   "outputs": [
    {
     "ename": "TypeError",
     "evalue": "'Spooky_List' object is not subscriptable",
     "output_type": "error",
     "traceback": [
      "\u001b[0;31m---------------------------------------------------------------------------\u001b[0m",
      "\u001b[0;31mTypeError\u001b[0m                                 Traceback (most recent call last)",
      "\u001b[0;32m<ipython-input-30-f05e2cc73309>\u001b[0m in \u001b[0;36m<module>\u001b[0;34m\u001b[0m\n\u001b[0;32m----> 1\u001b[0;31m \u001b[0mprint\u001b[0m\u001b[0;34m(\u001b[0m\u001b[0mL\u001b[0m\u001b[0;34m[\u001b[0m\u001b[0;36m0\u001b[0m\u001b[0;34m]\u001b[0m\u001b[0;34m)\u001b[0m\u001b[0;34m\u001b[0m\u001b[0;34m\u001b[0m\u001b[0m\n\u001b[0m",
      "\u001b[0;31mTypeError\u001b[0m: 'Spooky_List' object is not subscriptable"
     ]
    }
   ],
   "source": [
    "print(L[0])"
   ]
  },
  {
   "cell_type": "markdown",
   "id": "398fdddc",
   "metadata": {
    "cell_id": "00050-93c7cc50-1787-4e15-a41f-717b6e015bb3",
    "deepnote_cell_type": "markdown",
    "id": "b40327d9"
   },
   "source": [
    "We get an error, which makes sense, as there is no reason the methods for lists should work for `Spooky_Lists`. So lets make our own using `__getitem__()`. We will also use `__setitem__()` so that we can assign value to certain indexes in our `Spooky_List`. Lets also add a `__str__()` so we can print our Spooky_Lists"
   ]
  },
  {
   "cell_type": "code",
   "execution_count": 31,
   "id": "325859cd",
   "metadata": {
    "cell_id": "00051-9644545d-4f27-4fc7-b060-7e1c443949f7",
    "deepnote_cell_type": "code",
    "id": "ea4224ba"
   },
   "outputs": [],
   "source": [
    "class Spooky_List():\n",
    "    def __init__(self,L):\n",
    "        self.L = L\n",
    "        self.length = len(L)\n",
    "        self.temp=L #Creating a temporary list\n",
    "    \n",
    "    def __add__(self,other):\n",
    "        if self.length != other.length:\n",
    "            print(\"Spooky_Lists not the same size\")\n",
    "        else:\n",
    "            for i in range(self.length):\n",
    "                self.temp[i] = self.L[i] + other.L[i]\n",
    "        return self.temp\n",
    "    \n",
    "    def __getitem__(self,ind):\n",
    "        return self.L[ind]\n",
    "    \n",
    "    def __setitem__(self,ind, val):\n",
    "        self.L[ind] = val\n",
    "        \n",
    "    def __str__(self):\n",
    "        return '{}'.format(self.L)"
   ]
  },
  {
   "cell_type": "code",
   "execution_count": 32,
   "id": "6b5a8189",
   "metadata": {
    "cell_id": "00052-9ed9c9d3-444d-4a77-baba-5412924ef943",
    "colab": {
     "base_uri": "https://localhost:8080/"
    },
    "deepnote_cell_type": "code",
    "executionInfo": {
     "elapsed": 203,
     "status": "ok",
     "timestamp": 1624363282922,
     "user": {
      "displayName": "Conor Dunne",
      "photoUrl": "",
      "userId": "14934053525675490562"
     },
     "user_tz": -60
    },
    "id": "66fcfb7f",
    "outputId": "1ce38797-6d99-410b-a032-dd4427ce0e20"
   },
   "outputs": [
    {
     "name": "stdout",
     "output_type": "stream",
     "text": [
      "<class '__main__.Spooky_List'>\n",
      "[1, 2, 3, 4]\n",
      "1\n",
      "5\n",
      "[5, 2, 3, 4]\n"
     ]
    }
   ],
   "source": [
    "L = [1,2,3,4]\n",
    "L = Spooky_List(L)\n",
    "\n",
    "print(type(L))\n",
    "print(L) #Uses __str__\n",
    "\n",
    "print(L[0]) #Uses __getitem__\n",
    "\n",
    "L[0] = 5 #Uses __setitem__\n",
    "print(L[0]) #Uses __getitem__\n",
    "\n",
    "print(L) #Uses __str__"
   ]
  }
 ],
 "metadata": {
  "colab": {
   "collapsed_sections": [],
   "name": "PyQM_3.2_Classes.ipynb",
   "provenance": []
  },
  "deepnote": {},
  "deepnote_execution_queue": [],
  "deepnote_notebook_id": "db1cfffc-f7d4-4eb2-9d2b-1d9662902638",
  "kernelspec": {
   "display_name": "Python 3 (ipykernel)",
   "language": "python",
   "name": "python3"
  },
  "language_info": {
   "codemirror_mode": {
    "name": "ipython",
    "version": 3
   },
   "file_extension": ".py",
   "mimetype": "text/x-python",
   "name": "python",
   "nbconvert_exporter": "python",
   "pygments_lexer": "ipython3",
   "version": "3.9.23"
  }
 },
 "nbformat": 4,
 "nbformat_minor": 5
}