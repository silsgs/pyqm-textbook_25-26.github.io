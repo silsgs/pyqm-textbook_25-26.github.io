{
 "cells": [
  {
   "cell_type": "markdown",
   "id": "3e300cd1",
   "metadata": {},
   "source": [
    "# Part 3. Working with external data and files in Python\n",
    "\n",
    "## 3.1 User input\n",
    "The input() function allows to ask for data from the user. It takes a string argument, which is the prompt to display to the user.\n",
    "\n",
    "```python\n",
    "name = input(\"Enter your name: \")\n",
    "print(\"Hello, \" + name)\n",
    "```"
   ]
  },
  {
   "cell_type": "code",
   "execution_count": null,
   "id": "07abe535",
   "metadata": {},
   "outputs": [],
   "source": [
    "name = input('Enter your name: ')"
   ]
  },
  {
   "cell_type": "code",
   "execution_count": null,
   "id": "eb0bcb08",
   "metadata": {},
   "outputs": [],
   "source": [
    "entry = input('enter space seperated integers: ')\n",
    "\n",
    "l = entry.split()\n",
    "\n",
    "for i in range(len(l)):\n",
    "    l[i] = int(l[i])\n",
    "\n",
    "print(l)"
   ]
  },
  {
   "cell_type": "markdown",
   "id": "38b51dbb",
   "metadata": {},
   "source": [
    "The data is now stored as a single string called `entry`. This is not particularly useful for working with this data. We shoud put this data into a list and make each element the integer entered.\n",
    "\n",
    "Remebering what we learened about compactifying our code we can write this all in one line.\n",
    "\n",
    "```python\n",
    "l = [int(i) for i in input('enter space seperated integers: ').split()]\n",
    "print(l)\n",
    "```"
   ]
  },
  {
   "cell_type": "markdown",
   "id": "b0916c1a",
   "metadata": {},
   "source": [
    "## 3.2 Reading from File\n",
    "We can read data from a file using the built-in `open()` function. This function takes the filename as an argument and returns a file object. We can then use the `read()` method to read the contents of the file.\n",
    "\n",
    "Create a new file called `test.txt` inside your `pyqm` folder and the following text.\n",
    "\n",
    "```text\n",
    "Hello!\n",
    "You are reading this text file.\n",
    "This file has a number of lines of text.\n",
    "\n",
    "Also some empty lines.\n",
    "\n",
    "\n",
    "\n",
    "Thanks for reading!\n",
    "```"
   ]
  },
  {
   "cell_type": "markdown",
   "id": "238634a8",
   "metadata": {},
   "source": [
    "\n",
    "\n",
    " Then run the following code to read the contents of the file.\n",
    "\n",
    "```python\n",
    "with open('test.txt', 'r') as f:\n",
    "    data = f.read()\n",
    "print(data)\n",
    "``` \n"
   ]
  },
  {
   "cell_type": "markdown",
   "id": "1c0aac70",
   "metadata": {},
   "source": [
    "The `'r'` argument in the open function specifies that we are opening this file for reading so this file cannont be editted while open in this way. Within the indented clause the file can be refered to as `f`. \n",
    "\n",
    "The `read()` method reads the entire contents of the file and stores it in the variable `data`. Finally, we print the contents of the file.\n",
    "\n",
    "We can also especify the full path to the file if it is not in the same directory as the script. For instance:\n",
    "\n",
    "```python\n",
    "with open('/path/to/your/file.txt', 'r') as f:\n",
    "    data = f.read()\n",
    "print(data)\n",
    "```\n",
    "\n",
    "We can also iterate through the file which will get each line as a string."
   ]
  },
  {
   "cell_type": "code",
   "execution_count": 13,
   "id": "de35c72e",
   "metadata": {},
   "outputs": [
    {
     "name": "stdout",
     "output_type": "stream",
     "text": [
      "Hello!\n",
      "\n",
      "You are reading this text file.\n",
      "\n",
      "This file has a number of lines of text.\n",
      "\n",
      "\n",
      "\n",
      "Also some empty lines.\n",
      "\n",
      "\n",
      "\n",
      "\n",
      "\n",
      "\n",
      "\n",
      "Thanks for reading!\n"
     ]
    }
   ],
   "source": [
    "with open('test.txt','r') as f:\n",
    "    for line in f:\n",
    "        print(line)"
   ]
  },
  {
   "cell_type": "markdown",
   "id": "5372c7ba",
   "metadata": {},
   "source": [
    "These lines can also be iterated through as they are strings so we can go letter by letter."
   ]
  },
  {
   "cell_type": "code",
   "execution_count": 14,
   "id": "139d5f7c",
   "metadata": {},
   "outputs": [
    {
     "name": "stdout",
     "output_type": "stream",
     "text": [
      "H\n",
      "e\n",
      "l\n",
      "l\n",
      "o\n",
      "!\n",
      "\n",
      "\n",
      "Y\n",
      "o\n",
      "u\n",
      " \n",
      "a\n",
      "r\n",
      "e\n",
      " \n",
      "r\n",
      "e\n",
      "a\n",
      "d\n",
      "i\n",
      "n\n",
      "g\n",
      " \n",
      "t\n",
      "h\n",
      "i\n",
      "s\n",
      " \n",
      "t\n",
      "e\n",
      "x\n",
      "t\n",
      " \n",
      "f\n",
      "i\n",
      "l\n",
      "e\n",
      ".\n",
      "\n",
      "\n",
      "T\n",
      "h\n",
      "i\n",
      "s\n",
      " \n",
      "f\n",
      "i\n",
      "l\n",
      "e\n",
      " \n",
      "h\n",
      "a\n",
      "s\n",
      " \n",
      "a\n",
      " \n",
      "n\n",
      "u\n",
      "m\n",
      "b\n",
      "e\n",
      "r\n",
      " \n",
      "o\n",
      "f\n",
      " \n",
      "l\n",
      "i\n",
      "n\n",
      "e\n",
      "s\n",
      " \n",
      "o\n",
      "f\n",
      " \n",
      "t\n",
      "e\n",
      "x\n",
      "t\n",
      ".\n",
      "\n",
      "\n",
      "\n",
      "\n",
      "A\n",
      "l\n",
      "s\n",
      "o\n",
      " \n",
      "s\n",
      "o\n",
      "m\n",
      "e\n",
      " \n",
      "e\n",
      "m\n",
      "p\n",
      "t\n",
      "y\n",
      " \n",
      "l\n",
      "i\n",
      "n\n",
      "e\n",
      "s\n",
      ".\n",
      "\n",
      "\n",
      "\n",
      "\n",
      "\n",
      "\n",
      "\n",
      "\n",
      "T\n",
      "h\n",
      "a\n",
      "n\n",
      "k\n",
      "s\n",
      " \n",
      "f\n",
      "o\n",
      "r\n",
      " \n",
      "r\n",
      "e\n",
      "a\n",
      "d\n",
      "i\n",
      "n\n",
      "g\n",
      "!\n"
     ]
    }
   ],
   "source": [
    "with open('test.txt','r') as f:\n",
    "    for line in f:\n",
    "        for letter in line:\n",
    "            print(letter)"
   ]
  },
  {
   "cell_type": "markdown",
   "id": "76ecb51b",
   "metadata": {},
   "source": [
    "## 3.3 Writing to File\n",
    "We can write data to a file using the built-in `open()` function with the `'w'` argument. We can then use the `write()` method to write data to the file.\n",
    "\n",
    "```python\n",
    "with open('output.txt', 'w') as f:\n",
    "    f.write(\"Hello, World!\")\n",
    "```\n",
    "Try to open the file `output.txt` in your `pyqm` folder to see that if has been correctly created.\n",
    "\n",
    "```{warning}\n",
    "This will open the file for writing. If the file does not exist, it will be created. **If the file does exist, it will be overwritten**. \n",
    "```"
   ]
  },
  {
   "cell_type": "markdown",
   "id": "53306da8",
   "metadata": {},
   "source": [
    "**Short exercise** : Let's say we want to store a list of the first 11 sqaure numbers. First it might be good to make such a list."
   ]
  },
  {
   "cell_type": "code",
   "execution_count": null,
   "id": "28378e6d",
   "metadata": {},
   "outputs": [
    {
     "name": "stdout",
     "output_type": "stream",
     "text": [
      "[0, 1, 4, 9, 16, 25, 36, 49, 64, 81, 100]\n"
     ]
    }
   ],
   "source": [
    "l = [i**2 for i in range(11)]\n",
    "print(l)"
   ]
  },
  {
   "cell_type": "markdown",
   "id": "67362e18",
   "metadata": {},
   "source": [
    "Now we want to store this data for later. We can actually create and write a new file with the following syntax."
   ]
  },
  {
   "cell_type": "code",
   "execution_count": 29,
   "id": "117f1dcc",
   "metadata": {},
   "outputs": [],
   "source": [
    "with open('new_file.txt','w') as nf:\n",
    "    nf.write(str(l))"
   ]
  },
  {
   "cell_type": "markdown",
   "id": "8c08075b",
   "metadata": {},
   "source": [
    "Now we can check what is in this file."
   ]
  },
  {
   "cell_type": "code",
   "execution_count": 30,
   "id": "325df91a",
   "metadata": {},
   "outputs": [
    {
     "name": "stdout",
     "output_type": "stream",
     "text": [
      "[0, 1, 4, 9, 16, 25, 36, 49, 64, 81, 100]\n"
     ]
    }
   ],
   "source": [
    "with open('new_file.txt','r') as nf:\n",
    "    print(nf.read())"
   ]
  },
  {
   "cell_type": "markdown",
   "id": "3db0a60e",
   "metadata": {},
   "source": [
    "It might be best not to have the square brackets present."
   ]
  },
  {
   "cell_type": "code",
   "execution_count": 31,
   "id": "81e1e1f8",
   "metadata": {},
   "outputs": [
    {
     "name": "stdout",
     "output_type": "stream",
     "text": [
      "0,1,4,9,16,25,36,49,64,81,100,\n"
     ]
    }
   ],
   "source": [
    "with open('new_file.txt','w') as nf:\n",
    "    for j in l:\n",
    "        nf.write(str(j)+',')\n",
    "        \n",
    "with open('new_file.txt','r') as nf:\n",
    "    print(nf.read())"
   ]
  },
  {
   "cell_type": "markdown",
   "id": "754fdbd7",
   "metadata": {},
   "source": [
    "It is important to note here that when we use the `'w'` string when opening a file that already exists we will completely rewrite that file. If we simply want to add to this file we can append using `'a'` and if we only want to create a file we can use `'a'`."
   ]
  },
  {
   "cell_type": "markdown",
   "id": "5ae6bae7",
   "metadata": {},
   "source": [
    "```{note}\n",
    "When we use the built-in function `with` the file is automatically closed when we leave the indented block. If we do not use this function we need to remember to add a command to close the file. Otherwise, you might encounter issues with data not being written to the file.\n",
    "\n",
    "```python\n",
    "f = open('output.txt', 'a')\n",
    "f.write(\"\\nThis is a new line.\")\n",
    "f.close()\n",
    "```\n",
    "```"
   ]
  },
  {
   "cell_type": "markdown",
   "id": "45d9c2de",
   "metadata": {},
   "source": [
    "### Special Characters (Escape Sequences)\n",
    "Some Common Special Characters (Escape Sequences) when working with text files:\n",
    "\n",
    "| Escape sequence |\tMeaning\t| Example usage |\n",
    "|-----------------|---------------|----------------|\n",
    "| \\n              | New line (line break) | \"Hello\\nWorld\" → Hello<br>World |\n",
    "| \\t              | Tab (horizontal tab) | \"A\\tB\\tC\" → A B C |\n",
    "\n",
    "\n",
    "```python\n",
    "# Writing lines with new line characters\n",
    "with open(\"example.txt\", \"w\") as f:\n",
    "    f.write(\"Line 1\\n\")\n",
    "    f.write(\"Line 2\\n\")\n",
    "\n",
    "# Writing tab-separated values\n",
    "with open(\"data.txt\", \"w\") as f:\n",
    "    f.write(\"time\\tx\\ty\\tz\\n\")\n",
    "    f.write(\"0.0\\t0.5\\t1.2\\t0.8\\n\")\n",
    "```\n",
    "\n",
    "It is also very common to find files where lines are separated by tabs or commas. As we have seen before, we can use the `split()` method to split a string into a list based on a specified delimiter."
   ]
  }
 ],
 "metadata": {
  "deepnote": {},
  "deepnote_execution_queue": [],
  "deepnote_notebook_id": "d61cddb8-edae-476d-8bb8-dcd365220085",
  "kernelspec": {
   "display_name": "PyQM",
   "language": "python",
   "name": "python3"
  },
  "language_info": {
   "codemirror_mode": {
    "name": "ipython",
    "version": 3
   },
   "file_extension": ".py",
   "mimetype": "text/x-python",
   "name": "python",
   "nbconvert_exporter": "python",
   "pygments_lexer": "ipython3",
   "version": "3.9.23"
  }
 },
 "nbformat": 4,
 "nbformat_minor": 5
}
