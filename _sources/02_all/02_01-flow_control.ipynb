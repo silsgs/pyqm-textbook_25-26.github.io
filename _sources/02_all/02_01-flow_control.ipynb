{
 "cells": [
  {
   "cell_type": "markdown",
   "id": "2c69f23c",
   "metadata": {},
   "source": [
    "# Part 1. Algorithm and Flow control with Python\n",
    "\n",
    "## Algorithms and flowcharts\n",
    "Algorithms are step-by-step procedures or formulas for solving a problem. They are essential in computer science and programming, as they provide a clear set of instructions for performing tasks or computations.\n",
    "\n",
    "Before writing any code, it is important to define the logic of your program. A good initial step when developing code is planning and structuring the logic before with a scheme or a flow chart. This involves thinking about the specific operations and functions you will need to implement, as well as the initial data required, and what the expected outputs will be. \n",
    "\n",
    "Algorithms are the backbone of programming, as they define how a program operates and processes data. The more complex the task, the more important it is to have a well-defined algorithm to ensure that the program functions correctly and efficiently.\n",
    "\n",
    "As a general rule, an algorithm should be:\n",
    "- Clear and unambiguous: Each step should be precisely defined.\n",
    "- Finite: It should have a clear starting and ending point.\n",
    "- Effective: Each step should be feasible and executable.\n",
    "- Input and Output: It should have defined inputs and outputs.\n",
    "\n",
    "It is important to understand that an algorithm is not tied to a specific programming language; rather, it is a conceptual framework that can be implemented in various languages.\n",
    "\n",
    "`````{admonition} Tip\n",
    ":class: tip\n",
    "A good practise is to first think :\n",
    "\n",
    "1. How your physical system is defined.  Which are the characteristics of your system (eg, dimensionality, interconnections,  ...) \n",
    "\n",
    "2. Then which will be initial data you need to start from (for instance, which variables you will need to define, in which units, transformations you will need to apply, which data you will need to read from external files, ...),\n",
    "\n",
    "3. and finally, which are the expected outputs (which are the outcomes, simulation trajectories, units in which they will be expressed, format of the data, if you will need to export it to an external file, ...).\n",
    "\n",
    "Once you have done taht, you can start developing which operations, functions or methods you will need to implement in order to get your expected output. \n",
    "\n",
    "I strongly suggest to write a very basic logic scheme (e.g., a flowchart or a list of steps) to help you plan how the analysis needs to be perform, and how to code it.\n",
    "\n",
    "It is very likely that you will modify this scheme as you progress through the problem-solving process. But at least you will have a starting point to work from with a defined structure.\n",
    "\n",
    "As you get familiar with programming, you will be able to do this step mentally, but at the beginning it is very useful to write it down.\n",
    "`````\n",
    "\n",
    "Flowcharts are extremely useful to visualize the steps of an algorithm, for both in the initial planning stages and once it has been implemented. \n",
    "\n",
    "Flowcharts use standardized symbols to represent different types of actions or steps in a process, and arrows to indicate the flow of control from one step to the next.\n",
    "\n",
    "Here are some common flowchart symbols:\n",
    "- **Terminator**: Represents the start or end of a process. It is usually depicted as an oval or rounded rectangle.\n",
    "- **Process**: Represents a process or operation to be performed. It is typically shown as a rectangle.\n",
    "- **Decision**: Represents a decision point that can lead to different branches based on a condition. It is usually depicted as a diamond shape.\n",
    "- **Input/Output**: Represents an input or output operation, such as reading data or displaying results.\n",
    "- **Arrow**: Indicates the flow of control from one step to another.\n",
    "- **Connector**: Represents a connection point in the flowchart, often used to connect different parts of the chart or to indicate a jump to another section.\n",
    "- **Loop**: Represents a loop or iteration in the process, often shown as a circular arrow or a rectangle with a curved arrow.\n",
    "\n",
    "\n",
    "![alt](images/GCD_through_successive_subtractions.svg \"some text\")*Image by Arthur Baelde, CC BY-SA 4.0, https://commons.wikimedia.org/w/index.php?curid=70282331*\n",
    "\n",
    "\n",
    "Practical example of an schematic algorithm:\n",
    "![alt](images/wasp-algorithm.png, *Algorithmic representation of the Wasp algorithm, extracted from https://arxiv.org/pdf/2505.10505; public repository available at https://github.com/GagliardiGroup/wasp*)\n",
    "\n",
    "\n",
    "**Short exercise** : Draw a flowchart for the following algorithm to read a trajectory file with cartesian coordinates, then transform them to spherical coordinates to apply a 180° rotation, and finally write the results to a new file in cartesian coordinates again.\n",
    "\n",
    "\n",
    "## 1.1 Indenting\n",
    "Python is known for its readability and simplicity. It is actually achieved because it employs indentation as a core aspect of its syntax to define these structures. It is basically in which order, instructions will be executed. An important aspect in Python is that it uses indentation to define blocks of code, which is crucial for maintaining the structure and flow of the program.\n",
    "\n",
    "Indentation is a key feature in Python since it denotes blocks of code that belong together, such as the body of a function, loop, or conditional statement. In contrast to many other programming languages that use curly braces `{}` or keywords to define blocks of code, Python relies on indentation levels to indicate the grouping of statements.\n",
    "\n",
    "You can either use tabs or spaces for indentation, but it is important to be consistent throughout your code. Mixing tabs and spaces can lead to errors that are difficult to debug.\n",
    "As a standard convention in the Python community, it is recommended to use 4 spaces per indentation level. A good trick to maintain consistency is to configure your text editor or IDE to insert 4 spaces when you press the Tab key.\n",
    "\n",
    "Examples :\n",
    "\n",
    "```python\n",
    "if a == b:\n",
    "    # first level of indentation (within if statement)\n",
    "    for x in range(y):\n",
    "        # second level of indenting (within for loop and if statement)\n",
    "        if x > a:\n",
    "            # third level of indenting (within if statement within for loop\n",
    "            # within outer if statement)\n",
    "            ...\n",
    "\n",
    "```\n",
    "\n",
    "Which of these three examples is right, and which one is wrong? \n",
    "\n",
    "```python\n",
    "x = True\n",
    "if x is True:\n",
    "print(\"x is True\")\n",
    "```\n",
    "\n",
    "```python\n",
    "if x is True:\n",
    "  print(\"x is True\")\n",
    "    print(\"...or is it!\")\n",
    "```\n",
    "\n",
    "```python\n",
    "if x is True:\n",
    "    print(\"x is True\")\n",
    "    print(\"...or is it!\")\n",
    "```\n",
    "\n",
    "The first two examples are wrong because they do not maintain consistent indentation levels. The first example lacks indentation for the print statement, and the second example has inconsistent indentation levels for the two print statements. The third example is correct because it maintains consistent indentation levels for both print statements within the `if` block.\n",
    "\n",
    "Here is a more complete example of indentation, have a look at the different blocks:\n",
    "\n",
    "```python\n",
    "def my_function(a):\n",
    "    # first level of indentation\n",
    "    x = range(a)\n",
    "    y = []\n",
    "    for i in x:\n",
    "        # second level of indentation\n",
    "        y.append(i * 2 + 1)\n",
    "\n",
    "    # back to first level of indenting (i.e., outside the for loop, but still in the function definition)\n",
    "    return y\n",
    "\n",
    "# back outside the function definition\n",
    "b = my_function(10)\n",
    "print(b)\n",
    "\n",
    "```\n",
    "\n",
    "## 1.2 Conditional statements: if, elif, else\n",
    "Conditional statements are used to execute different blocks of code *based on certain conditions*. The most common conditional statements are `if`, `elif`, and `else`.\n",
    "\n",
    "Before using conditional statements, it is important to understand boolean expressions. A boolean expression is an expression that evaluates to either `True` or `False`. These expressions are often used in conditional statements to determine which block of code should be executed.\n",
    "\n",
    "Conditional statements are based on conditions that evaluate to either `True` or `False` based on conditionaal expressions. \n",
    "Some conditional expressions include:\n",
    "- Equality: `==`\n",
    "- Inequality: `!=`\n",
    "- Greater than: `>`\n",
    "- Less than: `<`\n",
    "- Greater than or equal to: `>=`\n",
    "- Less than or equal to: `<=`   \n",
    "- Membership: `in`, `not in`\n",
    "- Identity: `is`, `is not`\n",
    "- Logical operators: `and`, `or`, `not`\n",
    "- Bitwise operators: `&`, `|`, `^`, `~`, `<<`, `>>`\n",
    "- Ternary conditional operator: `a if condition else b`\n",
    "- Chained comparisons: `a < b < c`\n",
    "- Lambda functions: `lambda x: x > 0`\n",
    "\n",
    "\n",
    "For instance, you can use an `if` statement to check if a variable is greater than a certain value, and execute a block of code if the condition is `True`. You can also use `elif` (short for \"else if\") to check multiple conditions, and `else` to execute a block of code if none of the previous conditions are `True`.\n",
    "Here is an example of using `if`, `elif`, and `else` statements in Python:\n",
    "\n",
    "```python\n",
    "x = 10\n",
    "if x > 0:\n",
    "    print(\"x is positive\")\n",
    "elif x < 0:\n",
    "    print(\"x is negative\")\n",
    "else:\n",
    "    print(\"x is zero\")\n",
    "```\n",
    "\n",
    "### If Statements\n",
    "\n",
    "```python\n",
    "x = 5\n",
    "if x > 0:\n",
    "    print(\"x is positive\")\n",
    "```\n",
    "This code checks if `x` is greater than 0. This loops are based on boolean operations, either if something is true or false. If the condition is `True`, it prints \"x is positive\". "
   ]
  },
  {
   "cell_type": "code",
   "execution_count": 4,
   "id": "31c2e496",
   "metadata": {},
   "outputs": [
    {
     "name": "stdout",
     "output_type": "stream",
     "text": [
      "-1\n"
     ]
    }
   ],
   "source": [
    "#Feel free to experiment with the boolean value of the following condtions\n",
    "Condition1 = False\n",
    "Condition2 = True\n",
    "a=1\n",
    "b=2\n",
    "\n",
    "\n",
    "#Notice the indented blocks of code, this indicates which code to be executed under the stated conditions\n",
    "\n",
    "if Condition1: #If condition1 is true\n",
    "    a=a+b #do this\n",
    "\n",
    "elif Condition2:#Else if condition2 is true\n",
    "    a=a-b #do this\n",
    "\n",
    "else: #else if both conditions are false\n",
    "    a=a*b #do this\n",
    "\n",
    "print(a)"
   ]
  },
  {
   "cell_type": "markdown",
   "id": "6f62bf70",
   "metadata": {},
   "source": [
    "We can also nest conditional statements"
   ]
  },
  {
   "cell_type": "code",
   "execution_count": 7,
   "id": "c7470bec",
   "metadata": {},
   "outputs": [
    {
     "name": "stdout",
     "output_type": "stream",
     "text": [
      "Condition1 is TRUE, Condition2 is FALSE\n"
     ]
    }
   ],
   "source": [
    "Condition1 = True\n",
    "Condition2 = False\n",
    "\n",
    "if Condition1:\n",
    "    if Condition2:\n",
    "        print(\"Both conditions are TRUE\")\n",
    "    else:\n",
    "        print(\"Condition1 is TRUE, Condition2 is FALSE\")\n",
    "elif Condition2:\n",
    "    print(\"Condition1 is FALSE, Condition2 is TRUE\")\n",
    "else:\n",
    "    print(\"Both conditions are FALSE\")"
   ]
  },
  {
   "cell_type": "markdown",
   "id": "182c95ae",
   "metadata": {},
   "source": [
    "Or the following does the same"
   ]
  },
  {
   "cell_type": "code",
   "execution_count": 16,
   "id": "f15d8a8e",
   "metadata": {},
   "outputs": [
    {
     "name": "stdout",
     "output_type": "stream",
     "text": [
      "Condition1 is FALSE, Condition2 is TRUE\n"
     ]
    }
   ],
   "source": [
    "if Condition1 and Condition2:\n",
    "    print(\"Both conditions are TRUE\")\n",
    "elif Condition1 and not Condition2:\n",
    "    print(\"Condition1 is TRUE, Condition2 is FALSE\")\n",
    "elif Condition2:\n",
    "    print(\"Condition1 is FALSE, Condition2 is TRUE\")\n",
    "else:\n",
    "    print(\"Both conditions are FALSE\")"
   ]
  },
  {
   "cell_type": "markdown",
   "id": "0c1f3127",
   "metadata": {},
   "source": [
    "As does"
   ]
  },
  {
   "cell_type": "code",
   "execution_count": 17,
   "id": "4de65a0a",
   "metadata": {},
   "outputs": [
    {
     "name": "stdout",
     "output_type": "stream",
     "text": [
      "Condition1 is FALSE, Condition2 is TRUE\n"
     ]
    }
   ],
   "source": [
    "if Condition1 and Condition2:\n",
    "    print(\"Both conditions are TRUE\")\n",
    "\n",
    "if Condition1 and not Condition2:\n",
    "    print(\"Condition1 is TRUE, Condition2 is FALSE\")\n",
    "    \n",
    "if not Condition1 and Condition2:\n",
    "    print(\"Condition1 is FALSE, Condition2 is TRUE\")\n",
    "    \n",
    "if not Condition1 and not Condition2:\n",
    "    print(\"Both conditions are FALSE\")"
   ]
  },
  {
   "cell_type": "markdown",
   "id": "e443fbd8",
   "metadata": {},
   "source": [
    "It should be noted that we can ommit either/both `elif` and `else` as well as having as many `elif`s as we want.\n",
    "\n",
    "**Short exercise**: Write a program that checks if a number is positive, negative or zero and prints an appropriate message to the user."
   ]
  },
  {
   "cell_type": "markdown",
   "id": "63c02c61",
   "metadata": {},
   "source": [
    "## 1.2 Try and Except \n",
    "\n",
    "Testing code is an import way to find out where the problems are. The `try`-`except` block allows us to test a block of code for errors. If an error occurs, the code in the `except` block is executed.\n",
    "\n",
    "Here is an example:\n",
    "\n",
    "```python\n",
    "try:\n",
    "    x = 1 / 0\n",
    "except ZeroDivisionError:\n",
    "    print(\"You can't divide by zero!\")\n",
    "```"
   ]
  },
  {
   "cell_type": "markdown",
   "id": "26a01869",
   "metadata": {},
   "source": [
    "Testing code is an import way to find out where the problems are. The `try`-`except` "
   ]
  },
  {
   "cell_type": "code",
   "execution_count": 1,
   "id": "c6c34950",
   "metadata": {},
   "outputs": [
    {
     "name": "stdout",
     "output_type": "stream",
     "text": [
      "there was a name error\n",
      "code is finished\n"
     ]
    }
   ],
   "source": [
    "try: # block of code...\n",
    "    print(hi) # this should be a string, otherwise we are calling a variable name that hasn't be assigned a value so a NameError will be given.\n",
    "    y = (1/0,5,7) # notice the 1/0 is not possible to compute and therefore a ZeroDivisionError error will be given\n",
    "    y[2] = 2 # y is a tupple wich cannot be changed so we will get a TypeError\n",
    "    \n",
    "except NameError: # executes variable's (or other object's) name is invalid\n",
    "    print('there was a name error')\n",
    "\n",
    "except ZeroDivisionError: # executes when a division by 0 is found\n",
    "    print('there is division by 0')\n",
    "    \n",
    "except TypeError: # if we try to do something with a type that doesn't have that functionality\n",
    "    print('there was a type error')\n",
    "\n",
    "except : # executes when a differnt problem found\n",
    "    print('there is a different problem')\n",
    "\n",
    "else: # executes when no problem found\n",
    "    print('no problem found')\n",
    "\n",
    "finally: # executes regardless of problem when block of code is finished\n",
    "    print('code is finished')"
   ]
  },
  {
   "cell_type": "markdown",
   "id": "e0055fd8",
   "metadata": {},
   "source": [
    "**Short exercise**: Write a program that takes user input and handles potential errors using try and except blocks. For example, you could prompt the user to enter a number and handle cases where the input is not a valid number (e.g., if the user enters a string instead of a number).\n",
    "\n",
    "```python\n",
    "try:\n",
    "    user_input = int(input(\"Please enter a number: \"))\n",
    "    print(\"You entered:\", user_input)\n",
    "except ValueError:\n",
    "    print(\"That's not a valid number!\")\n",
    "```\n"
   ]
  },
  {
   "cell_type": "markdown",
   "id": "5a696d2f",
   "metadata": {},
   "source": [
    "## 1.3 While Loops \n",
    "A `while` loop is used to continuously execute a block of code as long as a certain condition is true. \n",
    "\n",
    "```python\n",
    "count = 0\n",
    "while count < 5:\n",
    "    print(count)\n",
    "    count += 1 # This is equivalent to count = count + 1\n",
    "```"
   ]
  },
  {
   "cell_type": "code",
   "execution_count": 19,
   "id": "dc0aaa1c",
   "metadata": {},
   "outputs": [
    {
     "name": "stdout",
     "output_type": "stream",
     "text": [
      "0\n",
      "1\n",
      "1\n",
      "2\n",
      "3\n",
      "5\n",
      "8\n",
      "13\n",
      "21\n",
      "34\n",
      "55\n",
      "89\n"
     ]
    }
   ],
   "source": [
    "x=0\n",
    "y=1\n",
    "\n",
    "while x<100:\n",
    "    print(x)\n",
    "    x,y = y,x+y"
   ]
  },
  {
   "cell_type": "markdown",
   "id": "169e6989",
   "metadata": {},
   "source": [
    "## 1.4 Range and Zip\n",
    "\n",
    "The range class is very useful for loops as we will see next. Lets explore it, and see how we can use lists to visualise it.\n",
    "\n",
    "```python\n",
    "list(range(5))\n",
    "```\n",
    "This gives us a list of numbers from 0 to 4. The range function can also take two arguments, a start and an end. The start is inclusive, the end is exclusive.\n",
    "\n",
    "`````{warning} Warning\n",
    "Remember that Python uses zero-based indexing, meaning that the first element of a sequence is at index 0. This is important to keep in mind when working with lists, strings, and other data structures in Python.\n",
    "Different programming languages use different conventions, so always check the documentation if you're unsure. For example, in some languages like MATLAB, indexing starts at 1. And this mess your code up!\n",
    "`````"
   ]
  },
  {
   "cell_type": "code",
   "execution_count": 7,
   "id": "045f7734",
   "metadata": {},
   "outputs": [
    {
     "name": "stdout",
     "output_type": "stream",
     "text": [
      "<class 'range'>\n",
      "range(0, 10)\n",
      "[0, 1, 2, 3, 4, 5, 6, 7, 8, 9]\n"
     ]
    }
   ],
   "source": [
    "stop = 10\n",
    "x = range(stop)\n",
    "print(type(x))\n",
    "print(x)\n",
    "#Now lets cast to a list and print so we can see what this looks like\n",
    "\n",
    "x = list(x)\n",
    "\n",
    "print(x)"
   ]
  },
  {
   "cell_type": "markdown",
   "id": "204df154",
   "metadata": {},
   "source": [
    "Notice that we get a sequence running from 0-9, not 0-10!! It turns out we can add arguments in the parantheses to obtain a more specific sequence:"
   ]
  },
  {
   "cell_type": "code",
   "execution_count": 8,
   "id": "1c16a841",
   "metadata": {},
   "outputs": [
    {
     "name": "stdout",
     "output_type": "stream",
     "text": [
      "[10, 12, 14, 16, 18, 20, 22, 24, 26, 28, 30, 32, 34, 36, 38]\n"
     ]
    }
   ],
   "source": [
    "start = 10\n",
    "stop = 40\n",
    "step = 2\n",
    "\n",
    "x = range(start, stop, step)\n",
    "\n",
    "#We see range iterates from start to stop in increments of size step\n",
    "print(list(range(start, stop, step)))"
   ]
  },
  {
   "cell_type": "markdown",
   "id": "f06f6489",
   "metadata": {},
   "source": [
    "We see range iterates from `start` to `stop - 1` in increments of size `step`."
   ]
  },
  {
   "cell_type": "markdown",
   "id": "7369c5dd",
   "metadata": {},
   "source": [
    "It is useful to note the default vales of `range()`. If not given `start` is defaulted to `0` and `step` to `1`."
   ]
  },
  {
   "cell_type": "code",
   "execution_count": 9,
   "id": "52871f06",
   "metadata": {},
   "outputs": [
    {
     "name": "stdout",
     "output_type": "stream",
     "text": [
      "[0, 1, 2, 3, 4, 5, 6, 7, 8, 9]\n",
      "[3, 4, 5, 6, 7, 8]\n"
     ]
    }
   ],
   "source": [
    "print(list(range(10))) # if only one argument is given it is taken as \"stop\"\n",
    "\n",
    "print(list(range(3,9))) # if two arguments are given it is taken as \"start\" and \"stop\""
   ]
  },
  {
   "cell_type": "markdown",
   "id": "184fcee7",
   "metadata": {},
   "source": [
    "`````{admonition} Tip\n",
    ":class: tip\n",
    "When using `range()` in loops, remember that the `stop` value is exclusive. This means that if you want to include a specific number in your loop, you need to set the `stop` value to one more than that number.\n",
    "`````"
   ]
  },
  {
   "cell_type": "markdown",
   "id": "c23074b1",
   "metadata": {},
   "source": [
    "The `zip()` function takes in two iterable data structures and returns an iterator of two object tupples as shown."
   ]
  },
  {
   "cell_type": "code",
   "execution_count": null,
   "id": "6f899a65",
   "metadata": {},
   "outputs": [
    {
     "name": "stdout",
     "output_type": "stream",
     "text": [
      "<class 'zip'>\n",
      "((1, 'one'), (2, 'two'), (3, 'three'))\n",
      "[]\n"
     ]
    }
   ],
   "source": [
    "a = [1,2,3,4] # doesn't matter if these are tuples or lists\n",
    "b = ('one', 'two', 'three')\n",
    "\n",
    "c = zip(a,b)\n",
    "\n",
    "print(type(c))\n",
    "\n",
    "print(tuple(c)) # we can't directly print zip type objects so we cast them into a \n",
    "#tuple (or list) to see their contents"
   ]
  },
  {
   "cell_type": "markdown",
   "id": "a88cc186",
   "metadata": {},
   "source": [
    "Each item is paired with its corresponding item in the structures. The length of this new object is determined by the shortest list as seen. This is a very useful object when we iterate over two objects."
   ]
  },
  {
   "cell_type": "markdown",
   "id": "6768d6b9",
   "metadata": {},
   "source": [
    "**Short exercise**: Write a program that generates two lists, at least one using `range()`, both of equal length and uses the `zip()` function to iterate over them simultaneously, printing out pairs of corresponding elements from each list.\n",
    "\n",
    "```python\n",
    "list1 = list(range(5))\n",
    "list2 = ['a', 'b', 'c', 'd', 'e']\n",
    "\n",
    "for num, letter in zip(list1, list2):\n",
    "    print(num, letter)\n",
    "```"
   ]
  },
  {
   "cell_type": "markdown",
   "id": "3c6960fd",
   "metadata": {},
   "source": [
    "## 1.5 For loops\n",
    "\n",
    "For loops are used to iterate over a sequence (like a list, tuple, dictionary, set, or string). \n",
    "\n",
    "```python\n",
    "fruits = [\"apple\", \"banana\", \"cherry\"]\n",
    "for fruit in fruits:\n",
    "    print(fruit)\n",
    "```"
   ]
  },
  {
   "cell_type": "code",
   "execution_count": 3,
   "id": "a5634c58",
   "metadata": {},
   "outputs": [
    {
     "name": "stdout",
     "output_type": "stream",
     "text": [
      "2\n",
      "4\n",
      "5\n",
      "6\n",
      "7\n",
      "11\n",
      "24\n",
      "6\n"
     ]
    }
   ],
   "source": [
    "L = [2,4,5,6,7,11,24,6]\n",
    "\n",
    "for i in L:\n",
    "    print(i)"
   ]
  },
  {
   "cell_type": "markdown",
   "id": "83f334aa",
   "metadata": {},
   "source": [
    "We saw the range function before, which is very useful when combined with loops"
   ]
  },
  {
   "cell_type": "code",
   "execution_count": 4,
   "id": "9a07c22b",
   "metadata": {},
   "outputs": [
    {
     "name": "stdout",
     "output_type": "stream",
     "text": [
      "10\n",
      "13\n",
      "16\n",
      "19\n",
      "22\n",
      "25\n",
      "28\n"
     ]
    }
   ],
   "source": [
    "L = range(10,30,3)\n",
    "\n",
    "for i in L:\n",
    "    print(i)"
   ]
  },
  {
   "cell_type": "code",
   "execution_count": 5,
   "id": "85d35d64",
   "metadata": {},
   "outputs": [
    {
     "name": "stdout",
     "output_type": "stream",
     "text": [
      "Fib 1 : 0\n",
      "Fib 2 : 1\n",
      "Fib 3 : 1\n",
      "Fib 4 : 2\n",
      "Fib 5 : 3\n",
      "Fib 6 : 5\n",
      "Fib 7 : 8\n",
      "Fib 8 : 13\n",
      "Fib 9 : 21\n",
      "Fib 10 : 34\n",
      "Fib 11 : 55\n",
      "Fib 12 : 89\n",
      "Fib 13 : 144\n",
      "Fib 14 : 233\n",
      "Fib 15 : 377\n",
      "Fib 16 : 610\n",
      "Fib 17 : 987\n",
      "Fib 18 : 1597\n",
      "Fib 19 : 2584\n"
     ]
    }
   ],
   "source": [
    "#The Fibonacci Sequence:\n",
    "x=0\n",
    "y=1\n",
    "\n",
    "\n",
    "for i in range(1,20):\n",
    "    print('Fib',i,':',x)\n",
    "    x,y = y,x+y"
   ]
  },
  {
   "cell_type": "markdown",
   "id": "1280e3b0",
   "metadata": {},
   "source": [
    "Sometimes we want to use both the placement of an object and the object itself. For this the `enumerate()` function is useful"
   ]
  },
  {
   "cell_type": "code",
   "execution_count": 6,
   "id": "d2788abf",
   "metadata": {},
   "outputs": [
    {
     "name": "stdout",
     "output_type": "stream",
     "text": [
      "0 first\n",
      "1 second\n",
      "2 third\n"
     ]
    }
   ],
   "source": [
    "words = ('first', 'second', 'third')\n",
    "\n",
    "for i, word in enumerate(words): # notice the two \n",
    "    print(i,word)"
   ]
  },
  {
   "cell_type": "markdown",
   "id": "f85475a7",
   "metadata": {},
   "source": [
    "We can also iterate over two objects, in this case, two lists, using `zip()`"
   ]
  },
  {
   "cell_type": "code",
   "execution_count": 7,
   "id": "c47680c1",
   "metadata": {},
   "outputs": [
    {
     "name": "stdout",
     "output_type": "stream",
     "text": [
      "1 one\n",
      "2 two\n",
      "3 three\n",
      "4 four\n"
     ]
    }
   ],
   "source": [
    "a = [1,2,3,4] \n",
    "b = ('one', 'two', 'three', 'four')\n",
    "\n",
    "for i,j in zip(a,b):\n",
    "    print(i, j)"
   ]
  },
  {
   "cell_type": "markdown",
   "id": "5ec639fd",
   "metadata": {},
   "source": [
    "or using dictionaries, the keys will be iterated over. The `.items` attribute will allow you to iterate over both the keys and the values in a similar way to `zip()`."
   ]
  },
  {
   "cell_type": "code",
   "execution_count": 8,
   "id": "f62405cc",
   "metadata": {},
   "outputs": [
    {
     "name": "stdout",
     "output_type": "stream",
     "text": [
      "planck -> 6.62607015e-34\n",
      "speed of light -> 299792458\n",
      "pi -> 3.14159265359\n",
      "\n",
      "\n",
      "planck -> 6.62607015e-34\n",
      "speed of light -> 299792458\n",
      "pi -> 3.14159265359\n"
     ]
    }
   ],
   "source": [
    "QM_Constants = {\n",
    "    'planck' : 6.62607015e-34,\n",
    "    'speed of light' : 299792458,\n",
    "    'pi' : 3.14159265359}\n",
    "\n",
    "for i in QM_Constants: # will iterate over keys of the dictionary\n",
    "    print(i,'->',QM_Constants[i])\n",
    "\n",
    "print('\\n')\n",
    "\n",
    "for i,j in QM_Constants.items(): # .items() makes the dictionary an iterator of two object tuples\n",
    "    print(i,'->',j)"
   ]
  },
  {
   "cell_type": "markdown",
   "id": "09ebe784",
   "metadata": {},
   "source": [
    "**Short exercise**: Write a program that iterates over x, y, z coordinates of a 3D point stored in a dictionary and prints each coordinate with its corresponding axis label (x, y, z).\n",
    "\n",
    "```python\n",
    "point = {'x': 1, 'y': 2, 'z': 3}\n",
    "for axis, value in point.items():\n",
    "    print(f\"{axis}: {value}\")\n",
    "```"
   ]
  },
  {
   "cell_type": "markdown",
   "id": "e17c95f7",
   "metadata": {},
   "source": [
    "## 1.6 Break, Continue, Pass\n",
    "\n",
    "The `break` statement is used to exit a loop prematurely when a certain condition is met.\n",
    "\n",
    "```python\n",
    "for i in range(10):\n",
    "    if i == 5:\n",
    "        break\n",
    "    print(i)\n",
    "```\n",
    "This will print the numbers 0 to 4, and then exit the loop when `i` equals 5.\n",
    "\n",
    "It basically stops a loop. \n",
    "\n",
    "```python\n",
    "i = 0\n",
    "\n",
    "while i==i:\n",
    "    print(i)\n",
    "    i=i+1\n",
    "    if i>5:\n",
    "        print(\"Uh oh! STOP!\")\n",
    "        break # Stops a loop\n",
    "    print(\"I'm still iterating\")\n",
    "```\n",
    "\n",
    "The `continue` statement is used to skip the current iteration of a loop and move on to the next one.\n",
    "\n",
    "```python\n",
    "for i in range(10):\n",
    "    if i>=5:\n",
    "        continue # Moves us to the next iteration in the loop and ignores any code that follows\n",
    "    print(\"i is less than 5\")\n",
    "```\n",
    "\n",
    "The `pass` statement is a placeholder that does nothing. It is often used in situations where a statement is syntactically required but no action is needed.\n",
    "\n",
    "```python\n",
    "for i in range(10):\n",
    "    if i % 2 == 0:\n",
    "        pass  # Do nothing for even numbers\n",
    "    else:\n",
    "        print(i)  # This will print only odd numbers\n",
    "```\n"
   ]
  },
  {
   "cell_type": "markdown",
   "id": "3cda5ae2",
   "metadata": {},
   "source": [
    "## Summary\n",
    "### Algorithm and flow control design:\n",
    "1. Know the physical system you are trying to model and your input data to model it.\n",
    "2. Know the algorithm's goal, defining which are the expected outputs.\n",
    "3. Think about the data types you will be using, and how to structure your data (e.g., lists, dictionaries, arrays).\n",
    "4. Plan the logic, which functions you will need to implement.\n",
    "5. Write a basic scheme or flowchart to help you plan how the analysis needs to be performed, and how to code it.\n",
    "6. Implement the code, testing and modifying the workflow as you go.\n",
    "\n",
    "### Flow control statements:\n",
    "In this section, we have covered the basics of flow control in Python, including conditional statements (`if`, `elif`, `else`), loops (`for` and `while`), and control statements (`break`, `continue`, `pass`). These constructs are fundamental for creating dynamic and responsive programs that can make decisions and repeat actions based on certain conditions. An important note is to keep the indentation consistent, as it defines each block of code in your Python program.\n"
   ]
  }
 ],
 "metadata": {
  "kernelspec": {
   "display_name": "PyQM",
   "language": "python",
   "name": "python3"
  },
  "language_info": {
   "codemirror_mode": {
    "name": "ipython",
    "version": 3
   },
   "file_extension": ".py",
   "mimetype": "text/x-python",
   "name": "python",
   "nbconvert_exporter": "python",
   "pygments_lexer": "ipython3",
   "version": "3.9.23"
  }
 },
 "nbformat": 4,
 "nbformat_minor": 5
}
