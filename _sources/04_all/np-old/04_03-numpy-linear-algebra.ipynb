{
 "cells": [
  {
   "cell_type": "markdown",
   "id": "57b34f2b",
   "metadata": {},
   "source": [
    "# Part 3: Numpy for Linear Algebra"
   ]
  },
  {
   "cell_type": "code",
   "execution_count": 2,
   "id": "58282c07",
   "metadata": {},
   "outputs": [],
   "source": [
    "import numpy as np"
   ]
  },
  {
   "cell_type": "markdown",
   "id": "d600b55b",
   "metadata": {},
   "source": [
    "## 3.1 Scalar Array/Matrix Operations\n",
    "\n",
    "We can perform operations on an array, element-wise, using a scalar."
   ]
  },
  {
   "cell_type": "code",
   "execution_count": 3,
   "id": "c58c8d9d",
   "metadata": {
    "scrolled": true
   },
   "outputs": [
    {
     "name": "stdout",
     "output_type": "stream",
     "text": [
      "[[1. 2.]\n",
      " [3. 4.]] \n",
      "\n",
      "[[2. 4.]\n",
      " [6. 8.]] \n",
      "\n",
      "[[ 1.  4.]\n",
      " [ 9. 16.]] \n",
      "\n",
      "[[0.5 1. ]\n",
      " [1.5 2. ]] \n",
      "\n",
      "[[0. 1.]\n",
      " [1. 2.]] \n",
      "\n",
      "[[3. 4.]\n",
      " [5. 6.]] \n",
      "\n",
      "[[-1.  0.]\n",
      " [ 1.  2.]] \n",
      "\n"
     ]
    }
   ],
   "source": [
    "A = np.array([[1,2],[3,4]], dtype='float')\n",
    "print(A, '\\n')\n",
    "\n",
    "print(2*A,'\\n')\n",
    "\n",
    "print(A**2,'\\n')\n",
    "\n",
    "print(A/2,'\\n')\n",
    "\n",
    "print(A//2,'\\n')\n",
    "\n",
    "print(A+2,'\\n')\n",
    "\n",
    "print(A-2,'\\n')"
   ]
  },
  {
   "cell_type": "markdown",
   "id": "60e2c1c2",
   "metadata": {},
   "source": [
    "## 3.2 Array-Array Operations\n",
    "\n",
    "Recall the section on basic operators in [4.1 Numpy Basics](PyQM_4.1_Numpy_Basics.ipynb) covering the use of the basic mathematical operators ( `+`, `-`, `*`, `/`, ` ** ` ) between Numpy arrays"
   ]
  },
  {
   "cell_type": "code",
   "execution_count": 4,
   "id": "e0655642",
   "metadata": {},
   "outputs": [
    {
     "name": "stdout",
     "output_type": "stream",
     "text": [
      "arr1 + arr2 =  [ 7.  9. 11. 13. 15.]\n",
      "arr1 - arr2 =  [-5. -5. -5. -5. -5.]\n",
      "arr1 * arr2 =  [ 6. 14. 24. 36. 50.]\n",
      "arr1 / arr2 =  [0.16666667 0.28571429 0.375      0.44444444 0.5       ]\n",
      "arr1 ** arr2 =  [1.000000e+00 1.280000e+02 6.561000e+03 2.621440e+05 9.765625e+06]\n"
     ]
    }
   ],
   "source": [
    "arr1 = np.array([1,2,3,4,5])\n",
    "arr2 = np.array([6,7,8,9,10], dtype='float')\n",
    "\n",
    "print('arr1 + arr2 = ', arr1+arr2)\n",
    "print('arr1 - arr2 = ', arr1-arr2)\n",
    "print('arr1 * arr2 = ', arr1*arr2)\n",
    "print('arr1 / arr2 = ', arr1/arr2)\n",
    "print('arr1 ** arr2 = ', arr1**arr2)"
   ]
  },
  {
   "cell_type": "markdown",
   "id": "830abefd",
   "metadata": {},
   "source": [
    "While the above arrays are vectors, we can perform the same operations on higher-dimesnional matrices in the same way:"
   ]
  },
  {
   "cell_type": "code",
   "execution_count": 5,
   "id": "b91f317d",
   "metadata": {},
   "outputs": [
    {
     "name": "stdout",
     "output_type": "stream",
     "text": [
      "[[1 2]\n",
      " [3 4]] \n",
      "\n",
      "[[ 1  4]\n",
      " [ 9 16]]\n"
     ]
    }
   ],
   "source": [
    "A = np.array([[1,2],[3,4]])\n",
    "print(A, '\\n')\n",
    "\n",
    "A = A*A\n",
    "print(A)"
   ]
  },
  {
   "cell_type": "markdown",
   "id": "4a891bba",
   "metadata": {},
   "source": [
    "## 3.3 Matrix Algebra\n",
    "\n",
    "The fundamental matrix operations of matrix multiplication and vector products can be computed in two ways. The first uses the $np.dot()$ function. In the second, we can cast the arrays as matrices using $np.matrix()$, which changes the operators above ( `+`, `-`, `*`) to those of matrix algebra. "
   ]
  },
  {
   "cell_type": "markdown",
   "id": "536b66f9",
   "metadata": {},
   "source": [
    "```np.dot(array1,array2)```"
   ]
  },
  {
   "cell_type": "code",
   "execution_count": 7,
   "id": "4d2a4f24",
   "metadata": {},
   "outputs": [
    {
     "name": "stdout",
     "output_type": "stream",
     "text": [
      "[[1 2]\n",
      " [3 4]] \n",
      "\n",
      "[[1]\n",
      " [2]] \n",
      "\n",
      "[[ 5]\n",
      " [11]]\n"
     ]
    }
   ],
   "source": [
    "m = np.array([[1,2],[3,4]])\n",
    "v = np.array([[1],[2]])\n",
    "\n",
    "print(m, '\\n')\n",
    "print(v, '\\n')\n",
    "\n",
    "mv = np.dot(m,v)\n",
    "print(mv)"
   ]
  },
  {
   "cell_type": "markdown",
   "id": "419aed42",
   "metadata": {},
   "source": [
    "Alternatively, we can use the @ symbol, which matrix multiplies numpy arrays"
   ]
  },
  {
   "cell_type": "code",
   "execution_count": 8,
   "id": "3c796c67",
   "metadata": {},
   "outputs": [
    {
     "name": "stdout",
     "output_type": "stream",
     "text": [
      "[[ 5]\n",
      " [11]]\n"
     ]
    }
   ],
   "source": [
    "print(m@v)"
   ]
  },
  {
   "cell_type": "markdown",
   "id": "28d685bc",
   "metadata": {},
   "source": [
    "```np.vdot(row_vector1,col_vector2)```"
   ]
  },
  {
   "cell_type": "code",
   "execution_count": 26,
   "id": "6a3216db",
   "metadata": {},
   "outputs": [
    {
     "name": "stdout",
     "output_type": "stream",
     "text": [
      "[[1 2]] \n",
      "\n",
      "[[1]\n",
      " [3]] \n",
      "\n",
      "[[7]]\n"
     ]
    }
   ],
   "source": [
    "v1 = np.array([[1,2]])\n",
    "v2 = np.array([[1],[3]])\n",
    "\n",
    "print(v1, '\\n')\n",
    "print(v2, '\\n')\n",
    "\n",
    "vv = np.dot(v1,v2)\n",
    "print(vv)"
   ]
  },
  {
   "cell_type": "markdown",
   "id": "655010c2",
   "metadata": {},
   "source": [
    "```np.matrix(array)```"
   ]
  },
  {
   "cell_type": "code",
   "execution_count": 21,
   "id": "9c112fbc",
   "metadata": {},
   "outputs": [
    {
     "name": "stdout",
     "output_type": "stream",
     "text": [
      "[[ 5]\n",
      " [11]]\n"
     ]
    }
   ],
   "source": [
    "m = np.array([[1,2],[3,4]])\n",
    "v = np.array([[1],[2]])\n",
    "\n",
    "m = np.matrix(m)\n",
    "v = np.matrix(v)\n",
    "\n",
    "mv = m*v\n",
    "\n",
    "print(mv)"
   ]
  },
  {
   "cell_type": "markdown",
   "id": "31b332c2",
   "metadata": {},
   "source": [
    "Or, written more compactly"
   ]
  },
  {
   "cell_type": "code",
   "execution_count": 23,
   "id": "f8e95bc4",
   "metadata": {},
   "outputs": [
    {
     "name": "stdout",
     "output_type": "stream",
     "text": [
      "[[ 5]\n",
      " [11]]\n"
     ]
    }
   ],
   "source": [
    "m = np.matrix([[1,2],[3,4]])\n",
    "v = np.matrix([[1],[2]])\n",
    "\n",
    "print(m*v)"
   ]
  },
  {
   "cell_type": "markdown",
   "id": "8c47ac86",
   "metadata": {},
   "source": [
    "### 3.3.1 The np.linalg Routine \n",
    "\n",
    "We can also calculate various matrix properties using $np.linalg$. All of the $linalg$ methods can be found at https://numpy.org/doc/stable/reference/routines.linalg.html"
   ]
  },
  {
   "cell_type": "markdown",
   "id": "01ae58cc",
   "metadata": {},
   "source": [
    "```np.linalg.inv(matrix)```"
   ]
  },
  {
   "cell_type": "code",
   "execution_count": 32,
   "id": "346faee0",
   "metadata": {},
   "outputs": [
    {
     "name": "stdout",
     "output_type": "stream",
     "text": [
      "[[1 2]\n",
      " [3 4]] \n",
      "\n",
      "[[-2.   1. ]\n",
      " [ 1.5 -0.5]] \n",
      "\n",
      "[[1.0000000e+00 0.0000000e+00]\n",
      " [8.8817842e-16 1.0000000e+00]]\n"
     ]
    }
   ],
   "source": [
    "m = np.array([[1,2],[3,4]])\n",
    "\n",
    "print(m, '\\n')\n",
    "\n",
    "\n",
    "minv = np.linalg.inv(m)\n",
    "print(minv, '\\n')\n",
    "\n",
    "print(np.dot(m,minv))"
   ]
  },
  {
   "cell_type": "markdown",
   "id": "3c02fbc7",
   "metadata": {},
   "source": [
    "```np.linalg.det(matrix)```"
   ]
  },
  {
   "cell_type": "code",
   "execution_count": 33,
   "id": "32311d26",
   "metadata": {},
   "outputs": [
    {
     "name": "stdout",
     "output_type": "stream",
     "text": [
      "[[1 2]\n",
      " [3 4]] \n",
      "\n",
      "-2.0000000000000004 \n",
      "\n"
     ]
    }
   ],
   "source": [
    "m = np.array([[1,2],[3,4]])\n",
    "\n",
    "print(m, '\\n')\n",
    "\n",
    "\n",
    "mdet = np.linalg.det(m)\n",
    "print(mdet, '\\n')"
   ]
  },
  {
   "cell_type": "markdown",
   "id": "c5f78b60",
   "metadata": {},
   "source": [
    "```np.linalg.eig(matrix)```\n",
    "\n",
    "This gives us the eigenvalues and eigenvectors of the matrix in a list. The first element is an array of eigenvalues, the second is a matrix array of the eigenvectors."
   ]
  },
  {
   "cell_type": "code",
   "execution_count": 45,
   "id": "b3d58ff6",
   "metadata": {},
   "outputs": [
    {
     "name": "stdout",
     "output_type": "stream",
     "text": [
      "[[1 2]\n",
      " [3 4]] \n",
      "\n",
      "(array([-0.37228132,  5.37228132]), array([[-0.82456484, -0.41597356],\n",
      "       [ 0.56576746, -0.90937671]])) \n",
      "\n",
      "eigenvalues =  [-0.37228132  5.37228132]\n",
      "eigenvectors =  [[-0.82456484 -0.41597356]\n",
      " [ 0.56576746 -0.90937671]]\n"
     ]
    }
   ],
   "source": [
    "m = np.array([[1,2],[3,4]])\n",
    "\n",
    "print(m, '\\n')\n",
    "\n",
    "\n",
    "meig = np.linalg.eig(m)\n",
    "print(meig, '\\n')\n",
    "\n",
    "print('eigenvalues = ', meig[0])\n",
    "print('eigenvectors = ', meig[1])"
   ]
  },
  {
   "cell_type": "markdown",
   "id": "d92af0ba",
   "metadata": {},
   "source": [
    "We can thus diagonalise the matrix, giving the eigenvalues along the diagonal:"
   ]
  },
  {
   "cell_type": "code",
   "execution_count": 50,
   "id": "7ce137c2",
   "metadata": {},
   "outputs": [
    {
     "name": "stdout",
     "output_type": "stream",
     "text": [
      "[[-0.372  0.   ]\n",
      " [ 0.     5.372]]\n"
     ]
    }
   ],
   "source": [
    "m = np.matrix(m)\n",
    "meigv = np.matrix(meig[1])\n",
    "meigvinv = np.matrix(np.linalg.inv(meig[1]))\n",
    "\n",
    "print(np.round(meigvinv*m*meigv,3))"
   ]
  },
  {
   "cell_type": "markdown",
   "id": "d9bcbac5",
   "metadata": {},
   "source": [
    "```np.linalg.matrix_power```\n",
    "\n",
    "We can find matrix powers:"
   ]
  },
  {
   "cell_type": "code",
   "execution_count": 53,
   "id": "81a23149",
   "metadata": {},
   "outputs": [
    {
     "name": "stdout",
     "output_type": "stream",
     "text": [
      "m*m =  [[ 7 10]\n",
      " [15 22]] \n",
      "\n",
      "m**2 =  [[ 7 10]\n",
      " [15 22]] \n",
      "\n",
      "m**10 =  [[ 4783807  6972050]\n",
      " [10458075 15241882]] \n",
      "\n"
     ]
    }
   ],
   "source": [
    "m = np.array([[1,2],[3,4]])\n",
    "\n",
    "print('m*m = ',np.dot(m,m),'\\n')\n",
    "\n",
    "print('m**2 = ',np.linalg.matrix_power(m,2),'\\n')\n",
    "\n",
    "print('m**10 = ',np.linalg.matrix_power(m,10),'\\n')"
   ]
  },
  {
   "cell_type": "markdown",
   "id": "5add4fb9",
   "metadata": {},
   "source": [
    "## 3.4 Matrix Transformations\n",
    "\n",
    "We can transform matrices/arrays in various ways, finidng transposes and complex conjugates."
   ]
  },
  {
   "cell_type": "code",
   "execution_count": 67,
   "id": "fa4656c1",
   "metadata": {
    "scrolled": true
   },
   "outputs": [
    {
     "name": "stdout",
     "output_type": "stream",
     "text": [
      "A =  [[1.+1.j 2.+2.j]\n",
      " [3.+3.j 4.+4.j]] \n",
      "\n",
      "transpose(A) =  [[1.+1.j 3.+3.j]\n",
      " [2.+2.j 4.+4.j]] \n",
      "\n",
      "conjugate(A) =  [[1.-1.j 2.-2.j]\n",
      " [3.-3.j 4.-4.j]] \n",
      "\n"
     ]
    }
   ],
   "source": [
    "A = np.array([[1+1j,2+ 2j], [3+3j, 4+4j]])\n",
    "\n",
    "print('A = ',A, '\\n')\n",
    "\n",
    "\n",
    "print('transpose(A) = ',np.transpose(A),'\\n')\n",
    "print('conjugate(A) = ',np.conjugate(A),'\\n')"
   ]
  },
  {
   "cell_type": "code",
   "execution_count": 4,
   "id": "167cc8fa",
   "metadata": {},
   "outputs": [
    {
     "name": "stdout",
     "output_type": "stream",
     "text": [
      "transpose(A) =  [[1.+1.j 3.+3.j]\n",
      " [2.+2.j 4.+4.j]] \n",
      "\n"
     ]
    }
   ],
   "source": [
    "A = np.array([[1+1j,2+ 2j], [3+3j, 4+4j]])\n",
    "\n",
    "print('transpose(A) = ',A.T,'\\n')"
   ]
  },
  {
   "cell_type": "code",
   "execution_count": null,
   "id": "dd8cd250",
   "metadata": {},
   "outputs": [],
   "source": []
  },
  {
   "cell_type": "markdown",
   "id": "5f87a09c",
   "metadata": {},
   "source": [
    "We can also use the attributes $.T$ for $np.array$, and $.T$ and $.H$ for $np.matrix$"
   ]
  },
  {
   "cell_type": "code",
   "execution_count": 5,
   "id": "8b8b367c",
   "metadata": {},
   "outputs": [
    {
     "name": "stdout",
     "output_type": "stream",
     "text": [
      "transpose(A) =  [[1.+1.j 3.+3.j]\n",
      " [2.+2.j 4.+4.j]] \n",
      "\n",
      "Hermitian(A) =  [[1.-1.j 3.-3.j]\n",
      " [2.-2.j 4.-4.j]] \n",
      "\n"
     ]
    }
   ],
   "source": [
    "A = np.matrix([[1+1j,2+ 2j], [3+3j, 4+4j]])\n",
    "\n",
    "print('transpose(A) = ',A.T,'\\n')\n",
    "print('Hermitian(A) = ',A.H,'\\n')"
   ]
  }
 ],
 "metadata": {
  "kernelspec": {
   "display_name": "Python 3 (ipykernel)",
   "language": "python",
   "name": "python3"
  },
  "language_info": {
   "codemirror_mode": {
    "name": "ipython",
    "version": 3
   },
   "file_extension": ".py",
   "mimetype": "text/x-python",
   "name": "python",
   "nbconvert_exporter": "python",
   "pygments_lexer": "ipython3",
   "version": "3.9.6"
  }
 },
 "nbformat": 4,
 "nbformat_minor": 5
}
