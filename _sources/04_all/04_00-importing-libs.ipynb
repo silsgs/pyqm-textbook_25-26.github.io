{
 "cells": [
  {
   "cell_type": "markdown",
   "metadata": {
    "cell_id": "00000-9d7b809c-0f50-4890-89d1-968ce40458c6",
    "deepnote_cell_type": "markdown",
    "id": "s3XFhs_4UD9P"
   },
   "source": [
    "# Part 0. Importng Python Libraries\n",
    "\n",
    "As we have seen in previous lectures, Python runs code in modules called libraries. \n",
    "\n",
    "Today we will explore three scientific computing libraries in Python: Numpy, Scipy, and Matplotlib. These libraries are widely used in data science, machine learning, and scientific computing for numerical computations, data manipulation, and visualization.\n",
    "\n",
    "There are some libraries that come pre-installed with Python, but many others need to be installed separately. \n",
    "This is the case of all these three libraries. We need first to install, and then, import them in our code. **Importing a library means making available all its functions and classes.**\n",
    "\n",
    "They are open-source and have extensive documentation and community support. They are also compatible with other popular Python libraries such as Pandas, Scikit-learn, and TensorFlow.\n",
    "\n",
    "## 0.1 Installing Libraries\n",
    "We might have already installed these libraries if you are using the Anaconda environment we created the first week. But in case you need to install them, we can do so using conda or pip:\n",
    "\n",
    "```bash\n",
    "conda install numpy scipy matplotlib\n",
    "pip install numpy scipy matplotlib\n",
    "```\n",
    "\n",
    "This applies to any other library you might want to install in the future. Just replace the library names with the ones you want to install. \n",
    "You can also install specific versions of the libraries by specifying the version number. For example, to install version 1.21.0 of Numpy, you can use:\n",
    "\n",
    "```bash\n",
    "### This is just an example\n",
    "# This code runs in the terminal, not in Python\n",
    "conda install numpy=1.21.0 scipy=1.7.0 matplotlib=3.4.2\n",
    "# or\n",
    "pip install numpy==1.21.0 scipy==1.7.0 matplotlib==3.4.2\n",
    "```\n",
    "\n",
    "## 0.2 Importing Libraries\n",
    "Once the libraries are installed, since they are not included in the standard Python library, we always need to import them in our Python script or Jupyter Notebook using the following commands:\n",
    "\n",
    "```python\n",
    "# This code runs in Python\n",
    "import numpy as np\n",
    "import scipy as sp\n",
    "import matplotlib.pyplot as plt\n",
    "```\n",
    "\n",
    "Here, we are importing Numpy as `np`, Scipy as `sp`, and Matplotlib's `pyplot` module as `plt`. This is a common convention in the Python community and makes it easier to use the libraries in our code.\n",
    "\n",
    "If you don't load them in the beginning of your code, you will get an error when trying to use any of their functions or classes. The error will look like this:\n",
    "\n",
    "```python\n",
    "NameError: name 'np' is not defined\n",
    "```"
   ]
  }
 ],
 "metadata": {
  "colab": {
   "collapsed_sections": [],
   "name": "PyQM_4.2_Numpy_Intro.ipynb",
   "provenance": []
  },
  "deepnote": {},
  "deepnote_execution_queue": [],
  "deepnote_notebook_id": "354f2212-baf0-4f9a-a100-96dd9db6edb2",
  "kernelspec": {
   "display_name": "Python 3 (ipykernel)",
   "language": "python",
   "name": "python3"
  },
  "language_info": {
   "codemirror_mode": {
    "name": "ipython",
    "version": 3
   },
   "file_extension": ".py",
   "mimetype": "text/x-python",
   "name": "python",
   "nbconvert_exporter": "python",
   "pygments_lexer": "ipython3",
   "version": "3.9.6"
  }
 },
 "nbformat": 4,
 "nbformat_minor": 1
}
