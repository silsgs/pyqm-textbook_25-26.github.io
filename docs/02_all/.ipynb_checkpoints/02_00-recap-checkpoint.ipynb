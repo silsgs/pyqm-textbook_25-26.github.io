{
 "cells": [
  {
   "cell_type": "code",
   "execution_count": null,
   "id": "4159a9c0",
   "metadata": {},
   "outputs": [],
   "source": [
    "## Part 0. Review of Week 1\n",
    "\n",
    "- 0.1 Python and Conda recap\n",
    "- 0.2 Git and GitHub recap\n",
    "- 0.3 Python basics recap\n",
    "    - 0.3.1 Variables and Data Types\n",
    "    - 0.3.2 Basic Operations\n",
    "    - 0.3.3 Strings\n",
    "    - 0.3.4 Lists\n",
    "    - 0.3.5 Tuples\n",
    "    - 0.3.6 Sets\n",
    "    - 0.3.7 Dictionaries\n",
    "    - 0.3.8 Functions\n",
    "    - 0.3.9 Modules and Packages"
   ]
  }
 ],
 "metadata": {
  "kernelspec": {
   "display_name": "Python 3 (ipykernel)",
   "language": "python",
   "name": "python3"
  },
  "language_info": {
   "codemirror_mode": {
    "name": "ipython",
    "version": 3
   },
   "file_extension": ".py",
   "mimetype": "text/x-python",
   "name": "python",
   "nbconvert_exporter": "python",
   "pygments_lexer": "ipython3",
   "version": "3.9.23"
  }
 },
 "nbformat": 4,
 "nbformat_minor": 5
}
