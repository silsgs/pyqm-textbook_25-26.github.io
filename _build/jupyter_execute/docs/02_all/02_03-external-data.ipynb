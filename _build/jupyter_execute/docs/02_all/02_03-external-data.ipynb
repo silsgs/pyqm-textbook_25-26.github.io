{
 "cells": [
  {
   "cell_type": "markdown",
   "id": "3e300cd1",
   "metadata": {},
   "source": [
    "# Part 3. Working with external data and files in Python\n",
    "\n",
    "## 3.1 User input\n",
    "The input() function allows to ask for data from the user. It takes a string argument, which is the prompt to display to the user.\n",
    "\n",
    "```python\n",
    "name = input(\"Enter your name: \")\n",
    "print(\"Hello, \" + name)\n",
    "```"
   ]
  },
  {
   "cell_type": "code",
   "execution_count": 1,
   "id": "07abe535",
   "metadata": {},
   "outputs": [
    {
     "ename": "StdinNotImplementedError",
     "evalue": "raw_input was called, but this frontend does not support input requests.",
     "output_type": "error",
     "traceback": [
      "\u001b[0;31m---------------------------------------------------------------------------\u001b[0m",
      "\u001b[0;31mStdinNotImplementedError\u001b[0m                  Traceback (most recent call last)",
      "\u001b[0;32m/var/folders/9b/hnjyg5ld18v94zj022rv_zzm0000gn/T/ipykernel_6541/1338552462.py\u001b[0m in \u001b[0;36m<cell line: 1>\u001b[0;34m()\u001b[0m\n\u001b[0;32m----> 1\u001b[0;31m \u001b[0mname\u001b[0m \u001b[0;34m=\u001b[0m \u001b[0minput\u001b[0m\u001b[0;34m(\u001b[0m\u001b[0;34m'Enter your name: '\u001b[0m\u001b[0;34m)\u001b[0m\u001b[0;34m\u001b[0m\u001b[0;34m\u001b[0m\u001b[0m\n\u001b[0m",
      "\u001b[0;32m~/opt/miniconda3/envs/PyQM/lib/python3.9/site-packages/ipykernel/kernelbase.py\u001b[0m in \u001b[0;36mraw_input\u001b[0;34m(self, prompt)\u001b[0m\n\u001b[1;32m   1279\u001b[0m         \u001b[0;32mif\u001b[0m \u001b[0;32mnot\u001b[0m \u001b[0mself\u001b[0m\u001b[0;34m.\u001b[0m\u001b[0m_allow_stdin\u001b[0m\u001b[0;34m:\u001b[0m\u001b[0;34m\u001b[0m\u001b[0;34m\u001b[0m\u001b[0m\n\u001b[1;32m   1280\u001b[0m             \u001b[0mmsg\u001b[0m \u001b[0;34m=\u001b[0m \u001b[0;34m\"raw_input was called, but this frontend does not support input requests.\"\u001b[0m\u001b[0;34m\u001b[0m\u001b[0;34m\u001b[0m\u001b[0m\n\u001b[0;32m-> 1281\u001b[0;31m             \u001b[0;32mraise\u001b[0m \u001b[0mStdinNotImplementedError\u001b[0m\u001b[0;34m(\u001b[0m\u001b[0mmsg\u001b[0m\u001b[0;34m)\u001b[0m\u001b[0;34m\u001b[0m\u001b[0;34m\u001b[0m\u001b[0m\n\u001b[0m\u001b[1;32m   1282\u001b[0m         return self._input_request(\n\u001b[1;32m   1283\u001b[0m             \u001b[0mstr\u001b[0m\u001b[0;34m(\u001b[0m\u001b[0mprompt\u001b[0m\u001b[0;34m)\u001b[0m\u001b[0;34m,\u001b[0m\u001b[0;34m\u001b[0m\u001b[0;34m\u001b[0m\u001b[0m\n",
      "\u001b[0;31mStdinNotImplementedError\u001b[0m: raw_input was called, but this frontend does not support input requests."
     ]
    }
   ],
   "source": [
    "name = input('Enter your name: ')"
   ]
  },
  {
   "cell_type": "code",
   "execution_count": null,
   "id": "eb0bcb08",
   "metadata": {},
   "outputs": [],
   "source": [
    "entry = input('enter space seperated integers: ')\n",
    "\n",
    "l = entry.split()\n",
    "\n",
    "for i in range(len(l)):\n",
    "    l[i] = int(l[i])\n",
    "\n",
    "print(l)"
   ]
  },
  {
   "cell_type": "markdown",
   "id": "38b51dbb",
   "metadata": {},
   "source": [
    "The data is now stored as a single string called `entry`. This is not particularly useful for working with this data. We shoud put this data into a list and make each element the integer entered.\n",
    "\n",
    "Remebering what we learened about compactifying our code we can write this all in one line.\n",
    "\n",
    "```python\n",
    "l = [int(i) for i in input('enter space seperated integers: ').split()]\n",
    "print(l)\n",
    "```"
   ]
  },
  {
   "cell_type": "markdown",
   "id": "b0916c1a",
   "metadata": {},
   "source": [
    "## 3.2 Reading from File\n",
    "We can read data from a file using the built-in `open()` function. This function takes the filename as an argument and returns a file object. We can then use the `read()` method to read the contents of the file.\n",
    "\n",
    "```python\n",
    "with open('test.txt', 'r') as f:\n",
    "    data = f.read()\n",
    "print(data)\n",
    "``` \n"
   ]
  },
  {
   "cell_type": "markdown",
   "id": "1c0aac70",
   "metadata": {},
   "source": [
    "The file `test.txt` is stored in the same directory as this notebook to save specifying a path. The `'r'` argument in the open function specifies that we are opening this file for reading so this file cannont be editted while open in this way. Within the indented clause the file can be refered to as `f`. \n",
    "\n",
    "We can also iterate through the file which will get each line as a string."
   ]
  },
  {
   "cell_type": "code",
   "execution_count": 13,
   "id": "de35c72e",
   "metadata": {},
   "outputs": [
    {
     "name": "stdout",
     "output_type": "stream",
     "text": [
      "Hello!\n",
      "\n",
      "You are reading this text file.\n",
      "\n",
      "This file has a number of lines of text.\n",
      "\n",
      "\n",
      "\n",
      "Also some empty lines.\n",
      "\n",
      "\n",
      "\n",
      "\n",
      "\n",
      "\n",
      "\n",
      "Thanks for reading!\n"
     ]
    }
   ],
   "source": [
    "with open('test.txt','r') as f:\n",
    "    for line in f:\n",
    "        print(line)"
   ]
  },
  {
   "cell_type": "markdown",
   "id": "5372c7ba",
   "metadata": {},
   "source": [
    "These lines can also be iterated through as they are strings so we can go letter by letter."
   ]
  },
  {
   "cell_type": "code",
   "execution_count": 14,
   "id": "139d5f7c",
   "metadata": {},
   "outputs": [
    {
     "name": "stdout",
     "output_type": "stream",
     "text": [
      "H\n",
      "e\n",
      "l\n",
      "l\n",
      "o\n",
      "!\n",
      "\n",
      "\n",
      "Y\n",
      "o\n",
      "u\n",
      " \n",
      "a\n",
      "r\n",
      "e\n",
      " \n",
      "r\n",
      "e\n",
      "a\n",
      "d\n",
      "i\n",
      "n\n",
      "g\n",
      " \n",
      "t\n",
      "h\n",
      "i\n",
      "s\n",
      " \n",
      "t\n",
      "e\n",
      "x\n",
      "t\n",
      " \n",
      "f\n",
      "i\n",
      "l\n",
      "e\n",
      ".\n",
      "\n",
      "\n",
      "T\n",
      "h\n",
      "i\n",
      "s\n",
      " \n",
      "f\n",
      "i\n",
      "l\n",
      "e\n",
      " \n",
      "h\n",
      "a\n",
      "s\n",
      " \n",
      "a\n",
      " \n",
      "n\n",
      "u\n",
      "m\n",
      "b\n",
      "e\n",
      "r\n",
      " \n",
      "o\n",
      "f\n",
      " \n",
      "l\n",
      "i\n",
      "n\n",
      "e\n",
      "s\n",
      " \n",
      "o\n",
      "f\n",
      " \n",
      "t\n",
      "e\n",
      "x\n",
      "t\n",
      ".\n",
      "\n",
      "\n",
      "\n",
      "\n",
      "A\n",
      "l\n",
      "s\n",
      "o\n",
      " \n",
      "s\n",
      "o\n",
      "m\n",
      "e\n",
      " \n",
      "e\n",
      "m\n",
      "p\n",
      "t\n",
      "y\n",
      " \n",
      "l\n",
      "i\n",
      "n\n",
      "e\n",
      "s\n",
      ".\n",
      "\n",
      "\n",
      "\n",
      "\n",
      "\n",
      "\n",
      "\n",
      "\n",
      "T\n",
      "h\n",
      "a\n",
      "n\n",
      "k\n",
      "s\n",
      " \n",
      "f\n",
      "o\n",
      "r\n",
      " \n",
      "r\n",
      "e\n",
      "a\n",
      "d\n",
      "i\n",
      "n\n",
      "g\n",
      "!\n"
     ]
    }
   ],
   "source": [
    "with open('test.txt','r') as f:\n",
    "    for line in f:\n",
    "        for letter in line:\n",
    "            print(letter)"
   ]
  },
  {
   "cell_type": "markdown",
   "id": "76ecb51b",
   "metadata": {},
   "source": [
    "## 3.3 Writing from File\n",
    "We can write data to a file using the built-in `open()` function with the `'w'` argument. This will open the file for writing. If the file does not exist, it will be created. If the file does exist, it will be overwritten. We can then use the `write()` method to write data to the file.\n",
    "\n",
    "```python\n",
    "with open('output.txt', 'w') as f:\n",
    "    f.write(\"Hello, World!\")\n",
    "```"
   ]
  },
  {
   "cell_type": "markdown",
   "id": "53306da8",
   "metadata": {},
   "source": [
    "Let's say we want to store a list of the first 11 sqaure numbers. First it might be good to make such a list."
   ]
  },
  {
   "cell_type": "code",
   "execution_count": null,
   "id": "28378e6d",
   "metadata": {},
   "outputs": [
    {
     "name": "stdout",
     "output_type": "stream",
     "text": [
      "[0, 1, 4, 9, 16, 25, 36, 49, 64, 81, 100]\n"
     ]
    }
   ],
   "source": [
    "l = [i**2 for i in range(11)]\n",
    "print(l)"
   ]
  },
  {
   "cell_type": "markdown",
   "id": "67362e18",
   "metadata": {},
   "source": [
    "Now we want to store this data for later. We can actually create and write a new file with the following syntax."
   ]
  },
  {
   "cell_type": "code",
   "execution_count": 29,
   "id": "117f1dcc",
   "metadata": {},
   "outputs": [],
   "source": [
    "with open('new_file.txt','w') as nf:\n",
    "    nf.write(str(l))"
   ]
  },
  {
   "cell_type": "markdown",
   "id": "8c08075b",
   "metadata": {},
   "source": [
    "Now we can check what is in this file."
   ]
  },
  {
   "cell_type": "code",
   "execution_count": 30,
   "id": "325df91a",
   "metadata": {},
   "outputs": [
    {
     "name": "stdout",
     "output_type": "stream",
     "text": [
      "[0, 1, 4, 9, 16, 25, 36, 49, 64, 81, 100]\n"
     ]
    }
   ],
   "source": [
    "with open('new_file.txt','r') as nf:\n",
    "    print(nf.read())"
   ]
  },
  {
   "cell_type": "markdown",
   "id": "3db0a60e",
   "metadata": {},
   "source": [
    "It might be best not to have the square brackets present."
   ]
  },
  {
   "cell_type": "code",
   "execution_count": 31,
   "id": "81e1e1f8",
   "metadata": {},
   "outputs": [
    {
     "name": "stdout",
     "output_type": "stream",
     "text": [
      "0,1,4,9,16,25,36,49,64,81,100,\n"
     ]
    }
   ],
   "source": [
    "with open('new_file.txt','w') as nf:\n",
    "    for j in l:\n",
    "        nf.write(str(j)+',')\n",
    "        \n",
    "with open('new_file.txt','r') as nf:\n",
    "    print(nf.read())"
   ]
  },
  {
   "cell_type": "markdown",
   "id": "754fdbd7",
   "metadata": {},
   "source": [
    "It is important to note here that when we use the `'w'` string when opening a file that already exists we will completely rewrite that file. If we simply want to add to this file we can append using `'a'` and if we only want to create a file we can use `'a'`."
   ]
  }
 ],
 "metadata": {
  "deepnote": {},
  "deepnote_execution_queue": [],
  "deepnote_notebook_id": "d61cddb8-edae-476d-8bb8-dcd365220085",
  "kernelspec": {
   "display_name": "PyQM",
   "language": "python",
   "name": "python3"
  },
  "language_info": {
   "codemirror_mode": {
    "name": "ipython",
    "version": 3
   },
   "file_extension": ".py",
   "mimetype": "text/x-python",
   "name": "python",
   "nbconvert_exporter": "python",
   "pygments_lexer": "ipython3",
   "version": "3.9.23"
  }
 },
 "nbformat": 4,
 "nbformat_minor": 5
}